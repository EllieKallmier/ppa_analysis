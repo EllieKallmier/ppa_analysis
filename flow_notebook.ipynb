{
 "cells": [
  {
   "cell_type": "markdown",
   "metadata": {},
   "source": [
    "## Flow for paper modelling different PPA scenarios\n",
    "\n",
    "Outline:\n",
    "1. Basic data analysis: quality of data, basic statistics. For both load and gen\n",
    "2. Select the scenario to be modelled. Variables to define include:\n",
    "    * PPA delivery structure (PaP, shaped, baseload)\n",
    "    * Use of (and params around) demand shifting\n",
    "    * Whether a battery is added and what size\n",
    "3. Create the 'optimal' hybrid profile according to the delivery structure:\n",
    "    * For PaP - 'optimal' is best match to customer load\n",
    "    * For shaped - 'optimal' is best match to customer load (maybe? Or is this just most consistent shape, i.e. most reliable to deliver? Probably this but idk how this would work)\n",
    "    * For baseload - 'optimal' is best match to contract shape\n",
    "4. If load shifting and/or battery operation is involved: add that here\n",
    "5. Compare traces to find key values:\n",
    "    * Matched and unmatched load\n",
    "    * Matched and unmatched contracted generation\n",
    "    * Wholesale value of each match/unmatch load and gen\n",
    "    * Emissions associated with unmatched load\n",
    "6. Calculate reasonable strike price(s) including risk-based premiums. Decide and define firming contract\n",
    "7. Run ppa.calc scripts including firming contract details to receive financial outcomes\n",
    "8. See what happens!"
   ]
  },
  {
   "cell_type": "code",
   "execution_count": 1,
   "metadata": {},
   "outputs": [
    {
     "name": "stdout",
     "output_type": "stream",
     "text": [
      "INFO: Using Python-MIP package version 1.15.0\n"
     ]
    }
   ],
   "source": [
    "# ------------------------------ Packages & Files ------------------------------\n",
    "import pandas as pd\n",
    "import numpy as np\n",
    "import seaborn as sns\n",
    "import seaborn.objects as so\n",
    "import matplotlib.pyplot as plt\n",
    "import plotly.express as px\n",
    "import plotly.graph_objects as go\n",
    "import nemed\n",
    "import ppa, residuals, tariffs, hybrid\n",
    "import calendar\n",
    "import holidays\n",
    "import pprint\n",
    "from mip import Model, xsum, minimize, CONTINUOUS, BINARY, conflict\n",
    "from nemosis import dynamic_data_compiler, static_table\n",
    "from typing import List\n",
    "from plotly.subplots import make_subplots\n",
    "from datetime import datetime, timedelta\n",
    "from getting_data import import_gen_data, import_load_data, import_pricing_data, import_emissions_data\n",
    "from helper_functions import _check_interval_consistency, _check_missing_data, get_interval_length\n",
    "\n",
    "pd.set_option('display.max_rows', None)"
   ]
  },
  {
   "cell_type": "code",
   "execution_count": 2,
   "metadata": {},
   "outputs": [],
   "source": [
    "# -------------------------------- USER INPUTS ---------------------------------\n",
    "\n",
    "# - - - - - - - - - - - - - - - - - - DATA - - - - - - - - - - - - - - - - - - -\n",
    "\n",
    "# load data file name\n",
    "LOAD_FN = '/Users/elliekallmier/Desktop/RA_Work/247_TRUZERO/247_ppa/ppa_analysis/tests/test_file.csv'\n",
    "LOAD_COL_NAME = 'Load'\n",
    "LOAD_TIMEZONE = ''\n",
    "\n",
    "# generation data file name, or, generator DUID(s)\n",
    "# TODO: add function to take input TYPE of generator and select appropriate trace\n",
    "GEN_FN = ''\n",
    "GEN_COL_NAME_S = ''\n",
    "\n",
    "# get name of datetime column for both load and generation files\n",
    "LOAD_DATETIME_COL_NAME = 'TS'\n",
    "GEN_DATETIME_COL_NAME = ''\n",
    "DAY_FIRST = True\n",
    "GEN_TECH_TYPE_S = ['WIND - ONSHORE', 'PHOTOVOLTAIC FLAT PANEL']\n",
    "\n",
    "# Region to fetch generation/pricing/emissions data for:\n",
    "REGION = 'QLD1'\n",
    "\n",
    "# NEMOSIS inputs:\n",
    "RAW_DATA_CACHE = 'data_caches/gen_data_cache'\n",
    "EMISSIONS_CACHE = 'data_caches/nemed_cache'\n",
    "PRICING_CACHE = 'data_caches/pricing_cache'\n",
    "\n",
    "\n",
    "# - - - - - - - - - - - - - - - - - CONTRACT - - - - - - - - - - - - - - - - - -\n",
    "# TODO: fill out\n",
    "DELIVERY_STRUCTURE = ''\n",
    "FIRMING_CONTRACT_TYPE = ''\n",
    "\n",
    "EXPOSURE_BOUND_UPPER = ''\n",
    "EXPOSURE_BOUND_LOWER = '' \n",
    "\n",
    "FLOOR_PRICE = ''\n",
    "\n"
   ]
  },
  {
   "cell_type": "code",
   "execution_count": 3,
   "metadata": {},
   "outputs": [
    {
     "name": "stdout",
     "output_type": "stream",
     "text": [
      "Some missing data found. Filled with zeros.\n",
      "\n"
     ]
    }
   ],
   "source": [
    "# -------------------------------- Get Load Data -------------------------------\n",
    "#   - check dtypes of columns - should all be float, except datetime col.\n",
    "#   - update colname(s)\n",
    "#   - set datetime index\n",
    "#   - get interval length\n",
    "#   - check for NaN/missing data\n",
    "\n",
    "load_data, interval, start_date, end_date = import_load_data.get_load_data(LOAD_FN, LOAD_DATETIME_COL_NAME, LOAD_COL_NAME, DAY_FIRST)"
   ]
  },
  {
   "cell_type": "code",
   "execution_count": 4,
   "metadata": {},
   "outputs": [
    {
     "name": "stdout",
     "output_type": "stream",
     "text": [
      "INFO: Retrieving static table Generators and Scheduled Loads\n",
      "INFO: Downloading data for table Generators and Scheduled Loads\n",
      "INFO: Compiling data for table DISPATCH_UNIT_SCADA\n",
      "INFO: Returning DISPATCH_UNIT_SCADA.\n",
      "Some missing data found. Filled with zeros.\n",
      "\n"
     ]
    }
   ],
   "source": [
    "# ----------------------------- Get Generation Data ----------------------------\n",
    "gen_data = import_gen_data.get_generation_data(RAW_DATA_CACHE, REGION, GEN_TECH_TYPE_S, interval, start_date=start_date, end_date=end_date)"
   ]
  },
  {
   "cell_type": "code",
   "execution_count": 5,
   "metadata": {},
   "outputs": [
    {
     "data": {
      "text/html": [
       "<div>\n",
       "<style scoped>\n",
       "    .dataframe tbody tr th:only-of-type {\n",
       "        vertical-align: middle;\n",
       "    }\n",
       "\n",
       "    .dataframe tbody tr th {\n",
       "        vertical-align: top;\n",
       "    }\n",
       "\n",
       "    .dataframe thead th {\n",
       "        text-align: right;\n",
       "    }\n",
       "</style>\n",
       "<table border=\"1\" class=\"dataframe\">\n",
       "  <thead>\n",
       "    <tr style=\"text-align: right;\">\n",
       "      <th></th>\n",
       "      <th>CSPVPS1: Photovoltaic Flat Panel</th>\n",
       "      <th>COOPGWF1: Wind - Onshore</th>\n",
       "      <th>DDSF1: Photovoltaic Flat Panel</th>\n",
       "      <th>KEPWF1: Wind - Onshore</th>\n",
       "      <th>KSP1: Photovoltaic Flat panel</th>\n",
       "      <th>MEWF1: Wind - Onshore</th>\n",
       "      <th>SMCSF1: Photovoltaic Flat panel</th>\n",
       "      <th>SRSF1: Photovoltaic Flat panel</th>\n",
       "      <th>WARWSF1: Photovoltaic Flat Panel</th>\n",
       "      <th>WARWSF2: Photovoltaic Flat Panel</th>\n",
       "    </tr>\n",
       "    <tr>\n",
       "      <th>DateTime</th>\n",
       "      <th></th>\n",
       "      <th></th>\n",
       "      <th></th>\n",
       "      <th></th>\n",
       "      <th></th>\n",
       "      <th></th>\n",
       "      <th></th>\n",
       "      <th></th>\n",
       "      <th></th>\n",
       "      <th></th>\n",
       "    </tr>\n",
       "  </thead>\n",
       "  <tbody>\n",
       "    <tr>\n",
       "      <th>2022-01-01</th>\n",
       "      <td>0.0</td>\n",
       "      <td>286.062</td>\n",
       "      <td>0.0</td>\n",
       "      <td>9.878</td>\n",
       "      <td>0.0</td>\n",
       "      <td>0.0</td>\n",
       "      <td>0.0</td>\n",
       "      <td>0.0</td>\n",
       "      <td>0.0</td>\n",
       "      <td>0.0</td>\n",
       "    </tr>\n",
       "  </tbody>\n",
       "</table>\n",
       "</div>"
      ],
      "text/plain": [
       "            CSPVPS1: Photovoltaic Flat Panel  COOPGWF1: Wind - Onshore  \\\n",
       "DateTime                                                                 \n",
       "2022-01-01                               0.0                   286.062   \n",
       "\n",
       "            DDSF1: Photovoltaic Flat Panel  KEPWF1: Wind - Onshore  \\\n",
       "DateTime                                                             \n",
       "2022-01-01                             0.0                   9.878   \n",
       "\n",
       "            KSP1: Photovoltaic Flat panel  MEWF1: Wind - Onshore  \\\n",
       "DateTime                                                           \n",
       "2022-01-01                            0.0                    0.0   \n",
       "\n",
       "            SMCSF1: Photovoltaic Flat panel  SRSF1: Photovoltaic Flat panel  \\\n",
       "DateTime                                                                      \n",
       "2022-01-01                              0.0                             0.0   \n",
       "\n",
       "            WARWSF1: Photovoltaic Flat Panel  WARWSF2: Photovoltaic Flat Panel  \n",
       "DateTime                                                                        \n",
       "2022-01-01                               0.0                               0.0  "
      ]
     },
     "execution_count": 5,
     "metadata": {},
     "output_type": "execute_result"
    }
   ],
   "source": [
    "gen_data.head(1)"
   ]
  },
  {
   "cell_type": "code",
   "execution_count": 6,
   "metadata": {},
   "outputs": [
    {
     "name": "stdout",
     "output_type": "stream",
     "text": [
      "INFO: Processing total emissions from 2021-12-31 to 2022-01-01\n",
      "INFO: Compiling data for table DISPATCH_UNIT_SCADA\n",
      "INFO: Returning DISPATCH_UNIT_SCADA.\n",
      "INFO: Compiling Energy from Dispatch\n",
      "INFO: Processing total emissions from 2022-01-01 to 2022-01-31\n",
      "INFO: Compiling data for table DISPATCH_UNIT_SCADA\n",
      "INFO: Returning DISPATCH_UNIT_SCADA.\n",
      "INFO: Compiling Energy from Dispatch\n",
      "INFO: Loading results file processed_co2_total_2021-12-31_2022-01-01.parquet\n",
      "INFO: Loading results file processed_co2_total_2022-01-01_2022-01-31.parquet\n",
      "INFO: Completed get_total_emissions_by_DI_DUID\n",
      "INFO: Compiling data for table DISPATCHPRICE\n",
      "INFO: Returning DISPATCHPRICE.\n"
     ]
    }
   ],
   "source": [
    "# ------------------------ Get Pricing & Emissions Data ------------------------\n",
    "emissions_intensity = import_emissions_data.get_avg_emissions_intensity(\n",
    "    start_date, end_date, EMISSIONS_CACHE, [REGION], period=f'{interval}min'\n",
    ")\n",
    "\n",
    "price_data = import_pricing_data.get_wholesale_price_data(\n",
    "    start_date, end_date, PRICING_CACHE, [REGION], period=f'{interval}min'\n",
    ")"
   ]
  },
  {
   "cell_type": "code",
   "execution_count": 7,
   "metadata": {},
   "outputs": [
    {
     "data": {
      "text/html": [
       "<div>\n",
       "<style scoped>\n",
       "    .dataframe tbody tr th:only-of-type {\n",
       "        vertical-align: middle;\n",
       "    }\n",
       "\n",
       "    .dataframe tbody tr th {\n",
       "        vertical-align: top;\n",
       "    }\n",
       "\n",
       "    .dataframe thead th {\n",
       "        text-align: right;\n",
       "    }\n",
       "</style>\n",
       "<table border=\"1\" class=\"dataframe\">\n",
       "  <thead>\n",
       "    <tr style=\"text-align: right;\">\n",
       "      <th>REGIONID</th>\n",
       "      <th>RRP: QLD1</th>\n",
       "    </tr>\n",
       "    <tr>\n",
       "      <th>DateTime</th>\n",
       "      <th></th>\n",
       "    </tr>\n",
       "  </thead>\n",
       "  <tbody>\n",
       "    <tr>\n",
       "      <th>2022-01-01</th>\n",
       "      <td>116.675116</td>\n",
       "    </tr>\n",
       "  </tbody>\n",
       "</table>\n",
       "</div>"
      ],
      "text/plain": [
       "REGIONID     RRP: QLD1\n",
       "DateTime              \n",
       "2022-01-01  116.675116"
      ]
     },
     "execution_count": 7,
     "metadata": {},
     "output_type": "execute_result"
    }
   ],
   "source": [
    "price_data.head(1)"
   ]
  },
  {
   "cell_type": "code",
   "execution_count": null,
   "metadata": {},
   "outputs": [],
   "source": [
    "# Now combine all of the data together:\n",
    "\n",
    "combined_data = pd.concat([load_data, gen_data, price_data, emissions_intensity], axis='columns')"
   ]
  },
  {
   "cell_type": "code",
   "execution_count": null,
   "metadata": {},
   "outputs": [],
   "source": []
  }
 ],
 "metadata": {
  "kernelspec": {
   "display_name": "env",
   "language": "python",
   "name": "python3"
  },
  "language_info": {
   "codemirror_mode": {
    "name": "ipython",
    "version": 3
   },
   "file_extension": ".py",
   "mimetype": "text/x-python",
   "name": "python",
   "nbconvert_exporter": "python",
   "pygments_lexer": "ipython3",
   "version": "3.11.3"
  }
 },
 "nbformat": 4,
 "nbformat_minor": 2
}
