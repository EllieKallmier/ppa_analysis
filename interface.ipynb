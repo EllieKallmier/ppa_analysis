{
 "cells": [
  {
   "cell_type": "code",
   "execution_count": 9,
   "metadata": {
    "editable": true,
    "slideshow": {
     "slide_type": ""
    },
    "tags": []
   },
   "outputs": [],
   "source": [
    "# ------------------------------ Packages & Files ------------------------------\n",
    "from pathlib import Path\n",
    "\n",
    "import pandas as pd\n",
    "import plotly.express as px\n",
    "import plotly.graph_objects as go\n",
    "from plotly.subplots import make_subplots\n",
    "\n",
    "import ipywidgets as widgets\n",
    "from IPython.display import display, HTML\n",
    "\n",
    "from ppa_analysis import user_inputs, advanced_settings, hybrid, import_data,\\\n",
    "    bill_calc, battery, firming_contracts"
   ]
  },
  {
   "cell_type": "code",
   "execution_count": 10,
   "metadata": {
    "editable": true,
    "hidden": true,
    "slideshow": {
     "slide_type": ""
    }
   },
   "outputs": [
    {
     "data": {
      "text/html": [
       "\n",
       "        <style>\n",
       "        .widget-label { min-width: 30ex !important; }\n",
       "        .widget-select select { min-width: 70ex !important; }\n",
       "        .widget-dropdown select { min-width: 70ex !important; }\n",
       "        .widget-floattext input { min-width: 70ex !important; }\n",
       "        </style>\n",
       "        "
      ],
      "text/plain": [
       "<IPython.core.display.HTML object>"
      ]
     },
     "metadata": {},
     "output_type": "display_data"
    },
    {
     "data": {
      "text/html": [
       "\n",
       "        <h3>Historical data selection:</h3>\n",
       "        "
      ],
      "text/plain": [
       "<IPython.core.display.HTML object>"
      ]
     },
     "metadata": {},
     "output_type": "display_data"
    },
    {
     "name": "stdout",
     "output_type": "stream",
     "text": [
      "C:\\Users\\nick\\Documents\\GitHub\\ppa_analysis\n",
      "data_caches\\yearly_data_files\n"
     ]
    },
    {
     "data": {
      "application/vnd.jupyter.widget-view+json": {
       "model_id": "e78d53a7b4c94a198fe6875fe383fda5",
       "version_major": 2,
       "version_minor": 0
      },
      "text/plain": [
       "Dropdown(description='Year:', options=('2020', '2021'), value='2020')"
      ]
     },
     "metadata": {},
     "output_type": "display_data"
    },
    {
     "data": {
      "application/vnd.jupyter.widget-view+json": {
       "model_id": "72931f26ff2342969215e5e9f6f942d1",
       "version_major": 2,
       "version_minor": 0
      },
      "text/plain": [
       "Dropdown(description='Generator region:', options=('QLD1', 'NSW1', 'VIC1', 'SA1', 'TAS1'), value='QLD1')"
      ]
     },
     "metadata": {},
     "output_type": "display_data"
    },
    {
     "data": {
      "application/vnd.jupyter.widget-view+json": {
       "model_id": "73f4558a25884262bb79418b5d4efc3e",
       "version_major": 2,
       "version_minor": 0
      },
      "text/plain": [
       "Dropdown(description='Load region:', options=('QLD1', 'NSW1', 'VIC1', 'SA1', 'TAS1'), value='QLD1')"
      ]
     },
     "metadata": {},
     "output_type": "display_data"
    },
    {
     "data": {
      "application/vnd.jupyter.widget-view+json": {
       "model_id": "647594a8ef9c411a850cef62d7561c32",
       "version_major": 2,
       "version_minor": 0
      },
      "text/plain": [
       "Dropdown(description='Load data file:', options=('(18) Hospital NQ.csv', '(20) Sawmill WB.csv', '(22) Hospital…"
      ]
     },
     "metadata": {},
     "output_type": "display_data"
    },
    {
     "data": {
      "application/vnd.jupyter.widget-view+json": {
       "model_id": "9069963ba96a44298da1edf3638f5b6f",
       "version_major": 2,
       "version_minor": 0
      },
      "text/plain": [
       "SelectMultiple(description='Generators:', index=(0, 1, 2, 3), options=('CSPVPS1: PHOTOVOLTAIC FLAT PANEL', 'CO…"
      ]
     },
     "metadata": {},
     "output_type": "display_data"
    },
    {
     "data": {
      "text/html": [
       "\n",
       "        <h3>Contract paramters:</h3>\n",
       "        "
      ],
      "text/plain": [
       "<IPython.core.display.HTML object>"
      ]
     },
     "metadata": {},
     "output_type": "display_data"
    },
    {
     "data": {
      "text/html": [
       "\n",
       "        <h4> - All contracts:</h4>\n",
       "        "
      ],
      "text/plain": [
       "<IPython.core.display.HTML object>"
      ]
     },
     "metadata": {},
     "output_type": "display_data"
    },
    {
     "data": {
      "application/vnd.jupyter.widget-view+json": {
       "model_id": "a92a57d68f8c44b99ae696110837c2eb",
       "version_major": 2,
       "version_minor": 0
      },
      "text/plain": [
       "Dropdown(description='Contract type:', options=('Pay as Produced', 'Pay as Consumed', 'Shaped', 'Baseload', '2…"
      ]
     },
     "metadata": {},
     "output_type": "display_data"
    },
    {
     "data": {
      "application/vnd.jupyter.widget-view+json": {
       "model_id": "1aa242546e804d3ab7f721b84d7b0418",
       "version_major": 2,
       "version_minor": 0
      },
      "text/plain": [
       "Dropdown(description='Firming contract type:', options=('Wholesale exposed', 'Partially wholesale exposed', 'R…"
      ]
     },
     "metadata": {},
     "output_type": "display_data"
    },
    {
     "data": {
      "application/vnd.jupyter.widget-view+json": {
       "model_id": "badfd9fdd55d4975b8f2d3def1cdeabf",
       "version_major": 2,
       "version_minor": 0
      },
      "text/plain": [
       "Dropdown(description='Settlment period:', options=('Y', 'M', 'Q'), value='Y')"
      ]
     },
     "metadata": {},
     "output_type": "display_data"
    },
    {
     "data": {
      "application/vnd.jupyter.widget-view+json": {
       "model_id": "a2b0f3b2abdb4c8b8f32cf2add3a7cce",
       "version_major": 2,
       "version_minor": 0
      },
      "text/plain": [
       "BoundedFloatText(value=100.0, description='Contract amount (%):')"
      ]
     },
     "metadata": {},
     "output_type": "display_data"
    },
    {
     "data": {
      "application/vnd.jupyter.widget-view+json": {
       "model_id": "b67ec27872ef47f5a814a4413582f0bb",
       "version_major": 2,
       "version_minor": 0
      },
      "text/plain": [
       "FloatText(value=100.0, description='Strike price ($/MW/h):')"
      ]
     },
     "metadata": {},
     "output_type": "display_data"
    },
    {
     "data": {
      "application/vnd.jupyter.widget-view+json": {
       "model_id": "4cd5cfb2fd764f97bf785e19e184d315",
       "version_major": 2,
       "version_minor": 0
      },
      "text/plain": [
       "FloatText(value=35.0, description='LGC buy price ($/MW/h):')"
      ]
     },
     "metadata": {},
     "output_type": "display_data"
    },
    {
     "data": {
      "application/vnd.jupyter.widget-view+json": {
       "model_id": "0eea1c6bd0c24d3abaee442870df1501",
       "version_major": 2,
       "version_minor": 0
      },
      "text/plain": [
       "FloatText(value=20.0, description='LGC sell price ($/MW/h):')"
      ]
     },
     "metadata": {},
     "output_type": "display_data"
    },
    {
     "data": {
      "application/vnd.jupyter.widget-view+json": {
       "model_id": "5df5678c094a4420a3b7965cb2533bb6",
       "version_major": 2,
       "version_minor": 0
      },
      "text/plain": [
       "FloatText(value=25.0, description='Short fall penalty ($/MW/h):')"
      ]
     },
     "metadata": {},
     "output_type": "display_data"
    },
    {
     "data": {
      "application/vnd.jupyter.widget-view+json": {
       "model_id": "4c35cad85ac44999befdff2776ebe508",
       "version_major": 2,
       "version_minor": 0
      },
      "text/plain": [
       "BoundedFloatText(value=85.0, description='Guaranteed percentage (%):')"
      ]
     },
     "metadata": {},
     "output_type": "display_data"
    },
    {
     "data": {
      "application/vnd.jupyter.widget-view+json": {
       "model_id": "991c35ff559b47edbbf8978a0185aefe",
       "version_major": 2,
       "version_minor": 0
      },
      "text/plain": [
       "FloatText(value=65.0, description='Floor price ($/MW/h):')"
      ]
     },
     "metadata": {},
     "output_type": "display_data"
    },
    {
     "data": {
      "application/vnd.jupyter.widget-view+json": {
       "model_id": "4d306d5e2f5a4f4c801fcc3a07232031",
       "version_major": 2,
       "version_minor": 0
      },
      "text/plain": [
       "FloatText(value=65.0, description='Excess price ($/MW/h):')"
      ]
     },
     "metadata": {},
     "output_type": "display_data"
    },
    {
     "data": {
      "application/vnd.jupyter.widget-view+json": {
       "model_id": "51e3e193c5e64c9cbe7cf52858c47128",
       "version_major": 2,
       "version_minor": 0
      },
      "text/plain": [
       "BoundedFloatText(value=1.0, description='Indexation (%):')"
      ]
     },
     "metadata": {},
     "output_type": "display_data"
    },
    {
     "data": {
      "application/vnd.jupyter.widget-view+json": {
       "model_id": "8da30bb439c447eca1e86d78800255b9",
       "version_major": 2,
       "version_minor": 0
      },
      "text/plain": [
       "Dropdown(description='Index period:', options=('Y',), value='Y')"
      ]
     },
     "metadata": {},
     "output_type": "display_data"
    },
    {
     "data": {
      "text/html": [
       "\n",
       "        <h4> - Shaped and baseload contracts only:</h4>\n",
       "        "
      ],
      "text/plain": [
       "<IPython.core.display.HTML object>"
      ]
     },
     "metadata": {},
     "output_type": "display_data"
    },
    {
     "data": {
      "application/vnd.jupyter.widget-view+json": {
       "model_id": "cfefc47c79884abfae049c8e988e757d",
       "version_major": 2,
       "version_minor": 0
      },
      "text/plain": [
       "Dropdown(description='Redefine period:', index=2, options=('Y', 'Q', 'M'), value='M')"
      ]
     },
     "metadata": {},
     "output_type": "display_data"
    },
    {
     "data": {
      "text/html": [
       "\n",
       "        <h4> - Shaped contracts only:</h4>\n",
       "        "
      ],
      "text/plain": [
       "<IPython.core.display.HTML object>"
      ]
     },
     "metadata": {},
     "output_type": "display_data"
    },
    {
     "data": {
      "application/vnd.jupyter.widget-view+json": {
       "model_id": "7ef6752ee26b462e9fb2d6c04546cf3b",
       "version_major": 2,
       "version_minor": 0
      },
      "text/plain": [
       "BoundedFloatText(value=1.0, description='Matching percentile:')"
      ]
     },
     "metadata": {},
     "output_type": "display_data"
    },
    {
     "data": {
      "text/html": [
       "\n",
       "        <h4> - Wholesale exposure only:</h4>\n",
       "        "
      ],
      "text/plain": [
       "<IPython.core.display.HTML object>"
      ]
     },
     "metadata": {},
     "output_type": "display_data"
    },
    {
     "data": {
      "application/vnd.jupyter.widget-view+json": {
       "model_id": "6f26487e7aaa4f9ab04a5f756d1019a4",
       "version_major": 2,
       "version_minor": 0
      },
      "text/plain": [
       "FloatText(value=300.0, description='Exposure upper bound ($/MW/h):')"
      ]
     },
     "metadata": {},
     "output_type": "display_data"
    },
    {
     "data": {
      "application/vnd.jupyter.widget-view+json": {
       "model_id": "f506bf56ce014b25a84902ff28ecd163",
       "version_major": 2,
       "version_minor": 0
      },
      "text/plain": [
       "FloatText(value=20.0, description='Exposure lower bound ($/MW/h):')"
      ]
     },
     "metadata": {},
     "output_type": "display_data"
    },
    {
     "data": {
      "text/html": [
       "\n",
       "        <h4> - Analysis paramters:</h4>\n",
       "        "
      ],
      "text/plain": [
       "<IPython.core.display.HTML object>"
      ]
     },
     "metadata": {},
     "output_type": "display_data"
    },
    {
     "data": {
      "application/vnd.jupyter.widget-view+json": {
       "model_id": "210fe6d9f46147029962c869e7c2411f",
       "version_major": 2,
       "version_minor": 0
      },
      "text/plain": [
       "Dropdown(description='Time series interval:', options=('60',), value='60')"
      ]
     },
     "metadata": {},
     "output_type": "display_data"
    },
    {
     "data": {
      "application/vnd.jupyter.widget-view+json": {
       "model_id": "ee5a7c5d0aaf47ee94d9ba0239fc1627",
       "version_major": 2,
       "version_minor": 0
      },
      "text/plain": [
       "Dropdown(description='Generator data set:', options=('GenCost 2018 Low',), value='GenCost 2018 Low')"
      ]
     },
     "metadata": {},
     "output_type": "display_data"
    }
   ],
   "source": [
    "# ------------------------------ Initialise the input collector ----------------\n",
    "input_collector = user_inputs.launch_input_collector()"
   ]
  },
  {
   "cell_type": "code",
   "execution_count": 11,
   "metadata": {},
   "outputs": [
    {
     "data": {
      "application/vnd.jupyter.widget-view+json": {
       "model_id": "d48e24c275f84e7ab9743a6edde53a0a",
       "version_major": 2,
       "version_minor": 0
      },
      "text/plain": [
       "Output()"
      ]
     },
     "metadata": {},
     "output_type": "display_data"
    }
   ],
   "source": [
    "generator_data_editor = user_inputs.launch_generator_data_editor(input_collector)"
   ]
  },
  {
   "cell_type": "code",
   "execution_count": 12,
   "metadata": {},
   "outputs": [],
   "source": [
    "# ------------------- Unpack LCOE Inputs -------------------------\n",
    "\n",
    "# Calculate LCOE from user inputs/predetermined values\n",
    "# Function takes in the  generator LCOE info dictionary, and calculates LCOE\n",
    "# for only one generator with each call.\n",
    "# Returns LCOE value in $/MW\n",
    "def calculate_lcoe(\n",
    "    generator_info:dict[str:object]        \n",
    ") -> float:\n",
    "    \n",
    "    # Baseline assumptions:\n",
    "    lifetime_years = 25\n",
    "    discount_rate = 0.07         # AEMC uses 6-8.5% for all technologies\n",
    "\n",
    "    capital_cost = generator_info['capital'].value * generator_info['capacity'].value\n",
    "    numerator, denominator = 0, 0\n",
    "    for year in range(1,lifetime_years+1):\n",
    "        kwh_in_year_n = generator_info['capacity_factor'].value*generator_info['capacity'].value*(365*24)   # Note: this doesn't currently account for leap years!\n",
    "        numerator += (generator_info['fixed_om'].value * generator_info['capacity'].value\\\n",
    "                      + generator_info['variable_om'].value * kwh_in_year_n) / \\\n",
    "                        ((1 + discount_rate) ** year)\n",
    "        denominator += (kwh_in_year_n) / ((1 + discount_rate) ** year)\n",
    "    numerator += capital_cost\n",
    "\n",
    "    return (numerator / denominator)  * 1000\n",
    "\n",
    "\n",
    "# ----- Fetch inputs and set up info_dict data to pass to later functions:\n",
    "def get_all_lcoes(\n",
    "        generator_data_editor:dict[str:dict[str:object]]\n",
    ") -> dict[str:float]:\n",
    "    all_generator_lcoes = {}\n",
    "    for gen, gen_info in generator_data_editor.items():\n",
    "        if gen != 'out':\n",
    "            gen_lcoe = calculate_lcoe(gen_info)\n",
    "            all_generator_lcoes[gen] = gen_lcoe\n",
    "    \n",
    "    return all_generator_lcoes\n"
   ]
  },
  {
   "cell_type": "code",
   "execution_count": 13,
   "metadata": {},
   "outputs": [],
   "source": [
    "# Maybe this function is where the load gets pulled in, all the other data collecting\n",
    "# functions get called etc\n",
    "\n",
    "def collect_and_combine_data(\n",
    "        input_collector:dict\n",
    ") -> pd.DataFrame:    \n",
    "    # ----------------------------- Unpack user input ------------------------------\n",
    "    year_to_load_from_cache = input_collector['year'].value\n",
    "    year_to_load = int(year_to_load_from_cache)\n",
    "    GENERATOR_REGION = input_collector['generator_region'].value\n",
    "    LOAD_REGION = input_collector['load_region'].value\n",
    "    generators = list(input_collector['generators'].value)\n",
    "\n",
    "    # ------------------- Get Load Data --------------------\n",
    "    # if using preset data, use these hard coded values:\n",
    "    LOAD_DATA_DIR = 'data_caches/c_and_i_customer_loads'\n",
    "    load_filename = input_collector['load_data_file'].value\n",
    "    filepath = LOAD_DATA_DIR + '/' + load_filename\n",
    "    LOAD_DATETIME_COL_NAME = 'TS'\n",
    "    LOAD_COL_NAME = 'Load'\n",
    "    DAY_FIRST = True\n",
    "\n",
    "    # Units are definitely a question.\n",
    "    load_data, start_date, end_date = import_data.get_load_data(filepath, LOAD_DATETIME_COL_NAME, LOAD_COL_NAME, DAY_FIRST)\n",
    "    load_data = load_data / 1000    # convert to MWh\n",
    "    load_data = load_data[\n",
    "        (load_data.index >= f'{year_to_load}-01-01 00:00:00') & \n",
    "        (load_data.index < f'{year_to_load+1}-01-01 00:00:00')\n",
    "    ]\n",
    "\n",
    "    # else: TODO add another option here if users want to load in their own data\n",
    "\n",
    "    # ----------------------------- Get Generation Data ----------------------------\n",
    "    gen_data_file = (\n",
    "        advanced_settings.YEARLY_DATA_CACHE / \n",
    "        f'gen_data_{year_to_load_from_cache}.parquet'\n",
    "    )\n",
    "    gen_data = import_data.get_preprocessed_gen_data(\n",
    "        gen_data_file, [GENERATOR_REGION]\n",
    "    )\n",
    "    gen_data = gen_data[generators]\n",
    "\n",
    "    # --------------------------- Get Emissions Data -------------------------------\n",
    "    emissions_data_file = (\n",
    "        advanced_settings.YEARLY_DATA_CACHE / \n",
    "        f'emissions_data_{year_to_load_from_cache}.parquet'\n",
    "    )\n",
    "    emissions_intensity = import_data.get_preprocessed_avg_intensity_emissions_data(\n",
    "        emissions_data_file, [LOAD_REGION, GENERATOR_REGION]\n",
    "    )\n",
    "\n",
    "    # ------------------------ Get Wholesale Price Data ----------------------------\n",
    "    price_data_file = (\n",
    "        advanced_settings.YEARLY_DATA_CACHE / \n",
    "        f'price_data_{year_to_load_from_cache}.parquet'\n",
    "    )\n",
    "    price_data = import_data.get_preprocessed_price_data(\n",
    "        price_data_file, [LOAD_REGION, GENERATOR_REGION]\n",
    "    )\n",
    "\n",
    "    combined_data = pd.concat([load_data, gen_data, price_data, emissions_intensity], axis='columns')\n",
    "\n",
    "    FIRMING_CONTRACT_TYPE = input_collector['firming_contract_type'].value\n",
    "    EXPOSURE_BOUND_UPPER = input_collector['exposure_upper_bound'].value\n",
    "    EXPOSURE_BOUND_LOWER = input_collector['exposure_lower_bound'].value\n",
    "    RETAIL_TARIFF_DETAILS = {}\n",
    "\n",
    "    # Add the firming details:\n",
    "    combined_data = firming_contracts.choose_firming_type(\n",
    "        FIRMING_CONTRACT_TYPE, combined_data, [LOAD_REGION], EXPOSURE_BOUND_UPPER, EXPOSURE_BOUND_LOWER, RETAIL_TARIFF_DETAILS\n",
    "    )\n",
    "\n",
    "    return combined_data"
   ]
  },
  {
   "cell_type": "code",
   "execution_count": 14,
   "metadata": {},
   "outputs": [
    {
     "name": "stdout",
     "output_type": "stream",
     "text": [
      "Some missing data found. Filled with zeros.\n",
      "\n"
     ]
    }
   ],
   "source": [
    "# At the moment: this is all assuming the use of sample load data stored with the tool\n",
    "\n",
    "gen_info = get_all_lcoes(generator_data_editor)\n",
    "combined_data = collect_and_combine_data(input_collector)\n",
    "\n",
    "# Had an issue with first row containing a few NaN values causing problems for \n",
    "# the firming column addition. But just using dropna without checks not a safe bet\n",
    "# necessarily...\n",
    "combined_data = combined_data.dropna(how='any', axis='rows')"
   ]
  },
  {
   "cell_type": "code",
   "execution_count": 15,
   "metadata": {},
   "outputs": [
    {
     "data": {
      "text/html": [
       "<div>\n",
       "<style scoped>\n",
       "    .dataframe tbody tr th:only-of-type {\n",
       "        vertical-align: middle;\n",
       "    }\n",
       "\n",
       "    .dataframe tbody tr th {\n",
       "        vertical-align: top;\n",
       "    }\n",
       "\n",
       "    .dataframe thead th {\n",
       "        text-align: right;\n",
       "    }\n",
       "</style>\n",
       "<table border=\"1\" class=\"dataframe\">\n",
       "  <thead>\n",
       "    <tr style=\"text-align: right;\">\n",
       "      <th></th>\n",
       "      <th>Load</th>\n",
       "      <th>CSPVPS1: PHOTOVOLTAIC FLAT PANEL</th>\n",
       "      <th>COOPGWF1: WIND - ONSHORE</th>\n",
       "      <th>DDSF1: PHOTOVOLTAIC FLAT PANEL</th>\n",
       "      <th>KSP1: PHOTOVOLTAIC FLAT PANEL</th>\n",
       "      <th>RRP: QLD1</th>\n",
       "      <th>AEI: QLD1</th>\n",
       "      <th>Firming price: QLD1</th>\n",
       "    </tr>\n",
       "    <tr>\n",
       "      <th>DateTime</th>\n",
       "      <th></th>\n",
       "      <th></th>\n",
       "      <th></th>\n",
       "      <th></th>\n",
       "      <th></th>\n",
       "      <th></th>\n",
       "      <th></th>\n",
       "      <th></th>\n",
       "    </tr>\n",
       "  </thead>\n",
       "  <tbody>\n",
       "    <tr>\n",
       "      <th>2020-01-01 01:00:00</th>\n",
       "      <td>1.375219</td>\n",
       "      <td>0.00000</td>\n",
       "      <td>78.052959</td>\n",
       "      <td>0.000000</td>\n",
       "      <td>0.0</td>\n",
       "      <td>51.169856</td>\n",
       "      <td>0.857502</td>\n",
       "      <td>51.169856</td>\n",
       "    </tr>\n",
       "    <tr>\n",
       "      <th>2020-01-01 02:00:00</th>\n",
       "      <td>1.368420</td>\n",
       "      <td>0.00000</td>\n",
       "      <td>80.647394</td>\n",
       "      <td>0.000000</td>\n",
       "      <td>0.0</td>\n",
       "      <td>51.729121</td>\n",
       "      <td>0.856617</td>\n",
       "      <td>51.729121</td>\n",
       "    </tr>\n",
       "    <tr>\n",
       "      <th>2020-01-01 03:00:00</th>\n",
       "      <td>1.380368</td>\n",
       "      <td>0.00000</td>\n",
       "      <td>69.206657</td>\n",
       "      <td>0.000000</td>\n",
       "      <td>0.0</td>\n",
       "      <td>51.434404</td>\n",
       "      <td>0.857574</td>\n",
       "      <td>51.434404</td>\n",
       "    </tr>\n",
       "    <tr>\n",
       "      <th>2020-01-01 04:00:00</th>\n",
       "      <td>1.292280</td>\n",
       "      <td>0.00000</td>\n",
       "      <td>59.052380</td>\n",
       "      <td>0.000000</td>\n",
       "      <td>0.0</td>\n",
       "      <td>48.489593</td>\n",
       "      <td>0.860999</td>\n",
       "      <td>48.489593</td>\n",
       "    </tr>\n",
       "    <tr>\n",
       "      <th>2020-01-01 05:00:00</th>\n",
       "      <td>1.363659</td>\n",
       "      <td>0.14225</td>\n",
       "      <td>57.830890</td>\n",
       "      <td>1.214922</td>\n",
       "      <td>0.0</td>\n",
       "      <td>48.364535</td>\n",
       "      <td>0.861482</td>\n",
       "      <td>48.364535</td>\n",
       "    </tr>\n",
       "  </tbody>\n",
       "</table>\n",
       "</div>"
      ],
      "text/plain": [
       "                         Load  CSPVPS1: PHOTOVOLTAIC FLAT PANEL  \\\n",
       "DateTime                                                          \n",
       "2020-01-01 01:00:00  1.375219                           0.00000   \n",
       "2020-01-01 02:00:00  1.368420                           0.00000   \n",
       "2020-01-01 03:00:00  1.380368                           0.00000   \n",
       "2020-01-01 04:00:00  1.292280                           0.00000   \n",
       "2020-01-01 05:00:00  1.363659                           0.14225   \n",
       "\n",
       "                     COOPGWF1: WIND - ONSHORE  DDSF1: PHOTOVOLTAIC FLAT PANEL  \\\n",
       "DateTime                                                                        \n",
       "2020-01-01 01:00:00                 78.052959                        0.000000   \n",
       "2020-01-01 02:00:00                 80.647394                        0.000000   \n",
       "2020-01-01 03:00:00                 69.206657                        0.000000   \n",
       "2020-01-01 04:00:00                 59.052380                        0.000000   \n",
       "2020-01-01 05:00:00                 57.830890                        1.214922   \n",
       "\n",
       "                     KSP1: PHOTOVOLTAIC FLAT PANEL  RRP: QLD1  AEI: QLD1  \\\n",
       "DateTime                                                                   \n",
       "2020-01-01 01:00:00                            0.0  51.169856   0.857502   \n",
       "2020-01-01 02:00:00                            0.0  51.729121   0.856617   \n",
       "2020-01-01 03:00:00                            0.0  51.434404   0.857574   \n",
       "2020-01-01 04:00:00                            0.0  48.489593   0.860999   \n",
       "2020-01-01 05:00:00                            0.0  48.364535   0.861482   \n",
       "\n",
       "                     Firming price: QLD1  \n",
       "DateTime                                  \n",
       "2020-01-01 01:00:00            51.169856  \n",
       "2020-01-01 02:00:00            51.729121  \n",
       "2020-01-01 03:00:00            51.434404  \n",
       "2020-01-01 04:00:00            48.489593  \n",
       "2020-01-01 05:00:00            48.364535  "
      ]
     },
     "execution_count": 15,
     "metadata": {},
     "output_type": "execute_result"
    }
   ],
   "source": [
    "combined_data.head()"
   ]
  },
  {
   "cell_type": "code",
   "execution_count": 16,
   "metadata": {},
   "outputs": [
    {
     "ename": "TypeError",
     "evalue": "create_hybrid_generation() takes 7 positional arguments but 8 were given",
     "output_type": "error",
     "traceback": [
      "\u001b[1;31m---------------------------------------------------------------------------\u001b[0m",
      "\u001b[1;31mTypeError\u001b[0m                                 Traceback (most recent call last)",
      "Cell \u001b[1;32mIn[16], line 9\u001b[0m\n\u001b[0;32m      6\u001b[0m time_series_interval \u001b[38;5;241m=\u001b[39m input_collector[\u001b[38;5;124m'\u001b[39m\u001b[38;5;124mtime_series_interval\u001b[39m\u001b[38;5;124m'\u001b[39m]\u001b[38;5;241m.\u001b[39mvalue\n\u001b[0;32m      7\u001b[0m matching_percentile \u001b[38;5;241m=\u001b[39m input_collector[\u001b[38;5;124m'\u001b[39m\u001b[38;5;124mmatching_percentile\u001b[39m\u001b[38;5;124m'\u001b[39m]\u001b[38;5;241m.\u001b[39mvalue\n\u001b[1;32m----> 9\u001b[0m opt_hybrid, percentages \u001b[38;5;241m=\u001b[39m \u001b[43mhybrid\u001b[49m\u001b[38;5;241;43m.\u001b[39;49m\u001b[43mcreate_hybrid_generation\u001b[49m\u001b[43m(\u001b[49m\n\u001b[0;32m     10\u001b[0m \u001b[43m    \u001b[49m\u001b[43mcontract_type\u001b[49m\u001b[43m,\u001b[49m\u001b[43m \u001b[49m\n\u001b[0;32m     11\u001b[0m \u001b[43m    \u001b[49m\u001b[43mredefine_period\u001b[49m\u001b[43m,\u001b[49m\u001b[43m  \u001b[49m\n\u001b[0;32m     12\u001b[0m \u001b[43m    \u001b[49m\u001b[43mcontract_amount\u001b[49m\u001b[43m,\u001b[49m\u001b[43m \u001b[49m\n\u001b[0;32m     13\u001b[0m \u001b[43m    \u001b[49m\u001b[43mcombined_data\u001b[49m\u001b[43m,\u001b[49m\u001b[43m \u001b[49m\n\u001b[0;32m     14\u001b[0m \u001b[43m    \u001b[49m\u001b[43mload_region\u001b[49m\u001b[43m,\u001b[49m\u001b[43m \u001b[49m\n\u001b[0;32m     15\u001b[0m \u001b[43m    \u001b[49m\u001b[43mgen_info\u001b[49m\u001b[43m,\u001b[49m\u001b[43m \u001b[49m\n\u001b[0;32m     16\u001b[0m \u001b[43m    \u001b[49m\u001b[43mtime_series_interval\u001b[49m\u001b[43m,\u001b[49m\u001b[43m \u001b[49m\n\u001b[0;32m     17\u001b[0m \u001b[43m    \u001b[49m\u001b[43mmatching_percentile\u001b[49m\n\u001b[0;32m     18\u001b[0m \u001b[43m)\u001b[49m\n\u001b[0;32m     20\u001b[0m \u001b[38;5;66;03m# TODO: add chart here to show average day of generators and hybrid?\u001b[39;00m\n",
      "\u001b[1;31mTypeError\u001b[0m: create_hybrid_generation() takes 7 positional arguments but 8 were given"
     ]
    }
   ],
   "source": [
    "# Now calculate the hybrid percentage here:\n",
    "contract_type = input_collector['contract_type'].value\n",
    "redefine_period = input_collector['redefine_period'].value\n",
    "contract_amount = input_collector['contract_amount'].value\n",
    "load_region = input_collector['load_region'].value\n",
    "time_series_interval = input_collector['time_series_interval'].value\n",
    "matching_percentile = input_collector['matching_percentile'].value\n",
    "\n",
    "opt_hybrid, percentages = hybrid.create_hybrid_generation(\n",
    "    contract_type, \n",
    "    redefine_period,  \n",
    "    contract_amount, \n",
    "    combined_data, \n",
    "    load_region, \n",
    "    gen_info, \n",
    "    time_series_interval, \n",
    "    matching_percentile\n",
    ")\n",
    "\n",
    "# TODO: add chart here to show average day of generators and hybrid?"
   ]
  },
  {
   "cell_type": "code",
   "execution_count": 8,
   "metadata": {},
   "outputs": [],
   "source": [
    "settlement_period = input_collector['settlement_period'].value\n",
    "load_region = input_collector['load_region'].value\n",
    "strike_price = input_collector['strike_price'].value\n",
    "lgc_buy_price = input_collector['lgc_buy_price'].value\n",
    "lgc_sell_price = input_collector['lgc_sell_price'].value\n",
    "shortfall_penalty = input_collector['shortfall_penalty'].value\n",
    "guaranteed_percent = input_collector['guaranteed_percent'].value\n",
    "excess_price = input_collector['excess_price'].value\n",
    "indexation = input_collector['indexation'].value\n",
    "index_period = input_collector['index_period'].value\n",
    "floor_price = input_collector['floor_price'].value\n",
    "\n",
    "bill = bill_calc.calculate_bill(\n",
    "    df=combined_data, \n",
    "    settlement_period=settlement_period, \n",
    "    contract_type=contract_type, \n",
    "    load_region=load_region, \n",
    "    strike_price=strike_price, \n",
    "    lgc_buy_price=lgc_buy_price, \n",
    "    lgc_sell_price=lgc_sell_price, \n",
    "    shortfall_penalty=shortfall_penalty, \n",
    "    guaranteed_percent=guaranteed_percent, \n",
    "    excess_price=excess_price, \n",
    "    indexation=indexation, \n",
    "    index_period=index_period, \n",
    "    floor_price=floor_price\n",
    ")"
   ]
  },
  {
   "cell_type": "code",
   "execution_count": 9,
   "metadata": {},
   "outputs": [
    {
     "data": {
      "text/html": [
       "<div>\n",
       "<style scoped>\n",
       "    .dataframe tbody tr th:only-of-type {\n",
       "        vertical-align: middle;\n",
       "    }\n",
       "\n",
       "    .dataframe tbody tr th {\n",
       "        vertical-align: top;\n",
       "    }\n",
       "\n",
       "    .dataframe thead th {\n",
       "        text-align: right;\n",
       "    }\n",
       "</style>\n",
       "<table border=\"1\" class=\"dataframe\">\n",
       "  <thead>\n",
       "    <tr style=\"text-align: right;\">\n",
       "      <th></th>\n",
       "      <th>PPA Value</th>\n",
       "      <th>PPA Settlement</th>\n",
       "      <th>Firming Costs</th>\n",
       "      <th>Revenue from on-sold RE</th>\n",
       "      <th>Revenue from excess LGCs</th>\n",
       "      <th>Cost of shortfall LGCs</th>\n",
       "      <th>Shortfall Payments Received</th>\n",
       "      <th>Total</th>\n",
       "    </tr>\n",
       "    <tr>\n",
       "      <th>DateTime</th>\n",
       "      <th></th>\n",
       "      <th></th>\n",
       "      <th></th>\n",
       "      <th></th>\n",
       "      <th></th>\n",
       "      <th></th>\n",
       "      <th></th>\n",
       "      <th></th>\n",
       "    </tr>\n",
       "  </thead>\n",
       "  <tbody>\n",
       "    <tr>\n",
       "      <th>2020-12-31</th>\n",
       "      <td>1.045745e+06</td>\n",
       "      <td>340314.353681</td>\n",
       "      <td>115671.99992</td>\n",
       "      <td>-171685.856436</td>\n",
       "      <td>-37502.537446</td>\n",
       "      <td>0.0</td>\n",
       "      <td>-0.0</td>\n",
       "      <td>952228.953377</td>\n",
       "    </tr>\n",
       "  </tbody>\n",
       "</table>\n",
       "</div>"
      ],
      "text/plain": [
       "               PPA Value  PPA Settlement  Firming Costs  \\\n",
       "DateTime                                                  \n",
       "2020-12-31  1.045745e+06   340314.353681   115671.99992   \n",
       "\n",
       "            Revenue from on-sold RE  Revenue from excess LGCs  \\\n",
       "DateTime                                                        \n",
       "2020-12-31           -171685.856436             -37502.537446   \n",
       "\n",
       "            Cost of shortfall LGCs  Shortfall Payments Received          Total  \n",
       "DateTime                                                                        \n",
       "2020-12-31                     0.0                         -0.0  952228.953377  "
      ]
     },
     "execution_count": 9,
     "metadata": {},
     "output_type": "execute_result"
    }
   ],
   "source": [
    "bill"
   ]
  },
  {
   "cell_type": "code",
   "execution_count": 9,
   "metadata": {},
   "outputs": [
    {
     "data": {
      "text/html": [
       "<div>\n",
       "<style scoped>\n",
       "    .dataframe tbody tr th:only-of-type {\n",
       "        vertical-align: middle;\n",
       "    }\n",
       "\n",
       "    .dataframe tbody tr th {\n",
       "        vertical-align: top;\n",
       "    }\n",
       "\n",
       "    .dataframe thead th {\n",
       "        text-align: right;\n",
       "    }\n",
       "</style>\n",
       "<table border=\"1\" class=\"dataframe\">\n",
       "  <thead>\n",
       "    <tr style=\"text-align: right;\">\n",
       "      <th></th>\n",
       "      <th>Wholesale Cost</th>\n",
       "      <th>LGC Cost</th>\n",
       "      <th>Total</th>\n",
       "    </tr>\n",
       "    <tr>\n",
       "      <th>DateTime</th>\n",
       "      <th></th>\n",
       "      <th></th>\n",
       "      <th></th>\n",
       "    </tr>\n",
       "  </thead>\n",
       "  <tbody>\n",
       "    <tr>\n",
       "      <th>2020-12-31</th>\n",
       "      <td>405901.989286</td>\n",
       "      <td>349126.54238</td>\n",
       "      <td>755028.531666</td>\n",
       "    </tr>\n",
       "  </tbody>\n",
       "</table>\n",
       "</div>"
      ],
      "text/plain": [
       "            Wholesale Cost      LGC Cost          Total\n",
       "DateTime                                               \n",
       "2020-12-31   405901.989286  349126.54238  755028.531666"
      ]
     },
     "execution_count": 9,
     "metadata": {},
     "output_type": "execute_result"
    }
   ],
   "source": [
    "wholesale_bill = bill_calc.calculate_wholesale_bill(\n",
    "    df=combined_data,\n",
    "    settlement_period=settlement_period,\n",
    "    load_region=load_region,\n",
    "    lgc_buy_price=lgc_buy_price\n",
    ")\n",
    "\n",
    "wholesale_bill"
   ]
  },
  {
   "cell_type": "markdown",
   "metadata": {},
   "source": [
    "## Add a behind-the-meter battery:"
   ]
  },
  {
   "cell_type": "code",
   "execution_count": 1,
   "metadata": {},
   "outputs": [
    {
     "ename": "NameError",
     "evalue": "name 'user_inputs' is not defined",
     "output_type": "error",
     "traceback": [
      "\u001b[1;31m---------------------------------------------------------------------------\u001b[0m",
      "\u001b[1;31mNameError\u001b[0m                                 Traceback (most recent call last)",
      "Cell \u001b[1;32mIn[1], line 1\u001b[0m\n\u001b[1;32m----> 1\u001b[0m battery_input_collector \u001b[38;5;241m=\u001b[39m \u001b[43muser_inputs\u001b[49m\u001b[38;5;241m.\u001b[39mlaunch_battery_input_collector()\n",
      "\u001b[1;31mNameError\u001b[0m: name 'user_inputs' is not defined"
     ]
    }
   ],
   "source": [
    "battery_input_collector = user_inputs.launch_battery_input_collector()"
   ]
  },
  {
   "cell_type": "code",
   "execution_count": 11,
   "metadata": {},
   "outputs": [
    {
     "name": "stdout",
     "output_type": "stream",
     "text": [
      "Set parameter Username\n",
      "Academic license - for non-commercial use only - expires 2025-06-05\n",
      "Set parameter Username\n",
      "Academic license - for non-commercial use only - expires 2025-06-05\n"
     ]
    }
   ],
   "source": [
    "# Battery\n",
    "rated_power_capacity = battery_input_collector['rated_power_capacity'].value\n",
    "size_in_mwh = battery_input_collector['size_in_mwh'].value\n",
    "\n",
    "with_a_battery = battery.run_battery_optimisation(\n",
    "    df=combined_data,\n",
    "    load_col_to_use='Load', # Default - field may not even be useful long-term\n",
    "    region=load_region,\n",
    "    rated_power_capacity=rated_power_capacity,\n",
    "    size_in_mwh=size_in_mwh\n",
    "    # keeping charging and discharging efficiency as defaults for the moment...\n",
    ")"
   ]
  },
  {
   "cell_type": "code",
   "execution_count": null,
   "metadata": {},
   "outputs": [],
   "source": [
    "# Load Flex"
   ]
  }
 ],
 "metadata": {
  "kernelspec": {
   "display_name": "Python 3 (ipykernel)",
   "language": "python",
   "name": "python3"
  },
  "language_info": {
   "codemirror_mode": {
    "name": "ipython",
    "version": 3
   },
   "file_extension": ".py",
   "mimetype": "text/x-python",
   "name": "python",
   "nbconvert_exporter": "python",
   "pygments_lexer": "ipython3",
   "version": "3.11.0"
  }
 },
 "nbformat": 4,
 "nbformat_minor": 4
}
