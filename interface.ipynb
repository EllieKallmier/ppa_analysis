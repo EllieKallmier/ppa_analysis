{
 "cells": [
  {
   "cell_type": "code",
   "execution_count": 1,
   "metadata": {
    "editable": true,
    "slideshow": {
     "slide_type": ""
    },
    "tags": []
   },
   "outputs": [
    {
     "name": "stdout",
     "output_type": "stream",
     "text": [
      "INFO: Using Python-MIP package version 1.15.0\n"
     ]
    }
   ],
   "source": [
    "# ------------------------------ Packages & Files ------------------------------\n",
    "from pathlib import Path\n",
    "\n",
    "import pandas as pd\n",
    "import plotly.express as px\n",
    "import plotly.graph_objects as go\n",
    "from plotly.subplots import make_subplots\n",
    "\n",
    "import ipywidgets as widgets\n",
    "from IPython.display import display, HTML\n",
    "\n",
    "from ppa_analysis import user_inputs, advanced_settings, hybrid, import_gen_data, import_emissions_data, \\\n",
    "     import_pricing_data"
   ]
  },
  {
   "cell_type": "code",
   "execution_count": 2,
   "metadata": {
    "editable": true,
    "hidden": true,
    "slideshow": {
     "slide_type": ""
    }
   },
   "outputs": [
    {
     "data": {
      "text/html": [
       "\n",
       "        <style>\n",
       "        .widget-label { min-width: 30ex !important; }\n",
       "        .widget-select select { min-width: 70ex !important; }\n",
       "        .widget-dropdown select { min-width: 70ex !important; }\n",
       "        .widget-floattext input { min-width: 70ex !important; }\n",
       "        </style>\n",
       "        "
      ],
      "text/plain": [
       "<IPython.core.display.HTML object>"
      ]
     },
     "metadata": {},
     "output_type": "display_data"
    },
    {
     "data": {
      "text/html": [
       "\n",
       "        <h3>Historical data selection:</h3>\n",
       "        "
      ],
      "text/plain": [
       "<IPython.core.display.HTML object>"
      ]
     },
     "metadata": {},
     "output_type": "display_data"
    },
    {
     "name": "stdout",
     "output_type": "stream",
     "text": [
      "/home/nick/Documents/Github/ppa_analysis\n",
      "data_caches/yearly_data_files\n"
     ]
    },
    {
     "data": {
      "application/vnd.jupyter.widget-view+json": {
       "model_id": "ccde26067d8446a2ace463bdd870ef16",
       "version_major": 2,
       "version_minor": 0
      },
      "text/plain": [
       "Dropdown(description='Year:', options=('2020', '2021'), value='2020')"
      ]
     },
     "metadata": {},
     "output_type": "display_data"
    },
    {
     "data": {
      "application/vnd.jupyter.widget-view+json": {
       "model_id": "9279d8fb1b9248b3b4544b6fa6735c20",
       "version_major": 2,
       "version_minor": 0
      },
      "text/plain": [
       "Dropdown(description='Generator region:', options=('QLD1', 'NSW1', 'VIC1', 'SA1', 'TAS1'), value='QLD1')"
      ]
     },
     "metadata": {},
     "output_type": "display_data"
    },
    {
     "data": {
      "application/vnd.jupyter.widget-view+json": {
       "model_id": "668135c059c1460394744ac4d18b91d6",
       "version_major": 2,
       "version_minor": 0
      },
      "text/plain": [
       "Dropdown(description='Load region:', options=('QLD1', 'NSW1', 'VIC1', 'SA1', 'TAS1'), value='QLD1')"
      ]
     },
     "metadata": {},
     "output_type": "display_data"
    },
    {
     "data": {
      "application/vnd.jupyter.widget-view+json": {
       "model_id": "576ea3e37a434621b33059dd01a8c05c",
       "version_major": 2,
       "version_minor": 0
      },
      "text/plain": [
       "Dropdown(description='Load data file:', options=('(27) Foundry FN_same_year.csv', '(89) Water pumping CA.csv',…"
      ]
     },
     "metadata": {},
     "output_type": "display_data"
    },
    {
     "data": {
      "application/vnd.jupyter.widget-view+json": {
       "model_id": "276705462e5b44a889a9513d680e2b4f",
       "version_major": 2,
       "version_minor": 0
      },
      "text/plain": [
       "SelectMultiple(description='Generators:', index=(0, 1, 2, 3), options=('CSPVPS1: PHOTOVOLTAIC FLAT PANEL', 'CO…"
      ]
     },
     "metadata": {},
     "output_type": "display_data"
    },
    {
     "data": {
      "text/html": [
       "\n",
       "        <h3>Contract paramters:</h3>\n",
       "        "
      ],
      "text/plain": [
       "<IPython.core.display.HTML object>"
      ]
     },
     "metadata": {},
     "output_type": "display_data"
    },
    {
     "data": {
      "text/html": [
       "\n",
       "        <h4> - All contracts:</h4>\n",
       "        "
      ],
      "text/plain": [
       "<IPython.core.display.HTML object>"
      ]
     },
     "metadata": {},
     "output_type": "display_data"
    },
    {
     "data": {
      "application/vnd.jupyter.widget-view+json": {
       "model_id": "39295b36c0f1418184b813a459f629d5",
       "version_major": 2,
       "version_minor": 0
      },
      "text/plain": [
       "Dropdown(description='Contract type:', options=('Pay as Produced', 'Pay as Consumed', 'Shaped', 'Baseload', '2…"
      ]
     },
     "metadata": {},
     "output_type": "display_data"
    },
    {
     "data": {
      "application/vnd.jupyter.widget-view+json": {
       "model_id": "e407cf98da7442e5819f64b99615cf07",
       "version_major": 2,
       "version_minor": 0
      },
      "text/plain": [
       "Dropdown(description='Firming contract type:', options=('Wholesale exposed', 'Partially wholesale exposed', 'R…"
      ]
     },
     "metadata": {},
     "output_type": "display_data"
    },
    {
     "data": {
      "application/vnd.jupyter.widget-view+json": {
       "model_id": "9119198f2251491c8bbac2a9b6eac3b1",
       "version_major": 2,
       "version_minor": 0
      },
      "text/plain": [
       "Dropdown(description='Settlment period:', options=('Y',), value='Y')"
      ]
     },
     "metadata": {},
     "output_type": "display_data"
    },
    {
     "data": {
      "application/vnd.jupyter.widget-view+json": {
       "model_id": "96533c02b77a47f7a6e482eea9f9c20f",
       "version_major": 2,
       "version_minor": 0
      },
      "text/plain": [
       "BoundedFloatText(value=100.0, description='Contract amount (%):')"
      ]
     },
     "metadata": {},
     "output_type": "display_data"
    },
    {
     "data": {
      "application/vnd.jupyter.widget-view+json": {
       "model_id": "7973d8f9b3404c1c9f5525b2077912df",
       "version_major": 2,
       "version_minor": 0
      },
      "text/plain": [
       "FloatText(value=100.0, description='Strike price ($/MW/h):')"
      ]
     },
     "metadata": {},
     "output_type": "display_data"
    },
    {
     "data": {
      "application/vnd.jupyter.widget-view+json": {
       "model_id": "1fd973712ed749829fb9ad06507da99a",
       "version_major": 2,
       "version_minor": 0
      },
      "text/plain": [
       "FloatText(value=35.0, description='LGC buy price ($/MW/h):')"
      ]
     },
     "metadata": {},
     "output_type": "display_data"
    },
    {
     "data": {
      "application/vnd.jupyter.widget-view+json": {
       "model_id": "66c90b7db24345688070849ef4ad8d57",
       "version_major": 2,
       "version_minor": 0
      },
      "text/plain": [
       "FloatText(value=20.0, description='LGC sell price ($/MW/h):')"
      ]
     },
     "metadata": {},
     "output_type": "display_data"
    },
    {
     "data": {
      "application/vnd.jupyter.widget-view+json": {
       "model_id": "abe6a8b56b51485ebf2209b9003a64a3",
       "version_major": 2,
       "version_minor": 0
      },
      "text/plain": [
       "FloatText(value=25.0, description='Short fall penalty ($/MW/h):')"
      ]
     },
     "metadata": {},
     "output_type": "display_data"
    },
    {
     "data": {
      "application/vnd.jupyter.widget-view+json": {
       "model_id": "0c398ebadbb44e838b2fc393c59dd6e4",
       "version_major": 2,
       "version_minor": 0
      },
      "text/plain": [
       "BoundedFloatText(value=85.0, description='Guaranteed percentage (%):')"
      ]
     },
     "metadata": {},
     "output_type": "display_data"
    },
    {
     "data": {
      "application/vnd.jupyter.widget-view+json": {
       "model_id": "e76d3e702e7e4a428a92b2c9b085b8fd",
       "version_major": 2,
       "version_minor": 0
      },
      "text/plain": [
       "FloatText(value=65.0, description='Floor price ($/MW/h):')"
      ]
     },
     "metadata": {},
     "output_type": "display_data"
    },
    {
     "data": {
      "application/vnd.jupyter.widget-view+json": {
       "model_id": "0317b13954fe4690a690e4f3b6ec4c51",
       "version_major": 2,
       "version_minor": 0
      },
      "text/plain": [
       "FloatText(value=65.0, description='Excess price ($/MW/h):')"
      ]
     },
     "metadata": {},
     "output_type": "display_data"
    },
    {
     "data": {
      "application/vnd.jupyter.widget-view+json": {
       "model_id": "590ffe4adf9b4fa08ed91b4bab2531f1",
       "version_major": 2,
       "version_minor": 0
      },
      "text/plain": [
       "BoundedFloatText(value=1.0, description='Indexation (%):')"
      ]
     },
     "metadata": {},
     "output_type": "display_data"
    },
    {
     "data": {
      "application/vnd.jupyter.widget-view+json": {
       "model_id": "a57ac8c70f40471492e003c0df3276e6",
       "version_major": 2,
       "version_minor": 0
      },
      "text/plain": [
       "Dropdown(description='Index period:', options=('Y',), value='Y')"
      ]
     },
     "metadata": {},
     "output_type": "display_data"
    },
    {
     "data": {
      "text/html": [
       "\n",
       "        <h4> - Shaped and baseload contracts only:</h4>\n",
       "        "
      ],
      "text/plain": [
       "<IPython.core.display.HTML object>"
      ]
     },
     "metadata": {},
     "output_type": "display_data"
    },
    {
     "data": {
      "application/vnd.jupyter.widget-view+json": {
       "model_id": "c7a518df81d142d2bf71ae32a1be9a75",
       "version_major": 2,
       "version_minor": 0
      },
      "text/plain": [
       "Dropdown(description='Redefine period:', index=2, options=('Y', 'Q', 'M'), value='M')"
      ]
     },
     "metadata": {},
     "output_type": "display_data"
    },
    {
     "data": {
      "text/html": [
       "\n",
       "        <h4> - Shaped contracts only:</h4>\n",
       "        "
      ],
      "text/plain": [
       "<IPython.core.display.HTML object>"
      ]
     },
     "metadata": {},
     "output_type": "display_data"
    },
    {
     "data": {
      "application/vnd.jupyter.widget-view+json": {
       "model_id": "ad324688be744ba4aecf46bb4e3921e8",
       "version_major": 2,
       "version_minor": 0
      },
      "text/plain": [
       "BoundedFloatText(value=1.0, description='Matching percentile:')"
      ]
     },
     "metadata": {},
     "output_type": "display_data"
    },
    {
     "data": {
      "text/html": [
       "\n",
       "        <h4> - Wholesale exposure only:</h4>\n",
       "        "
      ],
      "text/plain": [
       "<IPython.core.display.HTML object>"
      ]
     },
     "metadata": {},
     "output_type": "display_data"
    },
    {
     "data": {
      "application/vnd.jupyter.widget-view+json": {
       "model_id": "9608f67ef9454b8fabdb8fb2b57a298d",
       "version_major": 2,
       "version_minor": 0
      },
      "text/plain": [
       "FloatText(value=300.0, description='Exposure upper bound ($/MW/h):')"
      ]
     },
     "metadata": {},
     "output_type": "display_data"
    },
    {
     "data": {
      "application/vnd.jupyter.widget-view+json": {
       "model_id": "d16e539ee6e042b1a62afc554ce4337b",
       "version_major": 2,
       "version_minor": 0
      },
      "text/plain": [
       "FloatText(value=20.0, description='Exposure upper bound ($/MW/h):')"
      ]
     },
     "metadata": {},
     "output_type": "display_data"
    },
    {
     "data": {
      "text/html": [
       "\n",
       "        <h4> - Analysis paramters:</h4>\n",
       "        "
      ],
      "text/plain": [
       "<IPython.core.display.HTML object>"
      ]
     },
     "metadata": {},
     "output_type": "display_data"
    },
    {
     "data": {
      "application/vnd.jupyter.widget-view+json": {
       "model_id": "2467a7edbef64f5085e45222200907bb",
       "version_major": 2,
       "version_minor": 0
      },
      "text/plain": [
       "Dropdown(description='Time series interval:', options=('60',), value='60')"
      ]
     },
     "metadata": {},
     "output_type": "display_data"
    },
    {
     "data": {
      "application/vnd.jupyter.widget-view+json": {
       "model_id": "878fe2f2ed2640afb5d78c7a85c11a93",
       "version_major": 2,
       "version_minor": 0
      },
      "text/plain": [
       "Dropdown(description='Generator data set:', options=('GenCost 2018 Low',), value='GenCost 2018 Low')"
      ]
     },
     "metadata": {},
     "output_type": "display_data"
    }
   ],
   "source": [
    "# ------------------------------ Initialise the input collector ----------------\n",
    "input_collector = user_inputs.launch_input_collector()"
   ]
  },
  {
   "cell_type": "code",
   "execution_count": 3,
   "metadata": {},
   "outputs": [
    {
     "data": {
      "application/vnd.jupyter.widget-view+json": {
       "model_id": "a759f51faa114e568b807cad7c644242",
       "version_major": 2,
       "version_minor": 0
      },
      "text/plain": [
       "Output()"
      ]
     },
     "metadata": {},
     "output_type": "display_data"
    }
   ],
   "source": [
    "generator_data_editor = user_inputs.launch_generator_data_editor(input_collector)"
   ]
  },
  {
   "cell_type": "code",
   "execution_count": 4,
   "metadata": {},
   "outputs": [
    {
     "name": "stdout",
     "output_type": "stream",
     "text": [
      "{'COOPGWF1: WIND - ONSHORE': {'label': <IPython.core.display.HTML object>},\n",
      " 'CSPVPS1: PHOTOVOLTAIC FLAT PANEL': {'label': <IPython.core.display.HTML object>},\n",
      " 'DDSF1: PHOTOVOLTAIC FLAT PANEL': {'label': <IPython.core.display.HTML object>},\n",
      " 'KSP1: PHOTOVOLTAIC FLAT PANEL': {'label': <IPython.core.display.HTML object>},\n",
      " 'out': Output(outputs=({'output_type': 'display_data', 'data': {'text/plain': '<IPython.core.display.HTML object>', 'text/html': '\\n                    <h5>CSPVPS1: PHOTOVOLTAIC FLAT PANEL:</h5>\\n                    '}, 'metadata': {}}, {'output_type': 'display_data', 'data': {'text/plain': '<IPython.core.display.HTML object>', 'text/html': '\\n                    <h5>COOPGWF1: WIND - ONSHORE:</h5>\\n                    '}, 'metadata': {}}, {'output_type': 'display_data', 'data': {'text/plain': '<IPython.core.display.HTML object>', 'text/html': '\\n                    <h5>DDSF1: PHOTOVOLTAIC FLAT PANEL:</h5>\\n                    '}, 'metadata': {}}, {'output_type': 'display_data', 'data': {'text/plain': '<IPython.core.display.HTML object>', 'text/html': '\\n                    <h5>KSP1: PHOTOVOLTAIC FLAT PANEL:</h5>\\n                    '}, 'metadata': {}}))}\n"
     ]
    }
   ],
   "source": [
    "import pprint\n",
    "\n",
    "pprint.pprint(generator_data_editor)"
   ]
  },
  {
   "cell_type": "code",
   "execution_count": 5,
   "metadata": {},
   "outputs": [],
   "source": [
    "# ----------------------------- Unpack user input ------------------------------\n",
    "year_to_load_from_cache = input_collector['year'].value\n",
    "GENERATOR_REGION = input_collector['generator_region'].value\n",
    "LOAD_REGION = input_collector['load_region'].value\n",
    "generators = list(input_collector['generators'].value)\n",
    "\n",
    "# ----------------------------- Get Generation Data ----------------------------\n",
    "gen_data_file = (\n",
    "    advanced_settings.YEARLY_DATA_CACHE / \n",
    "    f'gen_data_{year_to_load_from_cache}.parquet'\n",
    ")\n",
    "gen_data = import_gen_data.get_preprocessed_gen_data(\n",
    "    gen_data_file, [GENERATOR_REGION]\n",
    ")\n",
    "gen_data = gen_data[generators]\n",
    "\n",
    "# ------------------------ Get Emissions Data ----------------------------------\n",
    "emissions_data_file = (\n",
    "    advanced_settings.YEARLY_DATA_CACHE / \n",
    "    f'emissions_data_{year_to_load_from_cache}.parquet'\n",
    ")\n",
    "emissions_intensity = import_emissions_data.get_preprocessed_avg_intensity_emissions_data(\n",
    "    emissions_data_file, [LOAD_REGION, GENERATOR_REGION]\n",
    ")\n",
    "\n",
    "# ------------------------ Get Wholesale Price Data ----------------------------------\n",
    "price_data_file = (\n",
    "    advanced_settings.YEARLY_DATA_CACHE / \n",
    "    f'price_data_{year_to_load_from_cache}.parquet'\n",
    ")\n",
    "price_data = import_pricing_data.get_preprocessed_price_data(\n",
    "    price_data_file, [LOAD_REGION, GENERATOR_REGION]\n",
    ")"
   ]
  },
  {
   "cell_type": "code",
   "execution_count": 6,
   "metadata": {},
   "outputs": [
    {
     "ename": "NameError",
     "evalue": "name 'solar_1' is not defined",
     "output_type": "error",
     "traceback": [
      "\u001b[0;31m---------------------------------------------------------------------------\u001b[0m",
      "\u001b[0;31mNameError\u001b[0m                                 Traceback (most recent call last)",
      "Cell \u001b[0;32mIn[6], line 5\u001b[0m\n\u001b[1;32m      1\u001b[0m \u001b[38;5;66;03m# -------- SIMPLE LCOE CALCULATIONS ----------\u001b[39;00m\n\u001b[1;32m      2\u001b[0m \n\u001b[1;32m      3\u001b[0m \u001b[38;5;66;03m# Low assumption from GenCost 2018\u001b[39;00m\n\u001b[1;32m      4\u001b[0m lcoe_info_dict \u001b[38;5;241m=\u001b[39m {\n\u001b[0;32m----> 5\u001b[0m     \u001b[43msolar_1\u001b[49m : {\n\u001b[1;32m      6\u001b[0m         \u001b[38;5;124m'\u001b[39m\u001b[38;5;124mNameplate Capacity (kW)\u001b[39m\u001b[38;5;124m'\u001b[39m : \u001b[38;5;241m110000\u001b[39m,\n\u001b[1;32m      7\u001b[0m         \u001b[38;5;124m'\u001b[39m\u001b[38;5;124mFixed O&M ($/kW)\u001b[39m\u001b[38;5;124m'\u001b[39m: \u001b[38;5;241m14.4\u001b[39m,\n\u001b[1;32m      8\u001b[0m         \u001b[38;5;124m'\u001b[39m\u001b[38;5;124mVariable O&M ($/kWh)\u001b[39m\u001b[38;5;124m'\u001b[39m : \u001b[38;5;241m0.0\u001b[39m,\n\u001b[1;32m      9\u001b[0m         \u001b[38;5;124m'\u001b[39m\u001b[38;5;124mCapital ($/kW)\u001b[39m\u001b[38;5;124m'\u001b[39m : \u001b[38;5;241m1280\u001b[39m,\n\u001b[1;32m     10\u001b[0m         \u001b[38;5;124m'\u001b[39m\u001b[38;5;124mCapacity Factor\u001b[39m\u001b[38;5;124m'\u001b[39m : \u001b[38;5;241m0.22\u001b[39m\n\u001b[1;32m     11\u001b[0m     },\n\u001b[1;32m     12\u001b[0m     solar_2 : {\n\u001b[1;32m     13\u001b[0m         \u001b[38;5;124m'\u001b[39m\u001b[38;5;124mNameplate Capacity (kW)\u001b[39m\u001b[38;5;124m'\u001b[39m : \u001b[38;5;241m125000\u001b[39m,\n\u001b[1;32m     14\u001b[0m         \u001b[38;5;124m'\u001b[39m\u001b[38;5;124mFixed O&M ($/kW)\u001b[39m\u001b[38;5;124m'\u001b[39m: \u001b[38;5;241m14.4\u001b[39m,\n\u001b[1;32m     15\u001b[0m         \u001b[38;5;124m'\u001b[39m\u001b[38;5;124mVariable O&M ($/kWh)\u001b[39m\u001b[38;5;124m'\u001b[39m : \u001b[38;5;241m0.0\u001b[39m,\n\u001b[1;32m     16\u001b[0m         \u001b[38;5;124m'\u001b[39m\u001b[38;5;124mCapital ($/kW)\u001b[39m\u001b[38;5;124m'\u001b[39m : \u001b[38;5;241m1280\u001b[39m,\n\u001b[1;32m     17\u001b[0m         \u001b[38;5;124m'\u001b[39m\u001b[38;5;124mCapacity Factor\u001b[39m\u001b[38;5;124m'\u001b[39m : \u001b[38;5;241m0.22\u001b[39m\n\u001b[1;32m     18\u001b[0m     },\n\u001b[1;32m     19\u001b[0m     wind_1 : {\n\u001b[1;32m     20\u001b[0m         \u001b[38;5;124m'\u001b[39m\u001b[38;5;124mNameplate Capacity (kW)\u001b[39m\u001b[38;5;124m'\u001b[39m : \u001b[38;5;241m180000\u001b[39m,\n\u001b[1;32m     21\u001b[0m         \u001b[38;5;124m'\u001b[39m\u001b[38;5;124mFixed O&M ($/kW)\u001b[39m\u001b[38;5;124m'\u001b[39m: \u001b[38;5;241m36.0\u001b[39m,\n\u001b[1;32m     22\u001b[0m         \u001b[38;5;124m'\u001b[39m\u001b[38;5;124mVariable O&M ($/kWh)\u001b[39m\u001b[38;5;124m'\u001b[39m : \u001b[38;5;241m2.7\u001b[39m\u001b[38;5;241m/\u001b[39m\u001b[38;5;241m1000\u001b[39m,\n\u001b[1;32m     23\u001b[0m         \u001b[38;5;124m'\u001b[39m\u001b[38;5;124mCapital ($/kW)\u001b[39m\u001b[38;5;124m'\u001b[39m : \u001b[38;5;241m2005\u001b[39m,\n\u001b[1;32m     24\u001b[0m         \u001b[38;5;124m'\u001b[39m\u001b[38;5;124mCapacity Factor\u001b[39m\u001b[38;5;124m'\u001b[39m : \u001b[38;5;241m0.35\u001b[39m\n\u001b[1;32m     25\u001b[0m     },\n\u001b[1;32m     26\u001b[0m     wind_2 : {\n\u001b[1;32m     27\u001b[0m         \u001b[38;5;124m'\u001b[39m\u001b[38;5;124mNameplate Capacity (kW)\u001b[39m\u001b[38;5;124m'\u001b[39m : \u001b[38;5;241m453000\u001b[39m,\n\u001b[1;32m     28\u001b[0m         \u001b[38;5;124m'\u001b[39m\u001b[38;5;124mFixed O&M ($/kW)\u001b[39m\u001b[38;5;124m'\u001b[39m: \u001b[38;5;241m36.0\u001b[39m,\n\u001b[1;32m     29\u001b[0m         \u001b[38;5;124m'\u001b[39m\u001b[38;5;124mVariable O&M ($/kWh)\u001b[39m\u001b[38;5;124m'\u001b[39m : \u001b[38;5;241m2.7\u001b[39m\u001b[38;5;241m/\u001b[39m\u001b[38;5;241m1000\u001b[39m,\n\u001b[1;32m     30\u001b[0m         \u001b[38;5;124m'\u001b[39m\u001b[38;5;124mCapital ($/kW)\u001b[39m\u001b[38;5;124m'\u001b[39m : \u001b[38;5;241m2005\u001b[39m,\n\u001b[1;32m     31\u001b[0m         \u001b[38;5;124m'\u001b[39m\u001b[38;5;124mCapacity Factor\u001b[39m\u001b[38;5;124m'\u001b[39m : \u001b[38;5;241m0.35\u001b[39m\n\u001b[1;32m     32\u001b[0m     }\n\u001b[1;32m     33\u001b[0m }\n\u001b[1;32m     35\u001b[0m \u001b[38;5;28;01mfor\u001b[39;00m generator, info \u001b[38;5;129;01min\u001b[39;00m lcoe_info_dict\u001b[38;5;241m.\u001b[39mitems():\n\u001b[1;32m     36\u001b[0m     capital_cost_year_one \u001b[38;5;241m=\u001b[39m info[\u001b[38;5;124m'\u001b[39m\u001b[38;5;124mCapital ($/kW)\u001b[39m\u001b[38;5;124m'\u001b[39m] \u001b[38;5;241m*\u001b[39m (info[\u001b[38;5;124m'\u001b[39m\u001b[38;5;124mNameplate Capacity (kW)\u001b[39m\u001b[38;5;124m'\u001b[39m] \u001b[38;5;241m*\u001b[39m \u001b[38;5;241m1000\u001b[39m)\n",
      "\u001b[0;31mNameError\u001b[0m: name 'solar_1' is not defined"
     ]
    }
   ],
   "source": [
    "# -------- SIMPLE LCOE CALCULATIONS ----------\n",
    "\n",
    "# Low assumption from GenCost 2018\n",
    "lcoe_info_dict = {\n",
    "    solar_1 : {\n",
    "        'Nameplate Capacity (kW)' : 110000,\n",
    "        'Fixed O&M ($/kW)': 14.4,\n",
    "        'Variable O&M ($/kWh)' : 0.0,\n",
    "        'Capital ($/kW)' : 1280,\n",
    "        'Capacity Factor' : 0.22\n",
    "    },\n",
    "    solar_2 : {\n",
    "        'Nameplate Capacity (kW)' : 125000,\n",
    "        'Fixed O&M ($/kW)': 14.4,\n",
    "        'Variable O&M ($/kWh)' : 0.0,\n",
    "        'Capital ($/kW)' : 1280,\n",
    "        'Capacity Factor' : 0.22\n",
    "    },\n",
    "    wind_1 : {\n",
    "        'Nameplate Capacity (kW)' : 180000,\n",
    "        'Fixed O&M ($/kW)': 36.0,\n",
    "        'Variable O&M ($/kWh)' : 2.7/1000,\n",
    "        'Capital ($/kW)' : 2005,\n",
    "        'Capacity Factor' : 0.35\n",
    "    },\n",
    "    wind_2 : {\n",
    "        'Nameplate Capacity (kW)' : 453000,\n",
    "        'Fixed O&M ($/kW)': 36.0,\n",
    "        'Variable O&M ($/kWh)' : 2.7/1000,\n",
    "        'Capital ($/kW)' : 2005,\n",
    "        'Capacity Factor' : 0.35\n",
    "    }\n",
    "}\n",
    "\n",
    "for generator, info in lcoe_info_dict.items():\n",
    "    capital_cost_year_one = info['Capital ($/kW)'] * (info['Nameplate Capacity (kW)'] * 1000)\n",
    "    lifetime_years = 25\n",
    "    discount_rate = 0.07        # AEMC uses 6-8.5% for all technologies\n",
    "\n",
    "    numerator = 0.0\n",
    "    denominator = 0.0\n",
    "    capital_year_n = capital_cost_year_one\n",
    "    for year in range(0, lifetime_years):\n",
    "        capital_year_n = (capital_cost_year_one) * (year == 0)\n",
    "        kwh_in_year_n = (info['Capacity Factor'] * info['Nameplate Capacity (kW)'] * (365*24))\n",
    "        numerator += (capital_year_n + info['Fixed O&M ($/kW)']*info['Nameplate Capacity (kW)'] + info['Variable O&M ($/kWh)']*kwh_in_year_n) / ((1 + discount_rate)**year)\n",
    "        denominator += (kwh_in_year_n) / ((1 + discount_rate)**year)\n",
    "\n",
    "    final = numerator / denominator\n",
    "\n",
    "    print(final)"
   ]
  },
  {
   "cell_type": "code",
   "execution_count": 6,
   "metadata": {},
   "outputs": [
    {
     "name": "stdout",
     "output_type": "stream",
     "text": [
      "Some missing data found. Filled with zeros.\n",
      "\n"
     ]
    }
   ],
   "source": [
    "# At this point: loop through the loads, create a big df with results for each\n",
    "# Key results at this point: percentage mix of each generator, matching percent.\n",
    "filepath = LOAD_DATA_DIR / load_filename\n",
    "load_data, start_date, end_date = import_load_data.get_load_data(filepath, LOAD_DATETIME_COL_NAME, LOAD_COL_NAME, DAY_FIRST)\n",
    "load_data = load_data / 1000    # convert to MWh\n",
    "load_data = load_data[load_data.index >= '2020-01-01 00:00:00']\n",
    "\n",
    "one_yr_gen = gen_data.iloc[:24*365].copy().sum()\n",
    "one_yr_load = load_data.iloc[:24*365].copy().sum()\n",
    "gen_data_test = gen_data.copy()\n",
    "\n",
    "for gen in gen_data_test.columns:\n",
    "    gen_data_test[gen] = gen_data_test[gen] * (one_yr_load['Load'] / one_yr_gen[gen])\n",
    "\n",
    "gen_info = {\n",
    "    wind_1 : 75,\n",
    "    solar_1 : 65\n",
    "}\n",
    "\n",
    "combined_data = pd.concat([load_data, gen_data_test, price_data, emissions_intensity], axis='columns')\n",
    "combined_data = combined_data.dropna(how='any', axis='rows')\n",
    "\n",
    "RETAIL_TARIFF_DETAILS = {'a': 'b'}\n",
    "combined_data_firming = firming_contracts.choose_firming_type(\n",
    "    FIRMING_CONTRACT_TYPE, combined_data, [LOAD_REGION], EXPOSURE_BOUND_UPPER, EXPOSURE_BOUND_LOWER, RETAIL_TARIFF_DETAILS\n",
    ")\n",
    "opt_hybrid, percentages = hybrid.create_hybrid_generation(\n",
    "    contract_type, \n",
    "    redefine_period,  \n",
    "    contract_amount, \n",
    "    combined_data_firming, \n",
    "    LOAD_REGION, \n",
    "    gen_info, \n",
    "    time_series_interval, \n",
    "    matching_percentile\n",
    ")"
   ]
  },
  {
   "cell_type": "code",
   "execution_count": 7,
   "metadata": {},
   "outputs": [],
   "source": [
    "bill = bill_calc.calculate_bill(\n",
    "    df=combined_data_firming, \n",
    "    settlement_period=settlement_period, \n",
    "    contract_type=contract_type, \n",
    "    load_region=LOAD_REGION, \n",
    "    strike_price=strike_price, \n",
    "    lgc_buy_price=lgc_buy_price, \n",
    "    lgc_sell_price=lgc_sell_price, \n",
    "    shortfall_penalty=shortfall_penalty, \n",
    "    guaranteed_percent=guaranteed_percent, \n",
    "    excess_price=excess_price, \n",
    "    indexation=indexation, \n",
    "    index_period=index_period, \n",
    "    floor_price=floor_price\n",
    ")\n",
    "\n",
    "\n"
   ]
  },
  {
   "cell_type": "code",
   "execution_count": 8,
   "metadata": {},
   "outputs": [
    {
     "data": {
      "text/html": [
       "<div>\n",
       "<style scoped>\n",
       "    .dataframe tbody tr th:only-of-type {\n",
       "        vertical-align: middle;\n",
       "    }\n",
       "\n",
       "    .dataframe tbody tr th {\n",
       "        vertical-align: top;\n",
       "    }\n",
       "\n",
       "    .dataframe thead th {\n",
       "        text-align: right;\n",
       "    }\n",
       "</style>\n",
       "<table border=\"1\" class=\"dataframe\">\n",
       "  <thead>\n",
       "    <tr style=\"text-align: right;\">\n",
       "      <th></th>\n",
       "      <th>Load</th>\n",
       "      <th>DDSF1: PHOTOVOLTAIC FLAT PANEL</th>\n",
       "      <th>SMCSF1: PHOTOVOLTAIC FLAT PANEL</th>\n",
       "      <th>MEWF1: WIND - ONSHORE</th>\n",
       "      <th>COOPGWF1: WIND - ONSHORE</th>\n",
       "      <th>RRP: QLD1</th>\n",
       "      <th>AEI: QLD1</th>\n",
       "      <th>Firming price: QLD1</th>\n",
       "      <th>Hybrid</th>\n",
       "      <th>Contracted Energy</th>\n",
       "      <th>Strike Price (Indexed)</th>\n",
       "      <th>Price</th>\n",
       "      <th>PPA Settlement</th>\n",
       "      <th>PPA Value</th>\n",
       "      <th>Excess Price</th>\n",
       "      <th>Excess Energy</th>\n",
       "      <th>Excess Energy Revenue</th>\n",
       "    </tr>\n",
       "    <tr>\n",
       "      <th>DateTime</th>\n",
       "      <th></th>\n",
       "      <th></th>\n",
       "      <th></th>\n",
       "      <th></th>\n",
       "      <th></th>\n",
       "      <th></th>\n",
       "      <th></th>\n",
       "      <th></th>\n",
       "      <th></th>\n",
       "      <th></th>\n",
       "      <th></th>\n",
       "      <th></th>\n",
       "      <th></th>\n",
       "      <th></th>\n",
       "      <th></th>\n",
       "      <th></th>\n",
       "      <th></th>\n",
       "    </tr>\n",
       "  </thead>\n",
       "  <tbody>\n",
       "    <tr>\n",
       "      <th>2020-01-01 01:00:00</th>\n",
       "      <td>0.12408</td>\n",
       "      <td>0.000000</td>\n",
       "      <td>0.000000</td>\n",
       "      <td>0.246866</td>\n",
       "      <td>0.442636</td>\n",
       "      <td>51.169856</td>\n",
       "      <td>0.857502</td>\n",
       "      <td>51.169856</td>\n",
       "      <td>0.043695</td>\n",
       "      <td>0.043695</td>\n",
       "      <td>124.0</td>\n",
       "      <td>72.830144</td>\n",
       "      <td>3.182329</td>\n",
       "      <td>5.418207</td>\n",
       "      <td>65</td>\n",
       "      <td>0.0</td>\n",
       "      <td>0.0</td>\n",
       "    </tr>\n",
       "    <tr>\n",
       "      <th>2020-01-01 02:00:00</th>\n",
       "      <td>0.12390</td>\n",
       "      <td>0.000000</td>\n",
       "      <td>0.000000</td>\n",
       "      <td>0.148081</td>\n",
       "      <td>0.457348</td>\n",
       "      <td>51.729121</td>\n",
       "      <td>0.856617</td>\n",
       "      <td>51.729121</td>\n",
       "      <td>0.026210</td>\n",
       "      <td>0.026210</td>\n",
       "      <td>124.0</td>\n",
       "      <td>72.270879</td>\n",
       "      <td>1.894239</td>\n",
       "      <td>3.250073</td>\n",
       "      <td>65</td>\n",
       "      <td>0.0</td>\n",
       "      <td>0.0</td>\n",
       "    </tr>\n",
       "    <tr>\n",
       "      <th>2020-01-01 03:00:00</th>\n",
       "      <td>0.12568</td>\n",
       "      <td>0.000000</td>\n",
       "      <td>0.000000</td>\n",
       "      <td>0.176148</td>\n",
       "      <td>0.392468</td>\n",
       "      <td>51.434404</td>\n",
       "      <td>0.857574</td>\n",
       "      <td>51.434404</td>\n",
       "      <td>0.031178</td>\n",
       "      <td>0.031178</td>\n",
       "      <td>124.0</td>\n",
       "      <td>72.565596</td>\n",
       "      <td>2.262458</td>\n",
       "      <td>3.866086</td>\n",
       "      <td>65</td>\n",
       "      <td>0.0</td>\n",
       "      <td>0.0</td>\n",
       "    </tr>\n",
       "    <tr>\n",
       "      <th>2020-01-01 04:00:00</th>\n",
       "      <td>0.12430</td>\n",
       "      <td>0.000000</td>\n",
       "      <td>0.000000</td>\n",
       "      <td>0.180930</td>\n",
       "      <td>0.334884</td>\n",
       "      <td>48.489593</td>\n",
       "      <td>0.860999</td>\n",
       "      <td>48.489593</td>\n",
       "      <td>0.032025</td>\n",
       "      <td>0.032025</td>\n",
       "      <td>124.0</td>\n",
       "      <td>75.510407</td>\n",
       "      <td>2.418193</td>\n",
       "      <td>3.971054</td>\n",
       "      <td>65</td>\n",
       "      <td>0.0</td>\n",
       "      <td>0.0</td>\n",
       "    </tr>\n",
       "    <tr>\n",
       "      <th>2020-01-01 05:00:00</th>\n",
       "      <td>0.12398</td>\n",
       "      <td>0.029593</td>\n",
       "      <td>0.000000</td>\n",
       "      <td>0.021875</td>\n",
       "      <td>0.327957</td>\n",
       "      <td>48.364535</td>\n",
       "      <td>0.861482</td>\n",
       "      <td>48.364535</td>\n",
       "      <td>0.028227</td>\n",
       "      <td>0.028227</td>\n",
       "      <td>124.0</td>\n",
       "      <td>75.635465</td>\n",
       "      <td>2.134940</td>\n",
       "      <td>3.500111</td>\n",
       "      <td>65</td>\n",
       "      <td>0.0</td>\n",
       "      <td>0.0</td>\n",
       "    </tr>\n",
       "    <tr>\n",
       "      <th>2020-01-01 06:00:00</th>\n",
       "      <td>0.12028</td>\n",
       "      <td>0.268627</td>\n",
       "      <td>0.308064</td>\n",
       "      <td>0.000000</td>\n",
       "      <td>0.339460</td>\n",
       "      <td>34.250995</td>\n",
       "      <td>0.811133</td>\n",
       "      <td>34.250995</td>\n",
       "      <td>0.221080</td>\n",
       "      <td>0.120280</td>\n",
       "      <td>124.0</td>\n",
       "      <td>89.749005</td>\n",
       "      <td>10.795010</td>\n",
       "      <td>14.914720</td>\n",
       "      <td>65</td>\n",
       "      <td>0.0</td>\n",
       "      <td>0.0</td>\n",
       "    </tr>\n",
       "    <tr>\n",
       "      <th>2020-01-01 07:00:00</th>\n",
       "      <td>0.11074</td>\n",
       "      <td>0.869427</td>\n",
       "      <td>1.625326</td>\n",
       "      <td>0.000000</td>\n",
       "      <td>0.352432</td>\n",
       "      <td>31.320757</td>\n",
       "      <td>0.744420</td>\n",
       "      <td>31.320757</td>\n",
       "      <td>0.715538</td>\n",
       "      <td>0.110740</td>\n",
       "      <td>124.0</td>\n",
       "      <td>92.679243</td>\n",
       "      <td>10.263299</td>\n",
       "      <td>13.731760</td>\n",
       "      <td>65</td>\n",
       "      <td>0.0</td>\n",
       "      <td>0.0</td>\n",
       "    </tr>\n",
       "    <tr>\n",
       "      <th>2020-01-01 08:00:00</th>\n",
       "      <td>0.11246</td>\n",
       "      <td>1.555565</td>\n",
       "      <td>3.215264</td>\n",
       "      <td>0.000000</td>\n",
       "      <td>0.259537</td>\n",
       "      <td>16.995515</td>\n",
       "      <td>0.723322</td>\n",
       "      <td>20.000000</td>\n",
       "      <td>1.280230</td>\n",
       "      <td>0.112460</td>\n",
       "      <td>124.0</td>\n",
       "      <td>107.004485</td>\n",
       "      <td>12.033724</td>\n",
       "      <td>13.945040</td>\n",
       "      <td>65</td>\n",
       "      <td>0.0</td>\n",
       "      <td>0.0</td>\n",
       "    </tr>\n",
       "    <tr>\n",
       "      <th>2020-01-01 09:00:00</th>\n",
       "      <td>0.11882</td>\n",
       "      <td>2.016303</td>\n",
       "      <td>4.279525</td>\n",
       "      <td>0.000000</td>\n",
       "      <td>0.191500</td>\n",
       "      <td>17.272880</td>\n",
       "      <td>0.706860</td>\n",
       "      <td>20.000000</td>\n",
       "      <td>1.659418</td>\n",
       "      <td>0.118820</td>\n",
       "      <td>124.0</td>\n",
       "      <td>106.727120</td>\n",
       "      <td>12.681316</td>\n",
       "      <td>14.733680</td>\n",
       "      <td>65</td>\n",
       "      <td>0.0</td>\n",
       "      <td>0.0</td>\n",
       "    </tr>\n",
       "    <tr>\n",
       "      <th>2020-01-01 10:00:00</th>\n",
       "      <td>0.11644</td>\n",
       "      <td>2.343821</td>\n",
       "      <td>4.947981</td>\n",
       "      <td>0.000000</td>\n",
       "      <td>0.067072</td>\n",
       "      <td>22.689094</td>\n",
       "      <td>0.710909</td>\n",
       "      <td>22.689094</td>\n",
       "      <td>1.928965</td>\n",
       "      <td>0.116440</td>\n",
       "      <td>124.0</td>\n",
       "      <td>101.310906</td>\n",
       "      <td>11.796642</td>\n",
       "      <td>14.438560</td>\n",
       "      <td>65</td>\n",
       "      <td>0.0</td>\n",
       "      <td>0.0</td>\n",
       "    </tr>\n",
       "  </tbody>\n",
       "</table>\n",
       "</div>"
      ],
      "text/plain": [
       "                        Load  DDSF1: PHOTOVOLTAIC FLAT PANEL  \\\n",
       "DateTime                                                       \n",
       "2020-01-01 01:00:00  0.12408                        0.000000   \n",
       "2020-01-01 02:00:00  0.12390                        0.000000   \n",
       "2020-01-01 03:00:00  0.12568                        0.000000   \n",
       "2020-01-01 04:00:00  0.12430                        0.000000   \n",
       "2020-01-01 05:00:00  0.12398                        0.029593   \n",
       "2020-01-01 06:00:00  0.12028                        0.268627   \n",
       "2020-01-01 07:00:00  0.11074                        0.869427   \n",
       "2020-01-01 08:00:00  0.11246                        1.555565   \n",
       "2020-01-01 09:00:00  0.11882                        2.016303   \n",
       "2020-01-01 10:00:00  0.11644                        2.343821   \n",
       "\n",
       "                     SMCSF1: PHOTOVOLTAIC FLAT PANEL  MEWF1: WIND - ONSHORE  \\\n",
       "DateTime                                                                      \n",
       "2020-01-01 01:00:00                         0.000000               0.246866   \n",
       "2020-01-01 02:00:00                         0.000000               0.148081   \n",
       "2020-01-01 03:00:00                         0.000000               0.176148   \n",
       "2020-01-01 04:00:00                         0.000000               0.180930   \n",
       "2020-01-01 05:00:00                         0.000000               0.021875   \n",
       "2020-01-01 06:00:00                         0.308064               0.000000   \n",
       "2020-01-01 07:00:00                         1.625326               0.000000   \n",
       "2020-01-01 08:00:00                         3.215264               0.000000   \n",
       "2020-01-01 09:00:00                         4.279525               0.000000   \n",
       "2020-01-01 10:00:00                         4.947981               0.000000   \n",
       "\n",
       "                     COOPGWF1: WIND - ONSHORE  RRP: QLD1  AEI: QLD1  \\\n",
       "DateTime                                                              \n",
       "2020-01-01 01:00:00                  0.442636  51.169856   0.857502   \n",
       "2020-01-01 02:00:00                  0.457348  51.729121   0.856617   \n",
       "2020-01-01 03:00:00                  0.392468  51.434404   0.857574   \n",
       "2020-01-01 04:00:00                  0.334884  48.489593   0.860999   \n",
       "2020-01-01 05:00:00                  0.327957  48.364535   0.861482   \n",
       "2020-01-01 06:00:00                  0.339460  34.250995   0.811133   \n",
       "2020-01-01 07:00:00                  0.352432  31.320757   0.744420   \n",
       "2020-01-01 08:00:00                  0.259537  16.995515   0.723322   \n",
       "2020-01-01 09:00:00                  0.191500  17.272880   0.706860   \n",
       "2020-01-01 10:00:00                  0.067072  22.689094   0.710909   \n",
       "\n",
       "                     Firming price: QLD1    Hybrid  Contracted Energy  \\\n",
       "DateTime                                                                \n",
       "2020-01-01 01:00:00            51.169856  0.043695           0.043695   \n",
       "2020-01-01 02:00:00            51.729121  0.026210           0.026210   \n",
       "2020-01-01 03:00:00            51.434404  0.031178           0.031178   \n",
       "2020-01-01 04:00:00            48.489593  0.032025           0.032025   \n",
       "2020-01-01 05:00:00            48.364535  0.028227           0.028227   \n",
       "2020-01-01 06:00:00            34.250995  0.221080           0.120280   \n",
       "2020-01-01 07:00:00            31.320757  0.715538           0.110740   \n",
       "2020-01-01 08:00:00            20.000000  1.280230           0.112460   \n",
       "2020-01-01 09:00:00            20.000000  1.659418           0.118820   \n",
       "2020-01-01 10:00:00            22.689094  1.928965           0.116440   \n",
       "\n",
       "                     Strike Price (Indexed)       Price  PPA Settlement  \\\n",
       "DateTime                                                                  \n",
       "2020-01-01 01:00:00                   124.0   72.830144        3.182329   \n",
       "2020-01-01 02:00:00                   124.0   72.270879        1.894239   \n",
       "2020-01-01 03:00:00                   124.0   72.565596        2.262458   \n",
       "2020-01-01 04:00:00                   124.0   75.510407        2.418193   \n",
       "2020-01-01 05:00:00                   124.0   75.635465        2.134940   \n",
       "2020-01-01 06:00:00                   124.0   89.749005       10.795010   \n",
       "2020-01-01 07:00:00                   124.0   92.679243       10.263299   \n",
       "2020-01-01 08:00:00                   124.0  107.004485       12.033724   \n",
       "2020-01-01 09:00:00                   124.0  106.727120       12.681316   \n",
       "2020-01-01 10:00:00                   124.0  101.310906       11.796642   \n",
       "\n",
       "                     PPA Value  Excess Price  Excess Energy  \\\n",
       "DateTime                                                      \n",
       "2020-01-01 01:00:00   5.418207            65            0.0   \n",
       "2020-01-01 02:00:00   3.250073            65            0.0   \n",
       "2020-01-01 03:00:00   3.866086            65            0.0   \n",
       "2020-01-01 04:00:00   3.971054            65            0.0   \n",
       "2020-01-01 05:00:00   3.500111            65            0.0   \n",
       "2020-01-01 06:00:00  14.914720            65            0.0   \n",
       "2020-01-01 07:00:00  13.731760            65            0.0   \n",
       "2020-01-01 08:00:00  13.945040            65            0.0   \n",
       "2020-01-01 09:00:00  14.733680            65            0.0   \n",
       "2020-01-01 10:00:00  14.438560            65            0.0   \n",
       "\n",
       "                     Excess Energy Revenue  \n",
       "DateTime                                    \n",
       "2020-01-01 01:00:00                    0.0  \n",
       "2020-01-01 02:00:00                    0.0  \n",
       "2020-01-01 03:00:00                    0.0  \n",
       "2020-01-01 04:00:00                    0.0  \n",
       "2020-01-01 05:00:00                    0.0  \n",
       "2020-01-01 06:00:00                    0.0  \n",
       "2020-01-01 07:00:00                    0.0  \n",
       "2020-01-01 08:00:00                    0.0  \n",
       "2020-01-01 09:00:00                    0.0  \n",
       "2020-01-01 10:00:00                    0.0  "
      ]
     },
     "execution_count": 8,
     "metadata": {},
     "output_type": "execute_result"
    }
   ],
   "source": [
    "combined_data_firming.head(10)"
   ]
  },
  {
   "cell_type": "code",
   "execution_count": 9,
   "metadata": {},
   "outputs": [
    {
     "data": {
      "text/html": [
       "<div>\n",
       "<style scoped>\n",
       "    .dataframe tbody tr th:only-of-type {\n",
       "        vertical-align: middle;\n",
       "    }\n",
       "\n",
       "    .dataframe tbody tr th {\n",
       "        vertical-align: top;\n",
       "    }\n",
       "\n",
       "    .dataframe thead th {\n",
       "        text-align: right;\n",
       "    }\n",
       "</style>\n",
       "<table border=\"1\" class=\"dataframe\">\n",
       "  <thead>\n",
       "    <tr style=\"text-align: right;\">\n",
       "      <th></th>\n",
       "      <th>PPA Value</th>\n",
       "      <th>PPA Settlement</th>\n",
       "      <th>Firming Costs</th>\n",
       "      <th>Revenue from on-sold RE</th>\n",
       "      <th>Revenue from excess LGCs</th>\n",
       "      <th>Cost of shortfall LGCs</th>\n",
       "      <th>Shortfall Payments Received</th>\n",
       "      <th>Total</th>\n",
       "    </tr>\n",
       "    <tr>\n",
       "      <th>DateTime</th>\n",
       "      <th></th>\n",
       "      <th></th>\n",
       "      <th></th>\n",
       "      <th></th>\n",
       "      <th></th>\n",
       "      <th></th>\n",
       "      <th></th>\n",
       "      <th></th>\n",
       "    </tr>\n",
       "  </thead>\n",
       "  <tbody>\n",
       "    <tr>\n",
       "      <th>2020-12-31</th>\n",
       "      <td>432418.231414</td>\n",
       "      <td>313882.440608</td>\n",
       "      <td>98768.210911</td>\n",
       "      <td>-0.0</td>\n",
       "      <td>0.0</td>\n",
       "      <td>44573.407945</td>\n",
       "      <td>-31838.148532</td>\n",
       "      <td>857804.142346</td>\n",
       "    </tr>\n",
       "    <tr>\n",
       "      <th>2021-12-31</th>\n",
       "      <td>0.000000</td>\n",
       "      <td>0.000000</td>\n",
       "      <td>4.007367</td>\n",
       "      <td>-0.0</td>\n",
       "      <td>0.0</td>\n",
       "      <td>3.743145</td>\n",
       "      <td>-2.673675</td>\n",
       "      <td>5.076837</td>\n",
       "    </tr>\n",
       "  </tbody>\n",
       "</table>\n",
       "</div>"
      ],
      "text/plain": [
       "                PPA Value  PPA Settlement  Firming Costs  \\\n",
       "DateTime                                                   \n",
       "2020-12-31  432418.231414   313882.440608   98768.210911   \n",
       "2021-12-31       0.000000        0.000000       4.007367   \n",
       "\n",
       "            Revenue from on-sold RE  Revenue from excess LGCs  \\\n",
       "DateTime                                                        \n",
       "2020-12-31                     -0.0                       0.0   \n",
       "2021-12-31                     -0.0                       0.0   \n",
       "\n",
       "            Cost of shortfall LGCs  Shortfall Payments Received          Total  \n",
       "DateTime                                                                        \n",
       "2020-12-31            44573.407945                -31838.148532  857804.142346  \n",
       "2021-12-31                3.743145                    -2.673675       5.076837  "
      ]
     },
     "execution_count": 9,
     "metadata": {},
     "output_type": "execute_result"
    }
   ],
   "source": [
    "bill"
   ]
  },
  {
   "cell_type": "code",
   "execution_count": null,
   "metadata": {},
   "outputs": [],
   "source": []
  }
 ],
 "metadata": {
  "kernelspec": {
   "display_name": "Python 3 (ipykernel)",
   "language": "python",
   "name": "python3"
  },
  "language_info": {
   "codemirror_mode": {
    "name": "ipython",
    "version": 3
   },
   "file_extension": ".py",
   "mimetype": "text/x-python",
   "name": "python",
   "nbconvert_exporter": "python",
   "pygments_lexer": "ipython3",
   "version": "3.10.12"
  }
 },
 "nbformat": 4,
 "nbformat_minor": 4
}
