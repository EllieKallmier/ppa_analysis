{
 "cells": [
  {
   "cell_type": "code",
   "execution_count": 1,
   "metadata": {
    "editable": true,
    "slideshow": {
     "slide_type": ""
    },
    "tags": []
   },
   "outputs": [
    {
     "name": "stdout",
     "output_type": "stream",
     "text": [
      "INFO: Using Python-MIP package version 1.15.0\n"
     ]
    }
   ],
   "source": [
    "# ------------------------------ Packages & Files ------------------------------\n",
    "from pathlib import Path\n",
    "\n",
    "import pandas as pd\n",
    "import plotly.express as px\n",
    "import plotly.graph_objects as go\n",
    "from plotly.subplots import make_subplots\n",
    "\n",
    "import ipywidgets as widgets\n",
    "from IPython.display import display, HTML\n",
    "\n",
    "from ppa_analysis import user_inputs, advanced_settings, hybrid, import_data,\\\n",
    "    bill_calc, battery, firming_contracts"
   ]
  },
  {
   "cell_type": "code",
   "execution_count": 2,
   "metadata": {
    "editable": true,
    "hidden": true,
    "slideshow": {
     "slide_type": ""
    }
   },
   "outputs": [
    {
     "data": {
      "text/html": [
       "\n",
       "        <style>\n",
       "        .widget-label { min-width: 30ex !important; }\n",
       "        .widget-select select { min-width: 70ex !important; }\n",
       "        .widget-dropdown select { min-width: 70ex !important; }\n",
       "        .widget-floattext input { min-width: 70ex !important; }\n",
       "        </style>\n",
       "        "
      ],
      "text/plain": [
       "<IPython.core.display.HTML object>"
      ]
     },
     "metadata": {},
     "output_type": "display_data"
    },
    {
     "data": {
      "text/html": [
       "\n",
       "        <h3>Historical data selection:</h3>\n",
       "        "
      ],
      "text/plain": [
       "<IPython.core.display.HTML object>"
      ]
     },
     "metadata": {},
     "output_type": "display_data"
    },
    {
     "name": "stdout",
     "output_type": "stream",
     "text": [
      "/Users/elliekallmier/Desktop/RA_Work/247/247_ppa/ppa_analysis\n",
      "data_caches/yearly_data_files\n"
     ]
    },
    {
     "data": {
      "application/vnd.jupyter.widget-view+json": {
       "model_id": "ed70c52efb3f45d29790c0805cc35451",
       "version_major": 2,
       "version_minor": 0
      },
      "text/plain": [
       "Dropdown(description='Year:', options=('2020', '2021'), value='2020')"
      ]
     },
     "metadata": {},
     "output_type": "display_data"
    },
    {
     "data": {
      "application/vnd.jupyter.widget-view+json": {
       "model_id": "b6606e45e58049b59315ebffb8c5da5d",
       "version_major": 2,
       "version_minor": 0
      },
      "text/plain": [
       "Dropdown(description='Generator region:', options=('QLD1', 'NSW1', 'VIC1', 'SA1', 'TAS1'), value='QLD1')"
      ]
     },
     "metadata": {},
     "output_type": "display_data"
    },
    {
     "data": {
      "application/vnd.jupyter.widget-view+json": {
       "model_id": "79ed548ac6f24e77a1a785c612752c6e",
       "version_major": 2,
       "version_minor": 0
      },
      "text/plain": [
       "Dropdown(description='Load region:', options=('QLD1', 'NSW1', 'VIC1', 'SA1', 'TAS1'), value='QLD1')"
      ]
     },
     "metadata": {},
     "output_type": "display_data"
    },
    {
     "data": {
      "application/vnd.jupyter.widget-view+json": {
       "model_id": "1f2cf6cdda0a405490ff45cf0f68622d",
       "version_major": 2,
       "version_minor": 0
      },
      "text/plain": [
       "Dropdown(description='Load data file:', options=('(57) Sewerage treatment FN.csv', '(54) Office building FN.cs…"
      ]
     },
     "metadata": {},
     "output_type": "display_data"
    },
    {
     "data": {
      "application/vnd.jupyter.widget-view+json": {
       "model_id": "7df5c47703f14f9eb1cefc1c89ae589c",
       "version_major": 2,
       "version_minor": 0
      },
      "text/plain": [
       "SelectMultiple(description='Generators:', index=(0, 1, 2, 3), options=('CSPVPS1: PHOTOVOLTAIC FLAT PANEL', 'CO…"
      ]
     },
     "metadata": {},
     "output_type": "display_data"
    },
    {
     "data": {
      "text/html": [
       "\n",
       "        <h3>Contract paramters:</h3>\n",
       "        "
      ],
      "text/plain": [
       "<IPython.core.display.HTML object>"
      ]
     },
     "metadata": {},
     "output_type": "display_data"
    },
    {
     "data": {
      "text/html": [
       "\n",
       "        <h4> - All contracts:</h4>\n",
       "        "
      ],
      "text/plain": [
       "<IPython.core.display.HTML object>"
      ]
     },
     "metadata": {},
     "output_type": "display_data"
    },
    {
     "data": {
      "application/vnd.jupyter.widget-view+json": {
       "model_id": "af8b847d7cfa4e35a73da46c32f1a91d",
       "version_major": 2,
       "version_minor": 0
      },
      "text/plain": [
       "Dropdown(description='Contract type:', options=('Pay as Produced', 'Pay as Consumed', 'Shaped', 'Baseload', '2…"
      ]
     },
     "metadata": {},
     "output_type": "display_data"
    },
    {
     "data": {
      "application/vnd.jupyter.widget-view+json": {
       "model_id": "e5253fc680684133b611b5328c1a0c28",
       "version_major": 2,
       "version_minor": 0
      },
      "text/plain": [
       "Dropdown(description='Firming contract type:', options=('Wholesale exposed', 'Partially wholesale exposed', 'R…"
      ]
     },
     "metadata": {},
     "output_type": "display_data"
    },
    {
     "data": {
      "application/vnd.jupyter.widget-view+json": {
       "model_id": "c04a1bbc2e2a406e945a9fd0d3015078",
       "version_major": 2,
       "version_minor": 0
      },
      "text/plain": [
       "Dropdown(description='Settlment period:', options=('Y', 'M', 'Q'), value='Y')"
      ]
     },
     "metadata": {},
     "output_type": "display_data"
    },
    {
     "data": {
      "application/vnd.jupyter.widget-view+json": {
       "model_id": "2e4ad2e4220a49bb87c092aecef51289",
       "version_major": 2,
       "version_minor": 0
      },
      "text/plain": [
       "BoundedFloatText(value=100.0, description='Contract amount (%):')"
      ]
     },
     "metadata": {},
     "output_type": "display_data"
    },
    {
     "data": {
      "application/vnd.jupyter.widget-view+json": {
       "model_id": "8046388ba4744518ad879a5c8af3720c",
       "version_major": 2,
       "version_minor": 0
      },
      "text/plain": [
       "FloatText(value=100.0, description='Strike price ($/MW/h):')"
      ]
     },
     "metadata": {},
     "output_type": "display_data"
    },
    {
     "data": {
      "application/vnd.jupyter.widget-view+json": {
       "model_id": "416a9597e7a04a8a96d390407104ad7f",
       "version_major": 2,
       "version_minor": 0
      },
      "text/plain": [
       "FloatText(value=35.0, description='LGC buy price ($/MW/h):')"
      ]
     },
     "metadata": {},
     "output_type": "display_data"
    },
    {
     "data": {
      "application/vnd.jupyter.widget-view+json": {
       "model_id": "7848268a669d4dd1b2f2383e37513bc6",
       "version_major": 2,
       "version_minor": 0
      },
      "text/plain": [
       "FloatText(value=20.0, description='LGC sell price ($/MW/h):')"
      ]
     },
     "metadata": {},
     "output_type": "display_data"
    },
    {
     "data": {
      "application/vnd.jupyter.widget-view+json": {
       "model_id": "4988351ca2da4a8d9229391bf3f27a47",
       "version_major": 2,
       "version_minor": 0
      },
      "text/plain": [
       "FloatText(value=25.0, description='Short fall penalty ($/MW/h):')"
      ]
     },
     "metadata": {},
     "output_type": "display_data"
    },
    {
     "data": {
      "application/vnd.jupyter.widget-view+json": {
       "model_id": "2d73eb26f8e74fa48dcdd2f8bd11cdc4",
       "version_major": 2,
       "version_minor": 0
      },
      "text/plain": [
       "BoundedFloatText(value=85.0, description='Guaranteed percentage (%):')"
      ]
     },
     "metadata": {},
     "output_type": "display_data"
    },
    {
     "data": {
      "application/vnd.jupyter.widget-view+json": {
       "model_id": "eeae7ea231974a0c8f4e178d48b57f7b",
       "version_major": 2,
       "version_minor": 0
      },
      "text/plain": [
       "FloatText(value=65.0, description='Floor price ($/MW/h):')"
      ]
     },
     "metadata": {},
     "output_type": "display_data"
    },
    {
     "data": {
      "application/vnd.jupyter.widget-view+json": {
       "model_id": "57659c86617347989cb07df3d6467b32",
       "version_major": 2,
       "version_minor": 0
      },
      "text/plain": [
       "FloatText(value=65.0, description='Excess price ($/MW/h):')"
      ]
     },
     "metadata": {},
     "output_type": "display_data"
    },
    {
     "data": {
      "application/vnd.jupyter.widget-view+json": {
       "model_id": "301305a2c22d4b56a32bbc0b50fc01be",
       "version_major": 2,
       "version_minor": 0
      },
      "text/plain": [
       "BoundedFloatText(value=1.0, description='Indexation (%):')"
      ]
     },
     "metadata": {},
     "output_type": "display_data"
    },
    {
     "data": {
      "application/vnd.jupyter.widget-view+json": {
       "model_id": "3392ccfa8ba24a3099d547b33de498e6",
       "version_major": 2,
       "version_minor": 0
      },
      "text/plain": [
       "Dropdown(description='Index period:', options=('Y',), value='Y')"
      ]
     },
     "metadata": {},
     "output_type": "display_data"
    },
    {
     "data": {
      "text/html": [
       "\n",
       "        <h4> - Shaped and baseload contracts only:</h4>\n",
       "        "
      ],
      "text/plain": [
       "<IPython.core.display.HTML object>"
      ]
     },
     "metadata": {},
     "output_type": "display_data"
    },
    {
     "data": {
      "application/vnd.jupyter.widget-view+json": {
       "model_id": "95abae661d074cc48bf5db09cce95856",
       "version_major": 2,
       "version_minor": 0
      },
      "text/plain": [
       "Dropdown(description='Redefine period:', index=2, options=('Y', 'Q', 'M'), value='M')"
      ]
     },
     "metadata": {},
     "output_type": "display_data"
    },
    {
     "data": {
      "text/html": [
       "\n",
       "        <h4> - Shaped contracts only:</h4>\n",
       "        "
      ],
      "text/plain": [
       "<IPython.core.display.HTML object>"
      ]
     },
     "metadata": {},
     "output_type": "display_data"
    },
    {
     "data": {
      "application/vnd.jupyter.widget-view+json": {
       "model_id": "3f79cb80b825440f9c88a3dc380ee0a2",
       "version_major": 2,
       "version_minor": 0
      },
      "text/plain": [
       "BoundedFloatText(value=1.0, description='Matching percentile:')"
      ]
     },
     "metadata": {},
     "output_type": "display_data"
    },
    {
     "data": {
      "text/html": [
       "\n",
       "        <h4> - Wholesale exposure only:</h4>\n",
       "        "
      ],
      "text/plain": [
       "<IPython.core.display.HTML object>"
      ]
     },
     "metadata": {},
     "output_type": "display_data"
    },
    {
     "data": {
      "application/vnd.jupyter.widget-view+json": {
       "model_id": "1c3d1cfb4b2e4994a1e47ab6c556d2e0",
       "version_major": 2,
       "version_minor": 0
      },
      "text/plain": [
       "FloatText(value=300.0, description='Exposure upper bound ($/MW/h):')"
      ]
     },
     "metadata": {},
     "output_type": "display_data"
    },
    {
     "data": {
      "application/vnd.jupyter.widget-view+json": {
       "model_id": "6af2ec3506794065b67ef8f99a1dfea0",
       "version_major": 2,
       "version_minor": 0
      },
      "text/plain": [
       "FloatText(value=20.0, description='Exposure lower bound ($/MW/h):')"
      ]
     },
     "metadata": {},
     "output_type": "display_data"
    },
    {
     "data": {
      "text/html": [
       "\n",
       "        <h4> - Analysis paramters:</h4>\n",
       "        "
      ],
      "text/plain": [
       "<IPython.core.display.HTML object>"
      ]
     },
     "metadata": {},
     "output_type": "display_data"
    },
    {
     "data": {
      "application/vnd.jupyter.widget-view+json": {
       "model_id": "2e02b357374b48e0bb1d7ef02749218e",
       "version_major": 2,
       "version_minor": 0
      },
      "text/plain": [
       "Dropdown(description='Time series interval:', options=('60',), value='60')"
      ]
     },
     "metadata": {},
     "output_type": "display_data"
    },
    {
     "data": {
      "application/vnd.jupyter.widget-view+json": {
       "model_id": "88a0c16a589949dea609c29580841efa",
       "version_major": 2,
       "version_minor": 0
      },
      "text/plain": [
       "Dropdown(description='Generator data set:', options=('GenCost 2018 Low',), value='GenCost 2018 Low')"
      ]
     },
     "metadata": {},
     "output_type": "display_data"
    }
   ],
   "source": [
    "# ------------------------------ Initialise the input collector ----------------\n",
    "input_collector = user_inputs.launch_input_collector()"
   ]
  },
  {
   "cell_type": "code",
   "execution_count": 3,
   "metadata": {},
   "outputs": [
    {
     "data": {
      "application/vnd.jupyter.widget-view+json": {
       "model_id": "09d73ebd3a9c4fc2b20a26b70e04daa0",
       "version_major": 2,
       "version_minor": 0
      },
      "text/plain": [
       "Output()"
      ]
     },
     "metadata": {},
     "output_type": "display_data"
    }
   ],
   "source": [
    "generator_data_editor = user_inputs.launch_generator_data_editor(input_collector)"
   ]
  },
  {
   "cell_type": "code",
   "execution_count": 4,
   "metadata": {},
   "outputs": [
    {
     "data": {
      "text/html": [
       "\n",
       "        <style>\n",
       "        .widget-label { min-width: 30ex !important; }\n",
       "        .widget-select select { min-width: 70ex !important; }\n",
       "        .widget-dropdown select { min-width: 70ex !important; }\n",
       "        .widget-floattext input { min-width: 70ex !important; }\n",
       "        </style>\n",
       "        "
      ],
      "text/plain": [
       "<IPython.core.display.HTML object>"
      ]
     },
     "metadata": {},
     "output_type": "display_data"
    },
    {
     "data": {
      "text/html": [
       "\n",
       "        <h3>Tariff Type:</h3>\n",
       "        "
      ],
      "text/plain": [
       "<IPython.core.display.HTML object>"
      ]
     },
     "metadata": {},
     "output_type": "display_data"
    },
    {
     "data": {
      "application/vnd.jupyter.widget-view+json": {
       "model_id": "69c87a55a5984f77b91731e413cde4a2",
       "version_major": 2,
       "version_minor": 0
      },
      "text/plain": [
       "Dropdown(description='Tariff structure:', options=('Flat', 'Time of Use'), value='Flat')"
      ]
     },
     "metadata": {},
     "output_type": "display_data"
    },
    {
     "data": {
      "application/vnd.jupyter.widget-view+json": {
       "model_id": "b6c014d123754ec4825d64cfec8ec8ac",
       "version_major": 2,
       "version_minor": 0
      },
      "text/plain": [
       "FloatText(value=0.0, description='Fixed daily charge rate ($/day):')"
      ]
     },
     "metadata": {},
     "output_type": "display_data"
    },
    {
     "data": {
      "application/vnd.jupyter.widget-view+json": {
       "model_id": "aa0f07a93a164784bc985eb2bae4897f",
       "version_major": 2,
       "version_minor": 0
      },
      "text/plain": [
       "Button(description='Add component', style=ButtonStyle())"
      ]
     },
     "metadata": {},
     "output_type": "display_data"
    },
    {
     "data": {
      "application/vnd.jupyter.widget-view+json": {
       "model_id": "d49e9dcc274f4c67b2cb4926ec4e3bbd",
       "version_major": 2,
       "version_minor": 0
      },
      "text/plain": [
       "Button(description='Remove component', style=ButtonStyle())"
      ]
     },
     "metadata": {},
     "output_type": "display_data"
    },
    {
     "data": {
      "application/vnd.jupyter.widget-view+json": {
       "model_id": "26a23213c09f4219a0befcc31ff0504f",
       "version_major": 2,
       "version_minor": 0
      },
      "text/plain": [
       "Output()"
      ]
     },
     "metadata": {},
     "output_type": "display_data"
    }
   ],
   "source": [
    "# test adding tariff inputs (dynamically?) - similar method as generators\n",
    "import functools\n",
    "\n",
    "def launch_tariff_type_collector():\n",
    "\n",
    "    display(HTML(\n",
    "        '''\n",
    "        <style>\n",
    "        .widget-label { min-width: 30ex !important; }\n",
    "        .widget-select select { min-width: 70ex !important; }\n",
    "        .widget-dropdown select { min-width: 70ex !important; }\n",
    "        .widget-floattext input { min-width: 70ex !important; }\n",
    "        </style>\n",
    "        '''\n",
    "    ))\n",
    "\n",
    "    display(HTML(\n",
    "        '''\n",
    "        <h3>Tariff Type:</h3>\n",
    "        '''\n",
    "    ))\n",
    "\n",
    "    tariff_type_collector = {}\n",
    "    tariff_type_collector['out'] = widgets.Output()\n",
    "\n",
    "    tariff_type_collector['tariff_structure_type'] = widgets.Dropdown(\n",
    "        options=advanced_settings.TARIFF_STRUCTURE_TYPES,\n",
    "        value=advanced_settings.TARIFF_STRUCTURE_TYPES[0],\n",
    "        description='Tariff structure:',\n",
    "        disabled=False,\n",
    "    )\n",
    "    display(tariff_type_collector['tariff_structure_type'])\n",
    "\n",
    "    tariff_type_collector['fixed_daily_rate'] = widgets.FloatText(\n",
    "        value=0.0,\n",
    "        description='Fixed daily charge rate ($/day):',\n",
    "    )\n",
    "    display(tariff_type_collector['fixed_daily_rate'])\n",
    "\n",
    "    return tariff_type_collector\n",
    "\n",
    "\n",
    "def add_tariff_component(old_list):#tariff_details_editor, component, tariff_type_collector):\n",
    "    new_list = old_list\n",
    "    new_list.append(len(old_list))\n",
    "    print(f'added: new_list = {new_list}')\n",
    "    return new_list\n",
    "\n",
    "\n",
    "def remove_tariff_component(old_list):#tariff_details_editor, component):\n",
    "    if len(old_list) >= 1:\n",
    "        new_list = old_list\n",
    "        new_list.pop(-1)\n",
    "    else:\n",
    "        new_list = old_list\n",
    "    \n",
    "    print(f'removed: new_list = {new_list}')\n",
    "    return new_list\n",
    "\n",
    "\n",
    "def update_tariff_details(tariff_details_editor, tariff_type_collector, change=None):\n",
    "    if change is None:\n",
    "        for component in tariff_type_collector['components'].value:\n",
    "            add_tariff_component(tariff_details_editor, component, tariff_type_collector)\n",
    "    else:\n",
    "        if isinstance(change['new'], str):\n",
    "            change_new = [change['new']]\n",
    "        else:\n",
    "            change_new = change['new']\n",
    "        if isinstance(change['old'], str):\n",
    "            change_old = [change['old']]\n",
    "        else:\n",
    "            change_old = change['old']\n",
    "        for component in change_new:\n",
    "            if component not in change_old:\n",
    "                add_tariff_component(tariff_details_editor, component, tariff_type_collector)\n",
    "        for component in change_old:\n",
    "            if component not in change_new:\n",
    "                remove_tariff_component(tariff_details_editor, component)\n",
    "                pass\n",
    "            \n",
    "    tariff_details_editor['out'].clear_output()\n",
    "    with tariff_details_editor['out']:\n",
    "        for key, value in tariff_details_editor.items():\n",
    "            if key != 'out':\n",
    "                for k, v in value.items():\n",
    "                    display(v)\n",
    "                    \n",
    "    display(tariff_details_editor['out'])\n",
    "    return tariff_details_editor\n",
    "\n",
    "def launch_tariff_details_collector(tariff_type_collector):\n",
    "    tariff_details_editor = {}\n",
    "    tariff_details_editor['out'] = widgets.Output()\n",
    "\n",
    "    tariff_details_editor = update_tariff_details(\n",
    "        tariff_details_editor, tariff_type_collector\n",
    "    )\n",
    "\n",
    "    tariff_type_collector['tariff_structure_type'].observe(\n",
    "        functools.partial(\n",
    "            update_tariff_details,\n",
    "            tariff_details_editor,\n",
    "            tariff_type_collector\n",
    "        )\n",
    "    )\n",
    "\n",
    "    return\n",
    "\n",
    "\n",
    "\n",
    "tariff_type_editor = launch_tariff_type_collector()\n",
    "\n",
    "\n",
    "add_button = widgets.Button(description=\"Add component\")\n",
    "remove_button = widgets.Button(description=\"Remove component\")\n",
    "output = widgets.Output()\n",
    "display(add_button, remove_button, output)\n",
    "\n",
    "default_list = []\n",
    "def on_add_click(b, default_list):\n",
    "    with output:\n",
    "        default_list = add_tariff_component(default_list)\n",
    "\n",
    "def on_remove_click(b, default_list):\n",
    "    with output:\n",
    "        default_list = remove_tariff_component(default_list)\n",
    "\n",
    "add_button.on_click(functools.partial(on_add_click, default_list=default_list))\n",
    "remove_button.on_click(functools.partial(on_remove_click, default_list=default_list))"
   ]
  },
  {
   "cell_type": "code",
   "execution_count": null,
   "metadata": {},
   "outputs": [],
   "source": [
    "# def calculate_lcoe(\n",
    "#         generator_info:dict[str:object],\n",
    "#         merchant_percent:float\n",
    "#     ) -> float:\n",
    "        \n",
    "#         # Baseline assumptions:\n",
    "#         lifetime_years = 25\n",
    "#         low_dr = 0.06\n",
    "#         high_dr = 0.085\n",
    "\n",
    "#         discount_rate = high_dr*merchant_percent + low_dr*(1-merchant_percent)\n",
    "\n",
    "#         capital = generator_info['Capital ($/kW)']*1000\n",
    "#         construction_years = generator_info['Construction time']\n",
    "#         economic_life = generator_info['Economic life']\n",
    "#         fixed_om = generator_info['Fixed O&M ($/kW)']\n",
    "#         variable_om = generator_info['Variable O&M ($/kWh)']\n",
    "#         capacity_factor = generator_info['Capacity Factor']\n",
    "\n",
    "#         first_capital_sum = (capital*(1+discount_rate)**construction_years * discount_rate * (1+discount_rate)**economic_life) / (((1+discount_rate)**economic_life)-1)/(8760*capacity_factor)\n",
    "\n",
    "#         op_and_main = variable_om * ((fixed_om*1000)/(8760*capacity_factor))\n",
    "\n",
    "#         lcoe = first_capital_sum + op_and_main\n",
    "#         return lcoe"
   ]
  },
  {
   "cell_type": "code",
   "execution_count": 5,
   "metadata": {},
   "outputs": [],
   "source": [
    "# ------------------- Unpack LCOE Inputs -------------------------\n",
    "\n",
    "# Calculate LCOE from user inputs/predetermined values\n",
    "# Function takes in the  generator LCOE info dictionary, and calculates LCOE\n",
    "# for only one generator with each call.\n",
    "# Returns LCOE value in $/MW\n",
    "def calculate_lcoe(\n",
    "    generator_info:dict[str:object]        \n",
    ") -> float:\n",
    "    \n",
    "    # Baseline assumptions:\n",
    "    lifetime_years = 25\n",
    "    discount_rate = 0.07         # AEMC uses 6-8.5% for all technologies\n",
    "\n",
    "    capital_cost = generator_info['capital'].value * generator_info['capacity'].value\n",
    "    numerator, denominator = 0, 0\n",
    "    for year in range(1,lifetime_years+1):\n",
    "        kwh_in_year_n = generator_info['capacity_factor'].value*generator_info['capacity'].value*(365*24)   # Note: this doesn't currently account for leap years!\n",
    "        numerator += (generator_info['fixed_om'].value * generator_info['capacity'].value\\\n",
    "                      + generator_info['variable_om'].value * kwh_in_year_n) / \\\n",
    "                        ((1 + discount_rate) ** year)\n",
    "        denominator += (kwh_in_year_n) / ((1 + discount_rate) ** year)\n",
    "    numerator += capital_cost\n",
    "\n",
    "    return (numerator / denominator)  * 1000\n",
    "\n",
    "\n",
    "# ----- Fetch inputs and set up info_dict data to pass to later functions:\n",
    "def get_all_lcoes(\n",
    "        generator_data_editor:dict[str:dict[str:object]]\n",
    ") -> dict[str:float]:\n",
    "    all_generator_lcoes = {}\n",
    "    for gen, gen_info in generator_data_editor.items():\n",
    "        if gen != 'out':\n",
    "            gen_lcoe = calculate_lcoe(gen_info)\n",
    "            all_generator_lcoes[gen] = gen_lcoe\n",
    "    \n",
    "    return all_generator_lcoes\n"
   ]
  },
  {
   "cell_type": "code",
   "execution_count": 8,
   "metadata": {},
   "outputs": [],
   "source": [
    "# Maybe this function is where the load gets pulled in, all the other data collecting\n",
    "# functions get called etc\n",
    "\n",
    "def collect_and_combine_data(\n",
    "        input_collector:dict\n",
    ") -> pd.DataFrame:    \n",
    "    # ----------------------------- Unpack user input ------------------------------\n",
    "    year_to_load_from_cache = input_collector['year'].value\n",
    "    year_to_load = int(year_to_load_from_cache)\n",
    "    GENERATOR_REGION = input_collector['generator_region'].value\n",
    "    LOAD_REGION = input_collector['load_region'].value\n",
    "    generators = list(input_collector['generators'].value)\n",
    "\n",
    "    # ------------------- Get Load Data --------------------\n",
    "    # if using preset data, use these hard coded values:\n",
    "    LOAD_DATA_DIR = 'data_caches/c_and_i_customer_loads'\n",
    "    load_filename = input_collector['load_data_file'].value\n",
    "    filepath = LOAD_DATA_DIR + '/' + load_filename\n",
    "    LOAD_DATETIME_COL_NAME = 'TS'\n",
    "    LOAD_COL_NAME = 'Load'\n",
    "    DAY_FIRST = True\n",
    "\n",
    "    # Units are definitely a question.\n",
    "    load_data, start_date, end_date = import_data.get_load_data(filepath, LOAD_DATETIME_COL_NAME, LOAD_COL_NAME, DAY_FIRST)\n",
    "    load_data = load_data / 1000    # convert to MWh\n",
    "    load_data = load_data[\n",
    "        (load_data.index >= f'{year_to_load}-01-01 00:00:00') & \n",
    "        (load_data.index < f'{year_to_load+1}-01-01 00:00:00')\n",
    "    ]\n",
    "\n",
    "    # else: TODO add another option here if users want to load in their own data\n",
    "\n",
    "    # ----------------------------- Get Generation Data ----------------------------\n",
    "    gen_data_file = (\n",
    "        advanced_settings.YEARLY_DATA_CACHE / \n",
    "        f'gen_data_{year_to_load_from_cache}.parquet'\n",
    "    )\n",
    "    gen_data = import_data.get_preprocessed_gen_data(\n",
    "        gen_data_file, [GENERATOR_REGION]\n",
    "    )\n",
    "    gen_data = gen_data[generators]\n",
    "\n",
    "    # --------------------------- Get Emissions Data -------------------------------\n",
    "    emissions_data_file = (\n",
    "        advanced_settings.YEARLY_DATA_CACHE / \n",
    "        f'emissions_data_{year_to_load_from_cache}.parquet'\n",
    "    )\n",
    "    emissions_intensity = import_data.get_preprocessed_avg_intensity_emissions_data(\n",
    "        emissions_data_file, [LOAD_REGION, GENERATOR_REGION]\n",
    "    )\n",
    "\n",
    "    # ------------------------ Get Wholesale Price Data ----------------------------\n",
    "    price_data_file = (\n",
    "        advanced_settings.YEARLY_DATA_CACHE / \n",
    "        f'price_data_{year_to_load_from_cache}.parquet'\n",
    "    )\n",
    "    price_data = import_data.get_preprocessed_price_data(\n",
    "        price_data_file, [LOAD_REGION, GENERATOR_REGION]\n",
    "    )\n",
    "\n",
    "    combined_data = pd.concat([load_data, gen_data, price_data, emissions_intensity], axis='columns')\n",
    "\n",
    "    FIRMING_CONTRACT_TYPE = input_collector['firming_contract_type'].value\n",
    "    EXPOSURE_BOUND_UPPER = input_collector['exposure_upper_bound'].value\n",
    "    EXPOSURE_BOUND_LOWER = input_collector['exposure_lower_bound'].value\n",
    "    RETAIL_TARIFF_DETAILS = {}\n",
    "\n",
    "    # Add the firming details:\n",
    "    combined_data = firming_contracts.choose_firming_type(\n",
    "        FIRMING_CONTRACT_TYPE, combined_data, [LOAD_REGION], EXPOSURE_BOUND_UPPER, EXPOSURE_BOUND_LOWER, RETAIL_TARIFF_DETAILS\n",
    "    )\n",
    "\n",
    "    return combined_data"
   ]
  },
  {
   "cell_type": "code",
   "execution_count": 9,
   "metadata": {},
   "outputs": [
    {
     "name": "stdout",
     "output_type": "stream",
     "text": [
      "Some missing data found. Filled with zeros.\n",
      "\n"
     ]
    }
   ],
   "source": [
    "# At the moment: this is all assuming the use of sample load data stored with the tool\n",
    "\n",
    "gen_info = get_all_lcoes(generator_data_editor)\n",
    "combined_data = collect_and_combine_data(input_collector)\n",
    "\n",
    "# Had an issue with first row containing a few NaN values causing problems for \n",
    "# the firming column addition. But just using dropna without checks not a safe bet\n",
    "# necessarily...\n",
    "combined_data = combined_data.dropna(how='any', axis='rows')"
   ]
  },
  {
   "cell_type": "code",
   "execution_count": 10,
   "metadata": {},
   "outputs": [
    {
     "data": {
      "text/html": [
       "<div>\n",
       "<style scoped>\n",
       "    .dataframe tbody tr th:only-of-type {\n",
       "        vertical-align: middle;\n",
       "    }\n",
       "\n",
       "    .dataframe tbody tr th {\n",
       "        vertical-align: top;\n",
       "    }\n",
       "\n",
       "    .dataframe thead th {\n",
       "        text-align: right;\n",
       "    }\n",
       "</style>\n",
       "<table border=\"1\" class=\"dataframe\">\n",
       "  <thead>\n",
       "    <tr style=\"text-align: right;\">\n",
       "      <th></th>\n",
       "      <th>Load</th>\n",
       "      <th>CSPVPS1: PHOTOVOLTAIC FLAT PANEL</th>\n",
       "      <th>COOPGWF1: WIND - ONSHORE</th>\n",
       "      <th>DDSF1: PHOTOVOLTAIC FLAT PANEL</th>\n",
       "      <th>KSP1: PHOTOVOLTAIC FLAT PANEL</th>\n",
       "      <th>RRP: QLD1</th>\n",
       "      <th>AEI: QLD1</th>\n",
       "      <th>Firming price: QLD1</th>\n",
       "    </tr>\n",
       "    <tr>\n",
       "      <th>DateTime</th>\n",
       "      <th></th>\n",
       "      <th></th>\n",
       "      <th></th>\n",
       "      <th></th>\n",
       "      <th></th>\n",
       "      <th></th>\n",
       "      <th></th>\n",
       "      <th></th>\n",
       "    </tr>\n",
       "  </thead>\n",
       "  <tbody>\n",
       "    <tr>\n",
       "      <th>2020-01-01 01:00:00</th>\n",
       "      <td>1.130672</td>\n",
       "      <td>0.00000</td>\n",
       "      <td>78.052959</td>\n",
       "      <td>0.000000</td>\n",
       "      <td>0.0</td>\n",
       "      <td>51.169856</td>\n",
       "      <td>0.857502</td>\n",
       "      <td>51.169856</td>\n",
       "    </tr>\n",
       "    <tr>\n",
       "      <th>2020-01-01 02:00:00</th>\n",
       "      <td>1.125658</td>\n",
       "      <td>0.00000</td>\n",
       "      <td>80.647394</td>\n",
       "      <td>0.000000</td>\n",
       "      <td>0.0</td>\n",
       "      <td>51.729121</td>\n",
       "      <td>0.856617</td>\n",
       "      <td>51.729121</td>\n",
       "    </tr>\n",
       "    <tr>\n",
       "      <th>2020-01-01 03:00:00</th>\n",
       "      <td>1.018156</td>\n",
       "      <td>0.00000</td>\n",
       "      <td>69.206657</td>\n",
       "      <td>0.000000</td>\n",
       "      <td>0.0</td>\n",
       "      <td>51.434404</td>\n",
       "      <td>0.857574</td>\n",
       "      <td>51.434404</td>\n",
       "    </tr>\n",
       "    <tr>\n",
       "      <th>2020-01-01 04:00:00</th>\n",
       "      <td>1.042728</td>\n",
       "      <td>0.00000</td>\n",
       "      <td>59.052380</td>\n",
       "      <td>0.000000</td>\n",
       "      <td>0.0</td>\n",
       "      <td>48.489593</td>\n",
       "      <td>0.860999</td>\n",
       "      <td>48.489593</td>\n",
       "    </tr>\n",
       "    <tr>\n",
       "      <th>2020-01-01 05:00:00</th>\n",
       "      <td>1.032308</td>\n",
       "      <td>0.14225</td>\n",
       "      <td>57.830890</td>\n",
       "      <td>1.214922</td>\n",
       "      <td>0.0</td>\n",
       "      <td>48.364535</td>\n",
       "      <td>0.861482</td>\n",
       "      <td>48.364535</td>\n",
       "    </tr>\n",
       "  </tbody>\n",
       "</table>\n",
       "</div>"
      ],
      "text/plain": [
       "                         Load  CSPVPS1: PHOTOVOLTAIC FLAT PANEL  \\\n",
       "DateTime                                                          \n",
       "2020-01-01 01:00:00  1.130672                           0.00000   \n",
       "2020-01-01 02:00:00  1.125658                           0.00000   \n",
       "2020-01-01 03:00:00  1.018156                           0.00000   \n",
       "2020-01-01 04:00:00  1.042728                           0.00000   \n",
       "2020-01-01 05:00:00  1.032308                           0.14225   \n",
       "\n",
       "                     COOPGWF1: WIND - ONSHORE  DDSF1: PHOTOVOLTAIC FLAT PANEL  \\\n",
       "DateTime                                                                        \n",
       "2020-01-01 01:00:00                 78.052959                        0.000000   \n",
       "2020-01-01 02:00:00                 80.647394                        0.000000   \n",
       "2020-01-01 03:00:00                 69.206657                        0.000000   \n",
       "2020-01-01 04:00:00                 59.052380                        0.000000   \n",
       "2020-01-01 05:00:00                 57.830890                        1.214922   \n",
       "\n",
       "                     KSP1: PHOTOVOLTAIC FLAT PANEL  RRP: QLD1  AEI: QLD1  \\\n",
       "DateTime                                                                   \n",
       "2020-01-01 01:00:00                            0.0  51.169856   0.857502   \n",
       "2020-01-01 02:00:00                            0.0  51.729121   0.856617   \n",
       "2020-01-01 03:00:00                            0.0  51.434404   0.857574   \n",
       "2020-01-01 04:00:00                            0.0  48.489593   0.860999   \n",
       "2020-01-01 05:00:00                            0.0  48.364535   0.861482   \n",
       "\n",
       "                     Firming price: QLD1  \n",
       "DateTime                                  \n",
       "2020-01-01 01:00:00            51.169856  \n",
       "2020-01-01 02:00:00            51.729121  \n",
       "2020-01-01 03:00:00            51.434404  \n",
       "2020-01-01 04:00:00            48.489593  \n",
       "2020-01-01 05:00:00            48.364535  "
      ]
     },
     "execution_count": 10,
     "metadata": {},
     "output_type": "execute_result"
    }
   ],
   "source": [
    "combined_data.head()"
   ]
  },
  {
   "cell_type": "code",
   "execution_count": 11,
   "metadata": {},
   "outputs": [],
   "source": [
    "# Now calculate the hybrid percentage here:\n",
    "contract_type = input_collector['contract_type'].value\n",
    "redefine_period = input_collector['redefine_period'].value\n",
    "contract_amount = input_collector['contract_amount'].value\n",
    "load_region = input_collector['load_region'].value\n",
    "time_series_interval = input_collector['time_series_interval'].value\n",
    "matching_percentile = input_collector['matching_percentile'].value\n",
    "\n",
    "opt_hybrid, percentages = hybrid.create_hybrid_generation(\n",
    "    contract_type, \n",
    "    redefine_period,  \n",
    "    contract_amount, \n",
    "    combined_data, \n",
    "    load_region, \n",
    "    gen_info, \n",
    "    time_series_interval, \n",
    "    matching_percentile\n",
    ")\n",
    "\n",
    "# TODO: add chart here to show average day of generators and hybrid?"
   ]
  },
  {
   "cell_type": "code",
   "execution_count": 12,
   "metadata": {},
   "outputs": [],
   "source": [
    "settlement_period = input_collector['settlement_period'].value\n",
    "load_region = input_collector['load_region'].value\n",
    "strike_price = input_collector['strike_price'].value\n",
    "lgc_buy_price = input_collector['lgc_buy_price'].value\n",
    "lgc_sell_price = input_collector['lgc_sell_price'].value\n",
    "shortfall_penalty = input_collector['shortfall_penalty'].value\n",
    "guaranteed_percent = input_collector['guaranteed_percent'].value\n",
    "excess_price = input_collector['excess_price'].value\n",
    "indexation = input_collector['indexation'].value\n",
    "index_period = input_collector['index_period'].value\n",
    "floor_price = input_collector['floor_price'].value\n",
    "\n",
    "bill = bill_calc.calculate_bill(\n",
    "    volume_and_price=combined_data, \n",
    "    settlement_period=settlement_period, \n",
    "    contract_type=contract_type, \n",
    "    load_region=load_region, \n",
    "    strike_price=strike_price, \n",
    "    lgc_buy_price=lgc_buy_price, \n",
    "    lgc_sell_price=lgc_sell_price, \n",
    "    shortfall_penalty=shortfall_penalty, \n",
    "    guaranteed_percent=guaranteed_percent, \n",
    "    excess_price=excess_price, \n",
    "    indexation=indexation, \n",
    "    index_period=index_period, \n",
    "    floor_price=floor_price\n",
    ")"
   ]
  },
  {
   "cell_type": "code",
   "execution_count": 13,
   "metadata": {},
   "outputs": [
    {
     "data": {
      "text/html": [
       "<div>\n",
       "<style scoped>\n",
       "    .dataframe tbody tr th:only-of-type {\n",
       "        vertical-align: middle;\n",
       "    }\n",
       "\n",
       "    .dataframe tbody tr th {\n",
       "        vertical-align: top;\n",
       "    }\n",
       "\n",
       "    .dataframe thead th {\n",
       "        text-align: right;\n",
       "    }\n",
       "</style>\n",
       "<table border=\"1\" class=\"dataframe\">\n",
       "  <thead>\n",
       "    <tr style=\"text-align: right;\">\n",
       "      <th></th>\n",
       "      <th>PPA Value</th>\n",
       "      <th>PPA Settlement</th>\n",
       "      <th>Firming Costs</th>\n",
       "      <th>Revenue from on-sold RE</th>\n",
       "      <th>Revenue from excess LGCs</th>\n",
       "      <th>Cost of shortfall LGCs</th>\n",
       "      <th>Shortfall Payments Received</th>\n",
       "      <th>Total</th>\n",
       "    </tr>\n",
       "    <tr>\n",
       "      <th>DateTime</th>\n",
       "      <th></th>\n",
       "      <th></th>\n",
       "      <th></th>\n",
       "      <th></th>\n",
       "      <th></th>\n",
       "      <th></th>\n",
       "      <th></th>\n",
       "      <th></th>\n",
       "    </tr>\n",
       "  </thead>\n",
       "  <tbody>\n",
       "    <tr>\n",
       "      <th>2020-12-31</th>\n",
       "      <td>1.045745e+06</td>\n",
       "      <td>340314.353681</td>\n",
       "      <td>115671.99992</td>\n",
       "      <td>-171685.856436</td>\n",
       "      <td>-37502.537446</td>\n",
       "      <td>0.0</td>\n",
       "      <td>-0.0</td>\n",
       "      <td>952228.953377</td>\n",
       "    </tr>\n",
       "  </tbody>\n",
       "</table>\n",
       "</div>"
      ],
      "text/plain": [
       "               PPA Value  PPA Settlement  Firming Costs  \\\n",
       "DateTime                                                  \n",
       "2020-12-31  1.045745e+06   340314.353681   115671.99992   \n",
       "\n",
       "            Revenue from on-sold RE  Revenue from excess LGCs  \\\n",
       "DateTime                                                        \n",
       "2020-12-31           -171685.856436             -37502.537446   \n",
       "\n",
       "            Cost of shortfall LGCs  Shortfall Payments Received          Total  \n",
       "DateTime                                                                        \n",
       "2020-12-31                     0.0                         -0.0  952228.953377  "
      ]
     },
     "execution_count": 13,
     "metadata": {},
     "output_type": "execute_result"
    }
   ],
   "source": [
    "bill"
   ]
  },
  {
   "cell_type": "code",
   "execution_count": 14,
   "metadata": {},
   "outputs": [
    {
     "data": {
      "text/html": [
       "<div>\n",
       "<style scoped>\n",
       "    .dataframe tbody tr th:only-of-type {\n",
       "        vertical-align: middle;\n",
       "    }\n",
       "\n",
       "    .dataframe tbody tr th {\n",
       "        vertical-align: top;\n",
       "    }\n",
       "\n",
       "    .dataframe thead th {\n",
       "        text-align: right;\n",
       "    }\n",
       "</style>\n",
       "<table border=\"1\" class=\"dataframe\">\n",
       "  <thead>\n",
       "    <tr style=\"text-align: right;\">\n",
       "      <th></th>\n",
       "      <th>Wholesale Cost</th>\n",
       "      <th>LGC Cost</th>\n",
       "      <th>Total</th>\n",
       "    </tr>\n",
       "    <tr>\n",
       "      <th>DateTime</th>\n",
       "      <th></th>\n",
       "      <th></th>\n",
       "      <th></th>\n",
       "    </tr>\n",
       "  </thead>\n",
       "  <tbody>\n",
       "    <tr>\n",
       "      <th>2020-12-31</th>\n",
       "      <td>405901.989286</td>\n",
       "      <td>349126.54238</td>\n",
       "      <td>755028.531666</td>\n",
       "    </tr>\n",
       "  </tbody>\n",
       "</table>\n",
       "</div>"
      ],
      "text/plain": [
       "            Wholesale Cost      LGC Cost          Total\n",
       "DateTime                                               \n",
       "2020-12-31   405901.989286  349126.54238  755028.531666"
      ]
     },
     "execution_count": 14,
     "metadata": {},
     "output_type": "execute_result"
    }
   ],
   "source": [
    "wholesale_bill = bill_calc.calculate_wholesale_bill(\n",
    "    df=combined_data,\n",
    "    settlement_period=settlement_period,\n",
    "    load_region=load_region,\n",
    "    lgc_buy_price=lgc_buy_price\n",
    ")\n",
    "\n",
    "wholesale_bill"
   ]
  },
  {
   "cell_type": "markdown",
   "metadata": {},
   "source": [
    "## Add a behind-the-meter battery:"
   ]
  },
  {
   "cell_type": "code",
   "execution_count": 15,
   "metadata": {},
   "outputs": [
    {
     "data": {
      "text/html": [
       "\n",
       "        <style>\n",
       "        .widget-label { min-width: 30ex !important; }\n",
       "        .widget-select select { min-width: 70ex !important; }\n",
       "        .widget-dropdown select { min-width: 70ex !important; }\n",
       "        .widget-floattext input { min-width: 70ex !important; }\n",
       "        </style>\n",
       "        "
      ],
      "text/plain": [
       "<IPython.core.display.HTML object>"
      ]
     },
     "metadata": {},
     "output_type": "display_data"
    },
    {
     "data": {
      "text/html": [
       "\n",
       "        <h3>Battery inputs:</h3>\n",
       "        "
      ],
      "text/plain": [
       "<IPython.core.display.HTML object>"
      ]
     },
     "metadata": {},
     "output_type": "display_data"
    },
    {
     "data": {
      "application/vnd.jupyter.widget-view+json": {
       "model_id": "5bed40547838488fa1533bb9d910b7d0",
       "version_major": 2,
       "version_minor": 0
      },
      "text/plain": [
       "FloatText(value=1.0, description='Rated power capacity (MW):')"
      ]
     },
     "metadata": {},
     "output_type": "display_data"
    },
    {
     "data": {
      "application/vnd.jupyter.widget-view+json": {
       "model_id": "5d8c5e46ec13439ebd150f67656935f9",
       "version_major": 2,
       "version_minor": 0
      },
      "text/plain": [
       "FloatText(value=2.0, description='Battery size (MWh):')"
      ]
     },
     "metadata": {},
     "output_type": "display_data"
    }
   ],
   "source": [
    "battery_input_collector = user_inputs.launch_battery_input_collector()"
   ]
  },
  {
   "cell_type": "code",
   "execution_count": 16,
   "metadata": {},
   "outputs": [
    {
     "name": "stdout",
     "output_type": "stream",
     "text": [
      "Set parameter Username\n",
      "Academic license - for non-commercial use only - expires 2025-06-05\n",
      "Set parameter Username\n",
      "Academic license - for non-commercial use only - expires 2025-06-05\n"
     ]
    }
   ],
   "source": [
    "# Battery\n",
    "rated_power_capacity = battery_input_collector['rated_power_capacity'].value\n",
    "size_in_mwh = battery_input_collector['size_in_mwh'].value\n",
    "\n",
    "with_a_battery = battery.run_battery_optimisation(\n",
    "    df=combined_data,\n",
    "    load_col_to_use='Load', # Default - field may not even be useful long-term\n",
    "    region=load_region,\n",
    "    rated_power_capacity=rated_power_capacity,\n",
    "    size_in_mwh=size_in_mwh\n",
    "    # keeping charging and discharging efficiency as defaults for the moment...\n",
    ")"
   ]
  },
  {
   "cell_type": "code",
   "execution_count": null,
   "metadata": {},
   "outputs": [],
   "source": [
    "# Load Flex"
   ]
  }
 ],
 "metadata": {
  "kernelspec": {
   "display_name": "Python 3 (ipykernel)",
   "language": "python",
   "name": "python3"
  },
  "language_info": {
   "codemirror_mode": {
    "name": "ipython",
    "version": 3
   },
   "file_extension": ".py",
   "mimetype": "text/x-python",
   "name": "python",
   "nbconvert_exporter": "python",
   "pygments_lexer": "ipython3",
   "version": "3.11.9"
  }
 },
 "nbformat": 4,
 "nbformat_minor": 4
}
