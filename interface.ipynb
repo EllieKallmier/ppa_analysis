{
 "cells": [
  {
   "cell_type": "code",
   "execution_count": 1,
   "metadata": {
    "editable": true,
    "slideshow": {
     "slide_type": ""
    },
    "tags": []
   },
   "outputs": [
    {
     "name": "stdout",
     "output_type": "stream",
     "text": [
      "INFO: Using Python-MIP package version 1.16rc0\n"
     ]
    }
   ],
   "source": [
    "# ------------------------------ Packages & Files ------------------------------\n",
    "from pathlib import Path\n",
    "\n",
    "import pandas as pd\n",
    "import plotly.express as px\n",
    "import plotly.graph_objects as go\n",
    "from plotly.subplots import make_subplots\n",
    "\n",
    "import ipywidgets as widgets\n",
    "from IPython.display import display, HTML\n",
    "\n",
    "from ppa_analysis import user_inputs, advanced_settings, hybrid, import_data,\\\n",
    "    bill_calc, battery, firming_contracts"
   ]
  },
  {
   "cell_type": "code",
   "execution_count": 2,
   "metadata": {
    "editable": true,
    "hidden": true,
    "slideshow": {
     "slide_type": ""
    }
   },
   "outputs": [
    {
     "data": {
      "text/html": [
       "\n",
       "        <style>\n",
       "        .widget-label { min-width: 30ex !important; }\n",
       "        .widget-select select { min-width: 70ex !important; }\n",
       "        .widget-dropdown select { min-width: 70ex !important; }\n",
       "        .widget-floattext input { min-width: 70ex !important; }\n",
       "        </style>\n",
       "        "
      ],
      "text/plain": [
       "<IPython.core.display.HTML object>"
      ]
     },
     "metadata": {},
     "output_type": "display_data"
    },
    {
     "data": {
      "text/html": [
       "\n",
       "        <h3>Historical data selection:</h3>\n",
       "        "
      ],
      "text/plain": [
       "<IPython.core.display.HTML object>"
      ]
     },
     "metadata": {},
     "output_type": "display_data"
    },
    {
     "name": "stdout",
     "output_type": "stream",
     "text": [
      "C:\\Users\\nick\\Documents\\GitHub\\ppa_analysis\n",
      "data_caches\\yearly_data_files\n"
     ]
    },
    {
     "data": {
      "application/vnd.jupyter.widget-view+json": {
       "model_id": "6f26a5dc3ec5410fae03e02c180aa035",
       "version_major": 2,
       "version_minor": 0
      },
      "text/plain": [
       "Dropdown(description='Year:', options=('2020', '2021'), value='2020')"
      ]
     },
     "metadata": {},
     "output_type": "display_data"
    },
    {
     "data": {
      "application/vnd.jupyter.widget-view+json": {
       "model_id": "0396cdac271f4adf9ec052da5e1cbaa4",
       "version_major": 2,
       "version_minor": 0
      },
      "text/plain": [
       "Dropdown(description='Generator region:', options=('QLD1', 'NSW1', 'VIC1', 'SA1', 'TAS1'), value='QLD1')"
      ]
     },
     "metadata": {},
     "output_type": "display_data"
    },
    {
     "data": {
      "application/vnd.jupyter.widget-view+json": {
       "model_id": "b32f0ac118bb40b086b0d02568dd566d",
       "version_major": 2,
       "version_minor": 0
      },
      "text/plain": [
       "Dropdown(description='Load region:', options=('QLD1', 'NSW1', 'VIC1', 'SA1', 'TAS1'), value='QLD1')"
      ]
     },
     "metadata": {},
     "output_type": "display_data"
    },
    {
     "data": {
      "application/vnd.jupyter.widget-view+json": {
       "model_id": "22ee5b8f2bca4eb0a50b4f2a272e3597",
       "version_major": 2,
       "version_minor": 0
      },
      "text/plain": [
       "Dropdown(description='Load data file:', options=('(18) Hospital NQ.csv', '(20) Sawmill WB.csv', '(22) Hospital…"
      ]
     },
     "metadata": {},
     "output_type": "display_data"
    },
    {
     "data": {
      "application/vnd.jupyter.widget-view+json": {
       "model_id": "8d21ff08cfa64cfb9b9c305dfb117e04",
       "version_major": 2,
       "version_minor": 0
      },
      "text/plain": [
       "SelectMultiple(description='Generators:', index=(0, 1, 2, 3), options=('CSPVPS1: PHOTOVOLTAIC FLAT PANEL', 'CO…"
      ]
     },
     "metadata": {},
     "output_type": "display_data"
    },
    {
     "data": {
      "text/html": [
       "\n",
       "        <h3>Contract paramters:</h3>\n",
       "        "
      ],
      "text/plain": [
       "<IPython.core.display.HTML object>"
      ]
     },
     "metadata": {},
     "output_type": "display_data"
    },
    {
     "data": {
      "text/html": [
       "\n",
       "        <h4> - All contracts:</h4>\n",
       "        "
      ],
      "text/plain": [
       "<IPython.core.display.HTML object>"
      ]
     },
     "metadata": {},
     "output_type": "display_data"
    },
    {
     "data": {
      "application/vnd.jupyter.widget-view+json": {
       "model_id": "38d20c47c48f48c79ca2efe450fcb642",
       "version_major": 2,
       "version_minor": 0
      },
      "text/plain": [
       "Dropdown(description='Contract type:', options=('Pay as Produced', 'Pay as Consumed', 'Shaped', 'Baseload', '2…"
      ]
     },
     "metadata": {},
     "output_type": "display_data"
    },
    {
     "data": {
      "application/vnd.jupyter.widget-view+json": {
       "model_id": "164e6cd9a6314fba9782c920c287faa3",
       "version_major": 2,
       "version_minor": 0
      },
      "text/plain": [
       "Dropdown(description='Firming contract type:', options=('Wholesale exposed', 'Partially wholesale exposed', 'R…"
      ]
     },
     "metadata": {},
     "output_type": "display_data"
    },
    {
     "data": {
      "application/vnd.jupyter.widget-view+json": {
       "model_id": "552e606a3b4449d59aa69891e18b774e",
       "version_major": 2,
       "version_minor": 0
      },
      "text/plain": [
       "Dropdown(description='Settlment period:', options=('Y', 'M', 'Q'), value='Y')"
      ]
     },
     "metadata": {},
     "output_type": "display_data"
    },
    {
     "data": {
      "application/vnd.jupyter.widget-view+json": {
       "model_id": "244ed8aa2f224542980464aac40b7074",
       "version_major": 2,
       "version_minor": 0
      },
      "text/plain": [
       "BoundedFloatText(value=100.0, description='Contract amount (%):')"
      ]
     },
     "metadata": {},
     "output_type": "display_data"
    },
    {
     "data": {
      "application/vnd.jupyter.widget-view+json": {
       "model_id": "db78053126d541d8be4ae116615f563d",
       "version_major": 2,
       "version_minor": 0
      },
      "text/plain": [
       "FloatText(value=100.0, description='Strike price ($/MW/h):')"
      ]
     },
     "metadata": {},
     "output_type": "display_data"
    },
    {
     "data": {
      "application/vnd.jupyter.widget-view+json": {
       "model_id": "5578223996684673a2d5723777342dff",
       "version_major": 2,
       "version_minor": 0
      },
      "text/plain": [
       "FloatText(value=35.0, description='LGC buy price ($/MW/h):')"
      ]
     },
     "metadata": {},
     "output_type": "display_data"
    },
    {
     "data": {
      "application/vnd.jupyter.widget-view+json": {
       "model_id": "d1cecbcddee54ed1b343a832411bea78",
       "version_major": 2,
       "version_minor": 0
      },
      "text/plain": [
       "FloatText(value=20.0, description='LGC sell price ($/MW/h):')"
      ]
     },
     "metadata": {},
     "output_type": "display_data"
    },
    {
     "data": {
      "application/vnd.jupyter.widget-view+json": {
       "model_id": "b376ca74de1d41c5936ee49757b0f01f",
       "version_major": 2,
       "version_minor": 0
      },
      "text/plain": [
       "FloatText(value=25.0, description='Short fall penalty ($/MW/h):')"
      ]
     },
     "metadata": {},
     "output_type": "display_data"
    },
    {
     "data": {
      "application/vnd.jupyter.widget-view+json": {
       "model_id": "e0d83d3cebbe4e9b8b4af74393c5f098",
       "version_major": 2,
       "version_minor": 0
      },
      "text/plain": [
       "BoundedFloatText(value=85.0, description='Guaranteed percentage (%):')"
      ]
     },
     "metadata": {},
     "output_type": "display_data"
    },
    {
     "data": {
      "application/vnd.jupyter.widget-view+json": {
       "model_id": "406026fa679a42648a8cc4a57cf7e9aa",
       "version_major": 2,
       "version_minor": 0
      },
      "text/plain": [
       "FloatText(value=65.0, description='Floor price ($/MW/h):')"
      ]
     },
     "metadata": {},
     "output_type": "display_data"
    },
    {
     "data": {
      "application/vnd.jupyter.widget-view+json": {
       "model_id": "9e896b06d3374ea89a8ba3b410c797c0",
       "version_major": 2,
       "version_minor": 0
      },
      "text/plain": [
       "FloatText(value=65.0, description='Excess price ($/MW/h):')"
      ]
     },
     "metadata": {},
     "output_type": "display_data"
    },
    {
     "data": {
      "application/vnd.jupyter.widget-view+json": {
       "model_id": "ccd785ca9e3d4812a7d41a5606c42bdb",
       "version_major": 2,
       "version_minor": 0
      },
      "text/plain": [
       "BoundedFloatText(value=1.0, description='Indexation (%):')"
      ]
     },
     "metadata": {},
     "output_type": "display_data"
    },
    {
     "data": {
      "application/vnd.jupyter.widget-view+json": {
       "model_id": "2de0a8066e974432bc465b246a34cfbf",
       "version_major": 2,
       "version_minor": 0
      },
      "text/plain": [
       "Dropdown(description='Index period:', options=('Y',), value='Y')"
      ]
     },
     "metadata": {},
     "output_type": "display_data"
    },
    {
     "data": {
      "text/html": [
       "\n",
       "        <h4> - Shaped and baseload contracts only:</h4>\n",
       "        "
      ],
      "text/plain": [
       "<IPython.core.display.HTML object>"
      ]
     },
     "metadata": {},
     "output_type": "display_data"
    },
    {
     "data": {
      "application/vnd.jupyter.widget-view+json": {
       "model_id": "dbe123c43b464f719fa1d5d544d81f0b",
       "version_major": 2,
       "version_minor": 0
      },
      "text/plain": [
       "Dropdown(description='Redefine period:', index=2, options=('Y', 'Q', 'M'), value='M')"
      ]
     },
     "metadata": {},
     "output_type": "display_data"
    },
    {
     "data": {
      "text/html": [
       "\n",
       "        <h4> - Shaped contracts only:</h4>\n",
       "        "
      ],
      "text/plain": [
       "<IPython.core.display.HTML object>"
      ]
     },
     "metadata": {},
     "output_type": "display_data"
    },
    {
     "data": {
      "application/vnd.jupyter.widget-view+json": {
       "model_id": "6615c55477ad4c0b92dd92058723c506",
       "version_major": 2,
       "version_minor": 0
      },
      "text/plain": [
       "BoundedFloatText(value=1.0, description='Matching percentile:')"
      ]
     },
     "metadata": {},
     "output_type": "display_data"
    },
    {
     "data": {
      "text/html": [
       "\n",
       "        <h4> - Wholesale exposure only:</h4>\n",
       "        "
      ],
      "text/plain": [
       "<IPython.core.display.HTML object>"
      ]
     },
     "metadata": {},
     "output_type": "display_data"
    },
    {
     "data": {
      "application/vnd.jupyter.widget-view+json": {
       "model_id": "ffd36e6a0d9a412297b956da1fb0fe22",
       "version_major": 2,
       "version_minor": 0
      },
      "text/plain": [
       "FloatText(value=300.0, description='Exposure upper bound ($/MW/h):')"
      ]
     },
     "metadata": {},
     "output_type": "display_data"
    },
    {
     "data": {
      "application/vnd.jupyter.widget-view+json": {
       "model_id": "e4499d336010451fb36914ca108366f0",
       "version_major": 2,
       "version_minor": 0
      },
      "text/plain": [
       "FloatText(value=20.0, description='Exposure lower bound ($/MW/h):')"
      ]
     },
     "metadata": {},
     "output_type": "display_data"
    },
    {
     "data": {
      "text/html": [
       "\n",
       "        <h4> - Analysis paramters:</h4>\n",
       "        "
      ],
      "text/plain": [
       "<IPython.core.display.HTML object>"
      ]
     },
     "metadata": {},
     "output_type": "display_data"
    },
    {
     "data": {
      "application/vnd.jupyter.widget-view+json": {
       "model_id": "9669d7c5aa784e52b84370c1cb12bb21",
       "version_major": 2,
       "version_minor": 0
      },
      "text/plain": [
       "Dropdown(description='Time series interval:', options=('60',), value='60')"
      ]
     },
     "metadata": {},
     "output_type": "display_data"
    },
    {
     "data": {
      "application/vnd.jupyter.widget-view+json": {
       "model_id": "89a0fb549520461485eba42b2b999edf",
       "version_major": 2,
       "version_minor": 0
      },
      "text/plain": [
       "Dropdown(description='Generator data set:', options=('GenCost 2018 Low',), value='GenCost 2018 Low')"
      ]
     },
     "metadata": {},
     "output_type": "display_data"
    }
   ],
   "source": [
    "# ------------------------------ Initialise the input collector ----------------\n",
    "input_collector = user_inputs.launch_input_collector()"
   ]
  },
  {
   "cell_type": "code",
   "execution_count": 3,
   "metadata": {},
   "outputs": [
    {
     "data": {
      "application/vnd.jupyter.widget-view+json": {
       "model_id": "4501305ee6c344978300c120398bc022",
       "version_major": 2,
       "version_minor": 0
      },
      "text/plain": [
       "Output()"
      ]
     },
     "metadata": {},
     "output_type": "display_data"
    }
   ],
   "source": [
    "generator_data_editor = user_inputs.launch_generator_data_editor(input_collector)"
   ]
  },
  {
   "cell_type": "code",
   "execution_count": 4,
   "metadata": {},
   "outputs": [],
   "source": [
    "# ------------------- Unpack LCOE Inputs -------------------------\n",
    "\n",
    "# Calculate LCOE from user inputs/predetermined values\n",
    "# Function takes in the  generator LCOE info dictionary, and calculates LCOE\n",
    "# for only one generator with each call.\n",
    "# Returns LCOE value in $/MW\n",
    "def calculate_lcoe(\n",
    "    generator_info:dict[str:object]        \n",
    ") -> float:\n",
    "    \n",
    "    # Baseline assumptions:\n",
    "    lifetime_years = 25\n",
    "    discount_rate = 0.07         # AEMC uses 6-8.5% for all technologies\n",
    "\n",
    "    capital_cost = generator_info['capital'].value * generator_info['capacity'].value\n",
    "    numerator, denominator = 0, 0\n",
    "    for year in range(1,lifetime_years+1):\n",
    "        kwh_in_year_n = generator_info['capacity_factor'].value*generator_info['capacity'].value*(365*24)   # Note: this doesn't currently account for leap years!\n",
    "        numerator += (generator_info['fixed_om'].value * generator_info['capacity'].value\\\n",
    "                      + generator_info['variable_om'].value * kwh_in_year_n) / \\\n",
    "                        ((1 + discount_rate) ** year)\n",
    "        denominator += (kwh_in_year_n) / ((1 + discount_rate) ** year)\n",
    "    numerator += capital_cost\n",
    "\n",
    "    return (numerator / denominator)  * 1000\n",
    "\n",
    "\n",
    "# ----- Fetch inputs and set up info_dict data to pass to later functions:\n",
    "def get_all_lcoes(\n",
    "        generator_data_editor:dict[str:dict[str:object]]\n",
    ") -> dict[str:float]:\n",
    "    all_generator_lcoes = {}\n",
    "    for gen, gen_info in generator_data_editor.items():\n",
    "        if gen != 'out':\n",
    "            gen_lcoe = calculate_lcoe(gen_info)\n",
    "            all_generator_lcoes[gen] = gen_lcoe\n",
    "    \n",
    "    return all_generator_lcoes\n"
   ]
  },
  {
   "cell_type": "code",
   "execution_count": 5,
   "metadata": {},
   "outputs": [],
   "source": [
    "# Maybe this function is where the load gets pulled in, all the other data collecting\n",
    "# functions get called etc\n",
    "\n",
    "def collect_and_combine_data(\n",
    "        input_collector:dict\n",
    ") -> pd.DataFrame:    \n",
    "    # ----------------------------- Unpack user input ------------------------------\n",
    "    year_to_load_from_cache = input_collector['year'].value\n",
    "    year_to_load = int(year_to_load_from_cache)\n",
    "    GENERATOR_REGION = input_collector['generator_region'].value\n",
    "    LOAD_REGION = input_collector['load_region'].value\n",
    "    generators = list(input_collector['generators'].value)\n",
    "\n",
    "    # ------------------- Get Load Data --------------------\n",
    "    # if using preset data, use these hard coded values:\n",
    "    LOAD_DATA_DIR = 'data_caches/c_and_i_customer_loads'\n",
    "    load_filename = input_collector['load_data_file'].value\n",
    "    filepath = LOAD_DATA_DIR + '/' + load_filename\n",
    "    LOAD_DATETIME_COL_NAME = 'TS'\n",
    "    LOAD_COL_NAME = 'Load'\n",
    "    DAY_FIRST = True\n",
    "\n",
    "    # Units are definitely a question.\n",
    "    load_data, start_date, end_date = import_data.get_load_data(filepath, LOAD_DATETIME_COL_NAME, LOAD_COL_NAME, DAY_FIRST)\n",
    "    load_data = load_data / 1000    # convert to MWh\n",
    "    load_data = load_data[\n",
    "        (load_data.index >= f'{year_to_load}-01-01 00:00:00') & \n",
    "        (load_data.index < f'{year_to_load+1}-01-01 00:00:00')\n",
    "    ]\n",
    "\n",
    "    # else: TODO add another option here if users want to load in their own data\n",
    "\n",
    "    # ----------------------------- Get Generation Data ----------------------------\n",
    "    gen_data_file = (\n",
    "        advanced_settings.YEARLY_DATA_CACHE / \n",
    "        f'gen_data_{year_to_load_from_cache}.parquet'\n",
    "    )\n",
    "    gen_data = import_data.get_preprocessed_gen_data(\n",
    "        gen_data_file, [GENERATOR_REGION]\n",
    "    )\n",
    "    gen_data = gen_data[generators]\n",
    "\n",
    "    # --------------------------- Get Emissions Data -------------------------------\n",
    "    emissions_data_file = (\n",
    "        advanced_settings.YEARLY_DATA_CACHE / \n",
    "        f'emissions_data_{year_to_load_from_cache}.parquet'\n",
    "    )\n",
    "    emissions_intensity = import_data.get_preprocessed_avg_intensity_emissions_data(\n",
    "        emissions_data_file, [LOAD_REGION, GENERATOR_REGION]\n",
    "    )\n",
    "\n",
    "    # ------------------------ Get Wholesale Price Data ----------------------------\n",
    "    price_data_file = (\n",
    "        advanced_settings.YEARLY_DATA_CACHE / \n",
    "        f'price_data_{year_to_load_from_cache}.parquet'\n",
    "    )\n",
    "    price_data = import_data.get_preprocessed_price_data(\n",
    "        price_data_file, [LOAD_REGION, GENERATOR_REGION]\n",
    "    )\n",
    "\n",
    "    combined_data = pd.concat([load_data, gen_data, price_data, emissions_intensity], axis='columns')\n",
    "\n",
    "    FIRMING_CONTRACT_TYPE = input_collector['firming_contract_type'].value\n",
    "    EXPOSURE_BOUND_UPPER = input_collector['exposure_upper_bound'].value\n",
    "    EXPOSURE_BOUND_LOWER = input_collector['exposure_lower_bound'].value\n",
    "    RETAIL_TARIFF_DETAILS = {}\n",
    "\n",
    "    # Add the firming details:\n",
    "    combined_data = firming_contracts.choose_firming_type(\n",
    "        FIRMING_CONTRACT_TYPE, combined_data, [LOAD_REGION], EXPOSURE_BOUND_UPPER, EXPOSURE_BOUND_LOWER, RETAIL_TARIFF_DETAILS\n",
    "    )\n",
    "\n",
    "    return combined_data"
   ]
  },
  {
   "cell_type": "code",
   "execution_count": 6,
   "metadata": {},
   "outputs": [
    {
     "name": "stdout",
     "output_type": "stream",
     "text": [
      "Some missing data found. Filled with zeros.\n",
      "\n"
     ]
    }
   ],
   "source": [
    "# At the moment: this is all assuming the use of sample load data stored with the tool\n",
    "\n",
    "gen_info = get_all_lcoes(generator_data_editor)\n",
    "combined_data = collect_and_combine_data(input_collector)\n",
    "\n",
    "# Had an issue with first row containing a few NaN values causing problems for \n",
    "# the firming column addition. But just using dropna without checks not a safe bet\n",
    "# necessarily...\n",
    "combined_data = combined_data.dropna(how='any', axis='rows')"
   ]
  },
  {
   "cell_type": "code",
   "execution_count": 7,
   "metadata": {},
   "outputs": [
    {
     "data": {
      "text/html": [
       "<div>\n",
       "<style scoped>\n",
       "    .dataframe tbody tr th:only-of-type {\n",
       "        vertical-align: middle;\n",
       "    }\n",
       "\n",
       "    .dataframe tbody tr th {\n",
       "        vertical-align: top;\n",
       "    }\n",
       "\n",
       "    .dataframe thead th {\n",
       "        text-align: right;\n",
       "    }\n",
       "</style>\n",
       "<table border=\"1\" class=\"dataframe\">\n",
       "  <thead>\n",
       "    <tr style=\"text-align: right;\">\n",
       "      <th></th>\n",
       "      <th>Load</th>\n",
       "      <th>CSPVPS1: PHOTOVOLTAIC FLAT PANEL</th>\n",
       "      <th>COOPGWF1: WIND - ONSHORE</th>\n",
       "      <th>DDSF1: PHOTOVOLTAIC FLAT PANEL</th>\n",
       "      <th>KSP1: PHOTOVOLTAIC FLAT PANEL</th>\n",
       "      <th>RRP: QLD1</th>\n",
       "      <th>AEI: QLD1</th>\n",
       "      <th>Firming price: QLD1</th>\n",
       "    </tr>\n",
       "    <tr>\n",
       "      <th>DateTime</th>\n",
       "      <th></th>\n",
       "      <th></th>\n",
       "      <th></th>\n",
       "      <th></th>\n",
       "      <th></th>\n",
       "      <th></th>\n",
       "      <th></th>\n",
       "      <th></th>\n",
       "    </tr>\n",
       "  </thead>\n",
       "  <tbody>\n",
       "    <tr>\n",
       "      <th>2020-01-01 01:00:00</th>\n",
       "      <td>1.375219</td>\n",
       "      <td>0.00000</td>\n",
       "      <td>78.052959</td>\n",
       "      <td>0.000000</td>\n",
       "      <td>0.0</td>\n",
       "      <td>51.169856</td>\n",
       "      <td>0.857502</td>\n",
       "      <td>51.169856</td>\n",
       "    </tr>\n",
       "    <tr>\n",
       "      <th>2020-01-01 02:00:00</th>\n",
       "      <td>1.368420</td>\n",
       "      <td>0.00000</td>\n",
       "      <td>80.647394</td>\n",
       "      <td>0.000000</td>\n",
       "      <td>0.0</td>\n",
       "      <td>51.729121</td>\n",
       "      <td>0.856617</td>\n",
       "      <td>51.729121</td>\n",
       "    </tr>\n",
       "    <tr>\n",
       "      <th>2020-01-01 03:00:00</th>\n",
       "      <td>1.380368</td>\n",
       "      <td>0.00000</td>\n",
       "      <td>69.206657</td>\n",
       "      <td>0.000000</td>\n",
       "      <td>0.0</td>\n",
       "      <td>51.434404</td>\n",
       "      <td>0.857574</td>\n",
       "      <td>51.434404</td>\n",
       "    </tr>\n",
       "    <tr>\n",
       "      <th>2020-01-01 04:00:00</th>\n",
       "      <td>1.292280</td>\n",
       "      <td>0.00000</td>\n",
       "      <td>59.052380</td>\n",
       "      <td>0.000000</td>\n",
       "      <td>0.0</td>\n",
       "      <td>48.489593</td>\n",
       "      <td>0.860999</td>\n",
       "      <td>48.489593</td>\n",
       "    </tr>\n",
       "    <tr>\n",
       "      <th>2020-01-01 05:00:00</th>\n",
       "      <td>1.363659</td>\n",
       "      <td>0.14225</td>\n",
       "      <td>57.830890</td>\n",
       "      <td>1.214922</td>\n",
       "      <td>0.0</td>\n",
       "      <td>48.364535</td>\n",
       "      <td>0.861482</td>\n",
       "      <td>48.364535</td>\n",
       "    </tr>\n",
       "  </tbody>\n",
       "</table>\n",
       "</div>"
      ],
      "text/plain": [
       "                         Load  CSPVPS1: PHOTOVOLTAIC FLAT PANEL  \\\n",
       "DateTime                                                          \n",
       "2020-01-01 01:00:00  1.375219                           0.00000   \n",
       "2020-01-01 02:00:00  1.368420                           0.00000   \n",
       "2020-01-01 03:00:00  1.380368                           0.00000   \n",
       "2020-01-01 04:00:00  1.292280                           0.00000   \n",
       "2020-01-01 05:00:00  1.363659                           0.14225   \n",
       "\n",
       "                     COOPGWF1: WIND - ONSHORE  DDSF1: PHOTOVOLTAIC FLAT PANEL  \\\n",
       "DateTime                                                                        \n",
       "2020-01-01 01:00:00                 78.052959                        0.000000   \n",
       "2020-01-01 02:00:00                 80.647394                        0.000000   \n",
       "2020-01-01 03:00:00                 69.206657                        0.000000   \n",
       "2020-01-01 04:00:00                 59.052380                        0.000000   \n",
       "2020-01-01 05:00:00                 57.830890                        1.214922   \n",
       "\n",
       "                     KSP1: PHOTOVOLTAIC FLAT PANEL  RRP: QLD1  AEI: QLD1  \\\n",
       "DateTime                                                                   \n",
       "2020-01-01 01:00:00                            0.0  51.169856   0.857502   \n",
       "2020-01-01 02:00:00                            0.0  51.729121   0.856617   \n",
       "2020-01-01 03:00:00                            0.0  51.434404   0.857574   \n",
       "2020-01-01 04:00:00                            0.0  48.489593   0.860999   \n",
       "2020-01-01 05:00:00                            0.0  48.364535   0.861482   \n",
       "\n",
       "                     Firming price: QLD1  \n",
       "DateTime                                  \n",
       "2020-01-01 01:00:00            51.169856  \n",
       "2020-01-01 02:00:00            51.729121  \n",
       "2020-01-01 03:00:00            51.434404  \n",
       "2020-01-01 04:00:00            48.489593  \n",
       "2020-01-01 05:00:00            48.364535  "
      ]
     },
     "execution_count": 7,
     "metadata": {},
     "output_type": "execute_result"
    }
   ],
   "source": [
    "combined_data.head()"
   ]
  },
  {
   "cell_type": "code",
   "execution_count": 8,
   "metadata": {},
   "outputs": [],
   "source": [
    "# Now calculate the hybrid percentage here:\n",
    "contract_type = input_collector['contract_type'].value\n",
    "redefine_period = input_collector['redefine_period'].value\n",
    "contract_amount = input_collector['contract_amount'].value\n",
    "load_region = input_collector['load_region'].value\n",
    "time_series_interval = input_collector['time_series_interval'].value\n",
    "matching_percentile = input_collector['matching_percentile'].value\n",
    "\n",
    "opt_hybrid, percentages = hybrid.create_hybrid_generation(\n",
    "    contract_type, \n",
    "    redefine_period,  \n",
    "    contract_amount, \n",
    "    combined_data, \n",
    "    load_region, \n",
    "    gen_info, \n",
    "    time_series_interval, \n",
    "    matching_percentile\n",
    ")\n",
    "\n",
    "# TODO: add chart here to show average day of generators and hybrid?"
   ]
  },
  {
   "cell_type": "code",
   "execution_count": 11,
   "metadata": {},
   "outputs": [],
   "source": [
    "settlement_period = input_collector['settlement_period'].value\n",
    "load_region = input_collector['load_region'].value\n",
    "strike_price = input_collector['strike_price'].value\n",
    "lgc_buy_price = input_collector['lgc_buy_price'].value\n",
    "lgc_sell_price = input_collector['lgc_sell_price'].value\n",
    "shortfall_penalty = input_collector['shortfall_penalty'].value\n",
    "guaranteed_percent = input_collector['guaranteed_percent'].value\n",
    "excess_price = input_collector['excess_price'].value\n",
    "indexation = input_collector['indexation'].value\n",
    "index_period = input_collector['index_period'].value\n",
    "floor_price = input_collector['floor_price'].value\n",
    "\n",
    "bill = bill_calc.calculate_bill(\n",
    "    volume_and_price=combined_data, \n",
    "    settlement_period=settlement_period, \n",
    "    contract_type=contract_type, \n",
    "    load_region=load_region, \n",
    "    strike_price=strike_price, \n",
    "    lgc_buy_price=lgc_buy_price, \n",
    "    lgc_sell_price=lgc_sell_price, \n",
    "    shortfall_penalty=shortfall_penalty, \n",
    "    guaranteed_percent=guaranteed_percent, \n",
    "    excess_price=excess_price, \n",
    "    indexation=indexation, \n",
    "    index_period=index_period, \n",
    "    floor_price=floor_price\n",
    ")"
   ]
  },
  {
   "cell_type": "code",
   "execution_count": 12,
   "metadata": {},
   "outputs": [
    {
     "data": {
      "text/html": [
       "<div>\n",
       "<style scoped>\n",
       "    .dataframe tbody tr th:only-of-type {\n",
       "        vertical-align: middle;\n",
       "    }\n",
       "\n",
       "    .dataframe tbody tr th {\n",
       "        vertical-align: top;\n",
       "    }\n",
       "\n",
       "    .dataframe thead th {\n",
       "        text-align: right;\n",
       "    }\n",
       "</style>\n",
       "<table border=\"1\" class=\"dataframe\">\n",
       "  <thead>\n",
       "    <tr style=\"text-align: right;\">\n",
       "      <th></th>\n",
       "      <th>PPA Value</th>\n",
       "      <th>PPA Settlement</th>\n",
       "      <th>Firming Costs</th>\n",
       "      <th>Revenue from on-sold RE</th>\n",
       "      <th>Revenue from excess LGCs</th>\n",
       "      <th>Cost of shortfall LGCs</th>\n",
       "      <th>Shortfall Payments Received</th>\n",
       "      <th>Total</th>\n",
       "    </tr>\n",
       "    <tr>\n",
       "      <th>DateTime</th>\n",
       "      <th></th>\n",
       "      <th></th>\n",
       "      <th></th>\n",
       "      <th></th>\n",
       "      <th></th>\n",
       "      <th></th>\n",
       "      <th></th>\n",
       "      <th></th>\n",
       "    </tr>\n",
       "  </thead>\n",
       "  <tbody>\n",
       "    <tr>\n",
       "      <th>2020-12-31</th>\n",
       "      <td>1.136597e+06</td>\n",
       "      <td>367588.47652</td>\n",
       "      <td>172479.910045</td>\n",
       "      <td>-170300.202407</td>\n",
       "      <td>-25108.78771</td>\n",
       "      <td>0.0</td>\n",
       "      <td>-0.0</td>\n",
       "      <td>1.113668e+06</td>\n",
       "    </tr>\n",
       "  </tbody>\n",
       "</table>\n",
       "</div>"
      ],
      "text/plain": [
       "               PPA Value  PPA Settlement  Firming Costs  \\\n",
       "DateTime                                                  \n",
       "2020-12-31  1.136597e+06    367588.47652  172479.910045   \n",
       "\n",
       "            Revenue from on-sold RE  Revenue from excess LGCs  \\\n",
       "DateTime                                                        \n",
       "2020-12-31           -170300.202407              -25108.78771   \n",
       "\n",
       "            Cost of shortfall LGCs  Shortfall Payments Received         Total  \n",
       "DateTime                                                                       \n",
       "2020-12-31                     0.0                         -0.0  1.113668e+06  "
      ]
     },
     "execution_count": 12,
     "metadata": {},
     "output_type": "execute_result"
    }
   ],
   "source": [
    "bill"
   ]
  },
  {
   "cell_type": "code",
   "execution_count": 13,
   "metadata": {},
   "outputs": [
    {
     "data": {
      "text/html": [
       "<div>\n",
       "<style scoped>\n",
       "    .dataframe tbody tr th:only-of-type {\n",
       "        vertical-align: middle;\n",
       "    }\n",
       "\n",
       "    .dataframe tbody tr th {\n",
       "        vertical-align: top;\n",
       "    }\n",
       "\n",
       "    .dataframe thead th {\n",
       "        text-align: right;\n",
       "    }\n",
       "</style>\n",
       "<table border=\"1\" class=\"dataframe\">\n",
       "  <thead>\n",
       "    <tr style=\"text-align: right;\">\n",
       "      <th></th>\n",
       "      <th>Wholesale Cost</th>\n",
       "      <th>LGC Cost</th>\n",
       "      <th>Total</th>\n",
       "    </tr>\n",
       "    <tr>\n",
       "      <th>DateTime</th>\n",
       "      <th></th>\n",
       "      <th></th>\n",
       "      <th></th>\n",
       "    </tr>\n",
       "  </thead>\n",
       "  <tbody>\n",
       "    <tr>\n",
       "      <th>2020-12-31</th>\n",
       "      <td>502857.133076</td>\n",
       "      <td>411682.07805</td>\n",
       "      <td>914539.211126</td>\n",
       "    </tr>\n",
       "  </tbody>\n",
       "</table>\n",
       "</div>"
      ],
      "text/plain": [
       "            Wholesale Cost      LGC Cost          Total\n",
       "DateTime                                               \n",
       "2020-12-31   502857.133076  411682.07805  914539.211126"
      ]
     },
     "execution_count": 13,
     "metadata": {},
     "output_type": "execute_result"
    }
   ],
   "source": [
    "wholesale_bill = bill_calc.calculate_wholesale_bill(\n",
    "    df=combined_data,\n",
    "    settlement_period=settlement_period,\n",
    "    load_region=load_region,\n",
    "    lgc_buy_price=lgc_buy_price\n",
    ")\n",
    "\n",
    "wholesale_bill"
   ]
  },
  {
   "cell_type": "markdown",
   "metadata": {},
   "source": [
    "## Add a behind-the-meter battery:"
   ]
  },
  {
   "cell_type": "code",
   "execution_count": 14,
   "metadata": {},
   "outputs": [
    {
     "data": {
      "text/html": [
       "\n",
       "        <style>\n",
       "        .widget-label { min-width: 30ex !important; }\n",
       "        .widget-select select { min-width: 70ex !important; }\n",
       "        .widget-dropdown select { min-width: 70ex !important; }\n",
       "        .widget-floattext input { min-width: 70ex !important; }\n",
       "        </style>\n",
       "        "
      ],
      "text/plain": [
       "<IPython.core.display.HTML object>"
      ]
     },
     "metadata": {},
     "output_type": "display_data"
    },
    {
     "data": {
      "text/html": [
       "\n",
       "        <h3>Battery inputs:</h3>\n",
       "        "
      ],
      "text/plain": [
       "<IPython.core.display.HTML object>"
      ]
     },
     "metadata": {},
     "output_type": "display_data"
    },
    {
     "data": {
      "application/vnd.jupyter.widget-view+json": {
       "model_id": "f5da8566475d47de99382b5400eaff85",
       "version_major": 2,
       "version_minor": 0
      },
      "text/plain": [
       "FloatText(value=1.0, description='Rated power capacity (MW):')"
      ]
     },
     "metadata": {},
     "output_type": "display_data"
    },
    {
     "data": {
      "application/vnd.jupyter.widget-view+json": {
       "model_id": "394783aa3de44742ab4debf75508e920",
       "version_major": 2,
       "version_minor": 0
      },
      "text/plain": [
       "FloatText(value=2.0, description='Battery size (MWh):')"
      ]
     },
     "metadata": {},
     "output_type": "display_data"
    }
   ],
   "source": [
    "battery_input_collector = user_inputs.launch_battery_input_collector()"
   ]
  },
  {
   "cell_type": "code",
   "execution_count": 15,
   "metadata": {},
   "outputs": [
    {
     "ename": "InterfacingError",
     "evalue": "Gurobi environment could not be loaded, check your license.",
     "output_type": "error",
     "traceback": [
      "\u001b[1;31m---------------------------------------------------------------------------\u001b[0m",
      "\u001b[1;31mInterfacingError\u001b[0m                          Traceback (most recent call last)",
      "Cell \u001b[1;32mIn[15], line 5\u001b[0m\n\u001b[0;32m      2\u001b[0m rated_power_capacity \u001b[38;5;241m=\u001b[39m battery_input_collector[\u001b[38;5;124m'\u001b[39m\u001b[38;5;124mrated_power_capacity\u001b[39m\u001b[38;5;124m'\u001b[39m]\u001b[38;5;241m.\u001b[39mvalue\n\u001b[0;32m      3\u001b[0m size_in_mwh \u001b[38;5;241m=\u001b[39m battery_input_collector[\u001b[38;5;124m'\u001b[39m\u001b[38;5;124msize_in_mwh\u001b[39m\u001b[38;5;124m'\u001b[39m]\u001b[38;5;241m.\u001b[39mvalue\n\u001b[1;32m----> 5\u001b[0m with_a_battery \u001b[38;5;241m=\u001b[39m \u001b[43mbattery\u001b[49m\u001b[38;5;241;43m.\u001b[39;49m\u001b[43mrun_battery_optimisation\u001b[49m\u001b[43m(\u001b[49m\n\u001b[0;32m      6\u001b[0m \u001b[43m    \u001b[49m\u001b[43mdf\u001b[49m\u001b[38;5;241;43m=\u001b[39;49m\u001b[43mcombined_data\u001b[49m\u001b[43m,\u001b[49m\n\u001b[0;32m      7\u001b[0m \u001b[43m    \u001b[49m\u001b[43mload_col_to_use\u001b[49m\u001b[38;5;241;43m=\u001b[39;49m\u001b[38;5;124;43m'\u001b[39;49m\u001b[38;5;124;43mLoad\u001b[39;49m\u001b[38;5;124;43m'\u001b[39;49m\u001b[43m,\u001b[49m\u001b[43m \u001b[49m\u001b[38;5;66;43;03m# Default - field may not even be useful long-term\u001b[39;49;00m\n\u001b[0;32m      8\u001b[0m \u001b[43m    \u001b[49m\u001b[43mregion\u001b[49m\u001b[38;5;241;43m=\u001b[39;49m\u001b[43mload_region\u001b[49m\u001b[43m,\u001b[49m\n\u001b[0;32m      9\u001b[0m \u001b[43m    \u001b[49m\u001b[43mrated_power_capacity\u001b[49m\u001b[38;5;241;43m=\u001b[39;49m\u001b[43mrated_power_capacity\u001b[49m\u001b[43m,\u001b[49m\n\u001b[0;32m     10\u001b[0m \u001b[43m    \u001b[49m\u001b[43msize_in_mwh\u001b[49m\u001b[38;5;241;43m=\u001b[39;49m\u001b[43msize_in_mwh\u001b[49m\n\u001b[0;32m     11\u001b[0m \u001b[43m    \u001b[49m\u001b[38;5;66;43;03m# keeping charging and discharging efficiency as defaults for the moment...\u001b[39;49;00m\n\u001b[0;32m     12\u001b[0m \u001b[43m)\u001b[49m\n",
      "File \u001b[1;32m~\\Documents\\GitHub\\ppa_analysis\\ppa_analysis\\battery.py:26\u001b[0m, in \u001b[0;36mrun_battery_optimisation\u001b[1;34m(df, load_col_to_use, region, rated_power_capacity, size_in_mwh, charging_efficiency, discharging_efficiency)\u001b[0m\n\u001b[0;32m     23\u001b[0m min_soe \u001b[38;5;241m=\u001b[39m size_in_mwh \u001b[38;5;241m*\u001b[39m \u001b[38;5;241m0.2\u001b[39m\n\u001b[0;32m     24\u001b[0m max_soe \u001b[38;5;241m=\u001b[39m size_in_mwh \u001b[38;5;241m*\u001b[39m \u001b[38;5;241m0.8\u001b[39m\n\u001b[1;32m---> 26\u001b[0m m \u001b[38;5;241m=\u001b[39m \u001b[43mModel\u001b[49m\u001b[43m(\u001b[49m\u001b[43m)\u001b[49m\n\u001b[0;32m     27\u001b[0m I \u001b[38;5;241m=\u001b[39m \u001b[38;5;28mrange\u001b[39m(\u001b[38;5;28mlen\u001b[39m(excess_load))\n\u001b[0;32m     29\u001b[0m battery_discharge \u001b[38;5;241m=\u001b[39m [m\u001b[38;5;241m.\u001b[39madd_var(var_type\u001b[38;5;241m=\u001b[39mCONTINUOUS, lb\u001b[38;5;241m=\u001b[39m\u001b[38;5;241m0.0\u001b[39m, ub\u001b[38;5;241m=\u001b[39mrated_power_capacity) \u001b[38;5;28;01mfor\u001b[39;00m i \u001b[38;5;129;01min\u001b[39;00m I]\n",
      "File \u001b[1;32m~\\Documents\\GitHub\\ppa_analysis\\venv\\Lib\\site-packages\\mip\\model.py:102\u001b[0m, in \u001b[0;36mModel.__init__\u001b[1;34m(self, name, sense, solver_name, solver)\u001b[0m\n\u001b[0;32m     99\u001b[0m \u001b[38;5;28;01mimport\u001b[39;00m \u001b[38;5;21;01mmip\u001b[39;00m\u001b[38;5;21;01m.\u001b[39;00m\u001b[38;5;21;01mgurobi\u001b[39;00m\n\u001b[0;32m    101\u001b[0m \u001b[38;5;28;01mif\u001b[39;00m mip\u001b[38;5;241m.\u001b[39mgurobi\u001b[38;5;241m.\u001b[39mhas_gurobi:\n\u001b[1;32m--> 102\u001b[0m     \u001b[38;5;28mself\u001b[39m\u001b[38;5;241m.\u001b[39msolver \u001b[38;5;241m=\u001b[39m \u001b[43mmip\u001b[49m\u001b[38;5;241;43m.\u001b[39;49m\u001b[43mgurobi\u001b[49m\u001b[38;5;241;43m.\u001b[39;49m\u001b[43mSolverGurobi\u001b[49m\u001b[43m(\u001b[49m\u001b[38;5;28;43mself\u001b[39;49m\u001b[43m,\u001b[49m\u001b[43m \u001b[49m\u001b[43mname\u001b[49m\u001b[43m,\u001b[49m\u001b[43m \u001b[49m\u001b[43msense\u001b[49m\u001b[43m)\u001b[49m\n\u001b[0;32m    103\u001b[0m     \u001b[38;5;28mself\u001b[39m\u001b[38;5;241m.\u001b[39msolver_name \u001b[38;5;241m=\u001b[39m mip\u001b[38;5;241m.\u001b[39mGUROBI\n\u001b[0;32m    104\u001b[0m \u001b[38;5;28;01melse\u001b[39;00m:\n",
      "File \u001b[1;32m~\\Documents\\GitHub\\ppa_analysis\\venv\\Lib\\site-packages\\mip\\gurobi.py:370\u001b[0m, in \u001b[0;36mSolverGurobi.__init__\u001b[1;34m(self, model, name, sense, modelp)\u001b[0m\n\u001b[0;32m    368\u001b[0m st \u001b[38;5;241m=\u001b[39m GRBloadenv(\u001b[38;5;28mself\u001b[39m\u001b[38;5;241m.\u001b[39m_env, \u001b[38;5;124m\"\u001b[39m\u001b[38;5;124m\"\u001b[39m\u001b[38;5;241m.\u001b[39mencode(\u001b[38;5;124m\"\u001b[39m\u001b[38;5;124mutf-8\u001b[39m\u001b[38;5;124m\"\u001b[39m))\n\u001b[0;32m    369\u001b[0m \u001b[38;5;28;01mif\u001b[39;00m st \u001b[38;5;241m!=\u001b[39m \u001b[38;5;241m0\u001b[39m:\n\u001b[1;32m--> 370\u001b[0m     \u001b[38;5;28;01mraise\u001b[39;00m InterfacingError(\n\u001b[0;32m    371\u001b[0m         \u001b[38;5;124m\"\u001b[39m\u001b[38;5;124mGurobi environment could not be loaded, check your license.\u001b[39m\u001b[38;5;124m\"\u001b[39m\n\u001b[0;32m    372\u001b[0m     )\n\u001b[0;32m    373\u001b[0m \u001b[38;5;28mself\u001b[39m\u001b[38;5;241m.\u001b[39m_env \u001b[38;5;241m=\u001b[39m \u001b[38;5;28mself\u001b[39m\u001b[38;5;241m.\u001b[39m_env[\u001b[38;5;241m0\u001b[39m]\n\u001b[0;32m    375\u001b[0m \u001b[38;5;66;03m# creating Gurobi model\u001b[39;00m\n",
      "\u001b[1;31mInterfacingError\u001b[0m: Gurobi environment could not be loaded, check your license."
     ]
    }
   ],
   "source": [
    "# Battery\n",
    "rated_power_capacity = battery_input_collector['rated_power_capacity'].value\n",
    "size_in_mwh = battery_input_collector['size_in_mwh'].value\n",
    "\n",
    "with_a_battery = battery.run_battery_optimisation(\n",
    "    df=combined_data,\n",
    "    load_col_to_use='Load', # Default - field may not even be useful long-term\n",
    "    region=load_region,\n",
    "    rated_power_capacity=rated_power_capacity,\n",
    "    size_in_mwh=size_in_mwh\n",
    "    # keeping charging and discharging efficiency as defaults for the moment...\n",
    ")"
   ]
  },
  {
   "cell_type": "code",
   "execution_count": null,
   "metadata": {},
   "outputs": [],
   "source": [
    "# Load Flex"
   ]
  }
 ],
 "metadata": {
  "kernelspec": {
   "display_name": "Python 3 (ipykernel)",
   "language": "python",
   "name": "python3"
  },
  "language_info": {
   "codemirror_mode": {
    "name": "ipython",
    "version": 3
   },
   "file_extension": ".py",
   "mimetype": "text/x-python",
   "name": "python",
   "nbconvert_exporter": "python",
   "pygments_lexer": "ipython3",
   "version": "3.11.0"
  }
 },
 "nbformat": 4,
 "nbformat_minor": 4
}
