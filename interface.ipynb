{
 "cells": [
  {
   "cell_type": "code",
   "execution_count": 1,
   "metadata": {
    "editable": true,
    "slideshow": {
     "slide_type": ""
    },
    "tags": []
   },
   "outputs": [
    {
     "name": "stdout",
     "output_type": "stream",
     "text": [
      "INFO: Using Python-MIP package version 1.15.0\n"
     ]
    }
   ],
   "source": [
    "# ------------------------------ Packages & Files ------------------------------\n",
    "from pathlib import Path\n",
    "\n",
    "import pandas as pd\n",
    "import plotly.express as px\n",
    "import plotly.graph_objects as go\n",
    "from plotly.subplots import make_subplots\n",
    "\n",
    "import ipywidgets as widgets\n",
    "from IPython.display import display, HTML\n",
    "\n",
    "from ppa_analysis import user_inputs, advanced_settings, hybrid, import_gen_data, import_emissions_data, \\\n",
    "     import_pricing_data, import_load_data, firming_contracts, bill_calc"
   ]
  },
  {
   "cell_type": "code",
   "execution_count": 2,
   "metadata": {
    "editable": true,
    "hidden": true,
    "slideshow": {
     "slide_type": ""
    }
   },
   "outputs": [
    {
     "data": {
      "text/html": [
       "\n",
       "        <style>\n",
       "        .widget-label { min-width: 30ex !important; }\n",
       "        .widget-select select { min-width: 70ex !important; }\n",
       "        .widget-dropdown select { min-width: 70ex !important; }\n",
       "        .widget-floattext input { min-width: 70ex !important; }\n",
       "        </style>\n",
       "        "
      ],
      "text/plain": [
       "<IPython.core.display.HTML object>"
      ]
     },
     "metadata": {},
     "output_type": "display_data"
    },
    {
     "data": {
      "text/html": [
       "\n",
       "        <h3>Historical data selection:</h3>\n",
       "        "
      ],
      "text/plain": [
       "<IPython.core.display.HTML object>"
      ]
     },
     "metadata": {},
     "output_type": "display_data"
    },
    {
     "name": "stdout",
     "output_type": "stream",
     "text": [
      "/Users/elliekallmier/Desktop/RA_Work/247/247_ppa/ppa_analysis\n",
      "data_caches/yearly_data_files\n"
     ]
    },
    {
     "data": {
      "application/vnd.jupyter.widget-view+json": {
       "model_id": "ea8275b9189e44bc9272d0ed634a0348",
       "version_major": 2,
       "version_minor": 0
      },
      "text/plain": [
       "Dropdown(description='Year:', options=('2020', '2021'), value='2020')"
      ]
     },
     "metadata": {},
     "output_type": "display_data"
    },
    {
     "data": {
      "application/vnd.jupyter.widget-view+json": {
       "model_id": "2ff4f7613dba487dae2108adf4ca95d1",
       "version_major": 2,
       "version_minor": 0
      },
      "text/plain": [
       "Dropdown(description='Generator region:', options=('QLD1', 'NSW1', 'VIC1', 'SA1', 'TAS1'), value='QLD1')"
      ]
     },
     "metadata": {},
     "output_type": "display_data"
    },
    {
     "data": {
      "application/vnd.jupyter.widget-view+json": {
       "model_id": "7d69666d798e4976a2b2ae9646e5d607",
       "version_major": 2,
       "version_minor": 0
      },
      "text/plain": [
       "Dropdown(description='Load region:', options=('QLD1', 'NSW1', 'VIC1', 'SA1', 'TAS1'), value='QLD1')"
      ]
     },
     "metadata": {},
     "output_type": "display_data"
    },
    {
     "data": {
      "application/vnd.jupyter.widget-view+json": {
       "model_id": "9c8400a8542e4f6cb503c0fc8b359f2f",
       "version_major": 2,
       "version_minor": 0
      },
      "text/plain": [
       "Dropdown(description='Load data file:', options=('(57) Sewerage treatment FN.csv', '(54) Office building FN.cs…"
      ]
     },
     "metadata": {},
     "output_type": "display_data"
    },
    {
     "data": {
      "application/vnd.jupyter.widget-view+json": {
       "model_id": "f19ff673618b4aef80d41c88ab5bfe14",
       "version_major": 2,
       "version_minor": 0
      },
      "text/plain": [
       "SelectMultiple(description='Generators:', index=(0, 1, 2, 3), options=('CSPVPS1: PHOTOVOLTAIC FLAT PANEL', 'CO…"
      ]
     },
     "metadata": {},
     "output_type": "display_data"
    },
    {
     "data": {
      "text/html": [
       "\n",
       "        <h3>Contract paramters:</h3>\n",
       "        "
      ],
      "text/plain": [
       "<IPython.core.display.HTML object>"
      ]
     },
     "metadata": {},
     "output_type": "display_data"
    },
    {
     "data": {
      "text/html": [
       "\n",
       "        <h4> - All contracts:</h4>\n",
       "        "
      ],
      "text/plain": [
       "<IPython.core.display.HTML object>"
      ]
     },
     "metadata": {},
     "output_type": "display_data"
    },
    {
     "data": {
      "application/vnd.jupyter.widget-view+json": {
       "model_id": "3676b808908a461da293ed23137c4b12",
       "version_major": 2,
       "version_minor": 0
      },
      "text/plain": [
       "Dropdown(description='Contract type:', options=('Pay as Produced', 'Pay as Consumed', 'Shaped', 'Baseload', '2…"
      ]
     },
     "metadata": {},
     "output_type": "display_data"
    },
    {
     "data": {
      "application/vnd.jupyter.widget-view+json": {
       "model_id": "f61e6a975c884847a4336ef83b6d6007",
       "version_major": 2,
       "version_minor": 0
      },
      "text/plain": [
       "Dropdown(description='Firming contract type:', options=('Wholesale exposed', 'Partially wholesale exposed', 'R…"
      ]
     },
     "metadata": {},
     "output_type": "display_data"
    },
    {
     "data": {
      "application/vnd.jupyter.widget-view+json": {
       "model_id": "63f18361dea1460c93bae26fb1b8b0a5",
       "version_major": 2,
       "version_minor": 0
      },
      "text/plain": [
       "Dropdown(description='Settlment period:', options=('Y', 'M', 'Q'), value='Y')"
      ]
     },
     "metadata": {},
     "output_type": "display_data"
    },
    {
     "data": {
      "application/vnd.jupyter.widget-view+json": {
       "model_id": "e407c75ed4f94978898d73e9a35d028b",
       "version_major": 2,
       "version_minor": 0
      },
      "text/plain": [
       "BoundedFloatText(value=100.0, description='Contract amount (%):')"
      ]
     },
     "metadata": {},
     "output_type": "display_data"
    },
    {
     "data": {
      "application/vnd.jupyter.widget-view+json": {
       "model_id": "ec355b1deea34a6c8416da6b4e3eece0",
       "version_major": 2,
       "version_minor": 0
      },
      "text/plain": [
       "FloatText(value=100.0, description='Strike price ($/MW/h):')"
      ]
     },
     "metadata": {},
     "output_type": "display_data"
    },
    {
     "data": {
      "application/vnd.jupyter.widget-view+json": {
       "model_id": "c44eee81a1434da2903db84800bd5222",
       "version_major": 2,
       "version_minor": 0
      },
      "text/plain": [
       "FloatText(value=35.0, description='LGC buy price ($/MW/h):')"
      ]
     },
     "metadata": {},
     "output_type": "display_data"
    },
    {
     "data": {
      "application/vnd.jupyter.widget-view+json": {
       "model_id": "0ff4828e240749d2b4c3b4468dac5869",
       "version_major": 2,
       "version_minor": 0
      },
      "text/plain": [
       "FloatText(value=20.0, description='LGC sell price ($/MW/h):')"
      ]
     },
     "metadata": {},
     "output_type": "display_data"
    },
    {
     "data": {
      "application/vnd.jupyter.widget-view+json": {
       "model_id": "48b4e46ed8a24f2e8e28a884261f6937",
       "version_major": 2,
       "version_minor": 0
      },
      "text/plain": [
       "FloatText(value=25.0, description='Short fall penalty ($/MW/h):')"
      ]
     },
     "metadata": {},
     "output_type": "display_data"
    },
    {
     "data": {
      "application/vnd.jupyter.widget-view+json": {
       "model_id": "9397e7a1ec94497d92e94b4e7113d075",
       "version_major": 2,
       "version_minor": 0
      },
      "text/plain": [
       "BoundedFloatText(value=85.0, description='Guaranteed percentage (%):')"
      ]
     },
     "metadata": {},
     "output_type": "display_data"
    },
    {
     "data": {
      "application/vnd.jupyter.widget-view+json": {
       "model_id": "57eacdc722fb416eb27d95119964b10b",
       "version_major": 2,
       "version_minor": 0
      },
      "text/plain": [
       "FloatText(value=65.0, description='Floor price ($/MW/h):')"
      ]
     },
     "metadata": {},
     "output_type": "display_data"
    },
    {
     "data": {
      "application/vnd.jupyter.widget-view+json": {
       "model_id": "f943100ac5224919938679d7036c97f5",
       "version_major": 2,
       "version_minor": 0
      },
      "text/plain": [
       "FloatText(value=65.0, description='Excess price ($/MW/h):')"
      ]
     },
     "metadata": {},
     "output_type": "display_data"
    },
    {
     "data": {
      "application/vnd.jupyter.widget-view+json": {
       "model_id": "65f90630b1444b29bf191e0278049026",
       "version_major": 2,
       "version_minor": 0
      },
      "text/plain": [
       "BoundedFloatText(value=1.0, description='Indexation (%):')"
      ]
     },
     "metadata": {},
     "output_type": "display_data"
    },
    {
     "data": {
      "application/vnd.jupyter.widget-view+json": {
       "model_id": "c9622f08475745b48c0a0346b4e3bb06",
       "version_major": 2,
       "version_minor": 0
      },
      "text/plain": [
       "Dropdown(description='Index period:', options=('Y',), value='Y')"
      ]
     },
     "metadata": {},
     "output_type": "display_data"
    },
    {
     "data": {
      "text/html": [
       "\n",
       "        <h4> - Shaped and baseload contracts only:</h4>\n",
       "        "
      ],
      "text/plain": [
       "<IPython.core.display.HTML object>"
      ]
     },
     "metadata": {},
     "output_type": "display_data"
    },
    {
     "data": {
      "application/vnd.jupyter.widget-view+json": {
       "model_id": "a1abd6f07b524f01814018189392d2c7",
       "version_major": 2,
       "version_minor": 0
      },
      "text/plain": [
       "Dropdown(description='Redefine period:', index=2, options=('Y', 'Q', 'M'), value='M')"
      ]
     },
     "metadata": {},
     "output_type": "display_data"
    },
    {
     "data": {
      "text/html": [
       "\n",
       "        <h4> - Shaped contracts only:</h4>\n",
       "        "
      ],
      "text/plain": [
       "<IPython.core.display.HTML object>"
      ]
     },
     "metadata": {},
     "output_type": "display_data"
    },
    {
     "data": {
      "application/vnd.jupyter.widget-view+json": {
       "model_id": "eb11e8bf5ff24a2f9091ca3c61f437d2",
       "version_major": 2,
       "version_minor": 0
      },
      "text/plain": [
       "BoundedFloatText(value=1.0, description='Matching percentile:')"
      ]
     },
     "metadata": {},
     "output_type": "display_data"
    },
    {
     "data": {
      "text/html": [
       "\n",
       "        <h4> - Wholesale exposure only:</h4>\n",
       "        "
      ],
      "text/plain": [
       "<IPython.core.display.HTML object>"
      ]
     },
     "metadata": {},
     "output_type": "display_data"
    },
    {
     "data": {
      "application/vnd.jupyter.widget-view+json": {
       "model_id": "c6a7271750bb44068e2e510c935be97f",
       "version_major": 2,
       "version_minor": 0
      },
      "text/plain": [
       "FloatText(value=300.0, description='Exposure upper bound ($/MW/h):')"
      ]
     },
     "metadata": {},
     "output_type": "display_data"
    },
    {
     "data": {
      "application/vnd.jupyter.widget-view+json": {
       "model_id": "40c8b26ba3514c0bb70caafc31932981",
       "version_major": 2,
       "version_minor": 0
      },
      "text/plain": [
       "FloatText(value=20.0, description='Exposure lower bound ($/MW/h):')"
      ]
     },
     "metadata": {},
     "output_type": "display_data"
    },
    {
     "data": {
      "text/html": [
       "\n",
       "        <h4> - Analysis paramters:</h4>\n",
       "        "
      ],
      "text/plain": [
       "<IPython.core.display.HTML object>"
      ]
     },
     "metadata": {},
     "output_type": "display_data"
    },
    {
     "data": {
      "application/vnd.jupyter.widget-view+json": {
       "model_id": "694104b2c4644eed9974ca5185ddf0ea",
       "version_major": 2,
       "version_minor": 0
      },
      "text/plain": [
       "Dropdown(description='Time series interval:', options=('60',), value='60')"
      ]
     },
     "metadata": {},
     "output_type": "display_data"
    },
    {
     "data": {
      "application/vnd.jupyter.widget-view+json": {
       "model_id": "903bceb6f84b4efcbf0d6e2550bf74ef",
       "version_major": 2,
       "version_minor": 0
      },
      "text/plain": [
       "Dropdown(description='Generator data set:', options=('GenCost 2018 Low',), value='GenCost 2018 Low')"
      ]
     },
     "metadata": {},
     "output_type": "display_data"
    }
   ],
   "source": [
    "# ------------------------------ Initialise the input collector ----------------\n",
    "input_collector = user_inputs.launch_input_collector()"
   ]
  },
  {
   "cell_type": "code",
   "execution_count": 3,
   "metadata": {},
   "outputs": [
    {
     "data": {
      "application/vnd.jupyter.widget-view+json": {
       "model_id": "4cc0f6b0f65d4df99f73b51837b7dfec",
       "version_major": 2,
       "version_minor": 0
      },
      "text/plain": [
       "Output()"
      ]
     },
     "metadata": {},
     "output_type": "display_data"
    }
   ],
   "source": [
    "generator_data_editor = user_inputs.launch_generator_data_editor(input_collector)"
   ]
  },
  {
   "cell_type": "code",
   "execution_count": 4,
   "metadata": {},
   "outputs": [],
   "source": [
    "# ------------------- Unpack LCOE Inputs -------------------------\n",
    "\n",
    "# Calculate LCOE from user inputs/predetermined values\n",
    "# Function takes in the  generator LCOE info dictionary, and calculates LCOE\n",
    "# for only one generator with each call.\n",
    "# Returns LCOE value in $/MW\n",
    "def calculate_lcoe(\n",
    "    generator_info:dict[str:object]        \n",
    ") -> float:\n",
    "    \n",
    "    # Baseline assumptions:\n",
    "    lifetime_years = 25\n",
    "    discount_rate = 0.07         # AEMC uses 6-8.5% for all technologies\n",
    "\n",
    "    capital_cost = generator_info['capital'].value * generator_info['capacity'].value\n",
    "    numerator, denominator = 0, 0\n",
    "    for year in range(1,lifetime_years+1):\n",
    "        kwh_in_year_n = generator_info['capacity_factor'].value*generator_info['capacity'].value*(365*24)   # Note: this doesn't currently account for leap years!\n",
    "        numerator += (generator_info['fixed_om'].value * generator_info['capacity'].value\\\n",
    "                      + generator_info['variable_om'].value * kwh_in_year_n) / \\\n",
    "                        ((1 + discount_rate) ** year)\n",
    "        denominator += (kwh_in_year_n) / ((1 + discount_rate) ** year)\n",
    "    numerator += capital_cost\n",
    "\n",
    "    return (numerator / denominator)  * 1000\n",
    "\n",
    "\n",
    "# ----- Fetch inputs and set up info_dict data to pass to later functions:\n",
    "def get_all_lcoes(\n",
    "        generator_data_editor:dict[str:dict[str:object]]\n",
    ") -> dict[str:float]:\n",
    "    all_generator_lcoes = {}\n",
    "    for gen, gen_info in generator_data_editor.items():\n",
    "        if gen != 'out':\n",
    "            gen_lcoe = calculate_lcoe(gen_info)\n",
    "            all_generator_lcoes[gen] = gen_lcoe\n",
    "    \n",
    "    return all_generator_lcoes\n"
   ]
  },
  {
   "cell_type": "code",
   "execution_count": 5,
   "metadata": {},
   "outputs": [],
   "source": [
    "# Maybe this function is where the load gets pulled in, all the other data collecting\n",
    "# functions get called etc\n",
    "\n",
    "def collect_and_combine_data(\n",
    "        input_collector:dict\n",
    ") -> pd.DataFrame:    \n",
    "    # ----------------------------- Unpack user input ------------------------------\n",
    "    year_to_load_from_cache = input_collector['year'].value\n",
    "    year_to_load = int(year_to_load_from_cache)\n",
    "    GENERATOR_REGION = input_collector['generator_region'].value\n",
    "    LOAD_REGION = input_collector['load_region'].value\n",
    "    generators = list(input_collector['generators'].value)\n",
    "\n",
    "    # ------------------- Get Load Data --------------------\n",
    "    # if using preset data, use these hard coded values:\n",
    "    LOAD_DATA_DIR = 'data_caches/c_and_i_customer_loads'\n",
    "    load_filename = input_collector['load_data_file'].value\n",
    "    filepath = LOAD_DATA_DIR + '/' + load_filename\n",
    "    LOAD_DATETIME_COL_NAME = 'TS'\n",
    "    LOAD_COL_NAME = 'Load'\n",
    "    DAY_FIRST = True\n",
    "\n",
    "    # Units are definitely a question.\n",
    "    load_data, start_date, end_date = import_load_data.get_load_data(filepath, LOAD_DATETIME_COL_NAME, LOAD_COL_NAME, DAY_FIRST)\n",
    "    load_data = load_data / 1000    # convert to MWh\n",
    "    load_data = load_data[\n",
    "        (load_data.index >= f'{year_to_load}-01-01 00:00:00') & \n",
    "        (load_data.index < f'{year_to_load+1}-01-01 00:00:00')\n",
    "    ]\n",
    "\n",
    "    # else: TODO add another option here if users want to load in their own data\n",
    "\n",
    "    # ----------------------------- Get Generation Data ----------------------------\n",
    "    gen_data_file = (\n",
    "        advanced_settings.YEARLY_DATA_CACHE / \n",
    "        f'gen_data_{year_to_load_from_cache}.parquet'\n",
    "    )\n",
    "    gen_data = import_gen_data.get_preprocessed_gen_data(\n",
    "        gen_data_file, [GENERATOR_REGION]\n",
    "    )\n",
    "    gen_data = gen_data[generators]\n",
    "\n",
    "    # --------------------------- Get Emissions Data -------------------------------\n",
    "    emissions_data_file = (\n",
    "        advanced_settings.YEARLY_DATA_CACHE / \n",
    "        f'emissions_data_{year_to_load_from_cache}.parquet'\n",
    "    )\n",
    "    emissions_intensity = import_emissions_data.get_preprocessed_avg_intensity_emissions_data(\n",
    "        emissions_data_file, [LOAD_REGION, GENERATOR_REGION]\n",
    "    )\n",
    "\n",
    "    # ------------------------ Get Wholesale Price Data ----------------------------\n",
    "    price_data_file = (\n",
    "        advanced_settings.YEARLY_DATA_CACHE / \n",
    "        f'price_data_{year_to_load_from_cache}.parquet'\n",
    "    )\n",
    "    price_data = import_pricing_data.get_preprocessed_price_data(\n",
    "        price_data_file, [LOAD_REGION, GENERATOR_REGION]\n",
    "    )\n",
    "\n",
    "    combined_data = pd.concat([load_data, gen_data, price_data, emissions_intensity], axis='columns')\n",
    "\n",
    "    FIRMING_CONTRACT_TYPE = input_collector['firming_contract_type'].value\n",
    "    EXPOSURE_BOUND_UPPER = input_collector['exposure_upper_bound'].value\n",
    "    EXPOSURE_BOUND_LOWER = input_collector['exposure_lower_bound'].value\n",
    "    RETAIL_TARIFF_DETAILS = {}\n",
    "\n",
    "    # Add the firming details:\n",
    "    combined_data = firming_contracts.choose_firming_type(\n",
    "        FIRMING_CONTRACT_TYPE, combined_data, [LOAD_REGION], EXPOSURE_BOUND_UPPER, EXPOSURE_BOUND_LOWER, RETAIL_TARIFF_DETAILS\n",
    "    )\n",
    "\n",
    "    return combined_data"
   ]
  },
  {
   "cell_type": "code",
   "execution_count": 6,
   "metadata": {},
   "outputs": [
    {
     "name": "stdout",
     "output_type": "stream",
     "text": [
      "Some missing data found. Filled with zeros.\n",
      "\n"
     ]
    }
   ],
   "source": [
    "# At the moment: this is all assuming the use of sample load data stored with the tool\n",
    "\n",
    "gen_info = get_all_lcoes(generator_data_editor)\n",
    "combined_data = collect_and_combine_data(input_collector)\n",
    "\n",
    "# Had an issue with first row containing a few NaN values causing problems for \n",
    "# the firming column addition. But just using dropna without checks not a safe bet\n",
    "# necessarily...\n",
    "combined_data = combined_data.dropna(how='any', axis='rows')"
   ]
  },
  {
   "cell_type": "code",
   "execution_count": 7,
   "metadata": {},
   "outputs": [
    {
     "name": "stdout",
     "output_type": "stream",
     "text": [
      "Set parameter Username\n",
      "Academic license - for non-commercial use only - expires 2025-06-05\n",
      "Warning for adding constraints: zero or small (< 1e-13) coefficients, ignored\n",
      "Set parameter Username\n",
      "Academic license - for non-commercial use only - expires 2025-06-05\n"
     ]
    }
   ],
   "source": [
    "# Now calculate the hybrid percentage here:\n",
    "contract_type = input_collector['contract_type'].value\n",
    "redefine_period = input_collector['redefine_period'].value\n",
    "contract_amount = input_collector['contract_amount'].value\n",
    "load_region = input_collector['load_region'].value\n",
    "time_series_interval = input_collector['time_series_interval'].value\n",
    "matching_percentile = input_collector['matching_percentile'].value\n",
    "\n",
    "opt_hybrid, percentages = hybrid.create_hybrid_generation(\n",
    "    contract_type, \n",
    "    redefine_period,  \n",
    "    contract_amount, \n",
    "    combined_data, \n",
    "    load_region, \n",
    "    gen_info, \n",
    "    time_series_interval, \n",
    "    matching_percentile\n",
    ")\n",
    "\n",
    "# TODO: add chart here to show average day of generators and hybrid?"
   ]
  },
  {
   "cell_type": "code",
   "execution_count": 8,
   "metadata": {},
   "outputs": [],
   "source": [
    "settlement_period = input_collector['settlement_period'].value\n",
    "load_region = input_collector['load_region'].value\n",
    "strike_price = input_collector['strike_price'].value\n",
    "lgc_buy_price = input_collector['lgc_buy_price'].value\n",
    "lgc_sell_price = input_collector['lgc_sell_price'].value\n",
    "shortfall_penalty = input_collector['shortfall_penalty'].value\n",
    "guaranteed_percent = input_collector['guaranteed_percent'].value\n",
    "excess_price = input_collector['excess_price'].value\n",
    "indexation = input_collector['indexation'].value\n",
    "index_period = input_collector['index_period'].value\n",
    "floor_price = input_collector['floor_price'].value\n",
    "\n",
    "bill = bill_calc.calculate_bill(\n",
    "    df=combined_data, \n",
    "    settlement_period=settlement_period, \n",
    "    contract_type=contract_type, \n",
    "    load_region=load_region, \n",
    "    strike_price=strike_price, \n",
    "    lgc_buy_price=lgc_buy_price, \n",
    "    lgc_sell_price=lgc_sell_price, \n",
    "    shortfall_penalty=shortfall_penalty, \n",
    "    guaranteed_percent=guaranteed_percent, \n",
    "    excess_price=excess_price, \n",
    "    indexation=indexation, \n",
    "    index_period=index_period, \n",
    "    floor_price=floor_price\n",
    ")"
   ]
  },
  {
   "cell_type": "code",
   "execution_count": 9,
   "metadata": {},
   "outputs": [
    {
     "data": {
      "text/html": [
       "<div>\n",
       "<style scoped>\n",
       "    .dataframe tbody tr th:only-of-type {\n",
       "        vertical-align: middle;\n",
       "    }\n",
       "\n",
       "    .dataframe tbody tr th {\n",
       "        vertical-align: top;\n",
       "    }\n",
       "\n",
       "    .dataframe thead th {\n",
       "        text-align: right;\n",
       "    }\n",
       "</style>\n",
       "<table border=\"1\" class=\"dataframe\">\n",
       "  <thead>\n",
       "    <tr style=\"text-align: right;\">\n",
       "      <th></th>\n",
       "      <th>PPA Value</th>\n",
       "      <th>PPA Settlement</th>\n",
       "      <th>Firming Costs</th>\n",
       "      <th>Revenue from on-sold RE</th>\n",
       "      <th>Revenue from excess LGCs</th>\n",
       "      <th>Cost of shortfall LGCs</th>\n",
       "      <th>Shortfall Payments Received</th>\n",
       "      <th>Total</th>\n",
       "    </tr>\n",
       "    <tr>\n",
       "      <th>DateTime</th>\n",
       "      <th></th>\n",
       "      <th></th>\n",
       "      <th></th>\n",
       "      <th></th>\n",
       "      <th></th>\n",
       "      <th></th>\n",
       "      <th></th>\n",
       "      <th></th>\n",
       "    </tr>\n",
       "  </thead>\n",
       "  <tbody>\n",
       "    <tr>\n",
       "      <th>2020-12-31</th>\n",
       "      <td>1.520597e+06</td>\n",
       "      <td>487466.895681</td>\n",
       "      <td>193871.596648</td>\n",
       "      <td>-238863.104118</td>\n",
       "      <td>-50514.565972</td>\n",
       "      <td>0.0</td>\n",
       "      <td>-0.0</td>\n",
       "      <td>1.425091e+06</td>\n",
       "    </tr>\n",
       "  </tbody>\n",
       "</table>\n",
       "</div>"
      ],
      "text/plain": [
       "               PPA Value  PPA Settlement  Firming Costs  \\\n",
       "DateTime                                                  \n",
       "2020-12-31  1.520597e+06   487466.895681  193871.596648   \n",
       "\n",
       "            Revenue from on-sold RE  Revenue from excess LGCs  \\\n",
       "DateTime                                                        \n",
       "2020-12-31           -238863.104118             -50514.565972   \n",
       "\n",
       "            Cost of shortfall LGCs  Shortfall Payments Received         Total  \n",
       "DateTime                                                                       \n",
       "2020-12-31                     0.0                         -0.0  1.425091e+06  "
      ]
     },
     "execution_count": 9,
     "metadata": {},
     "output_type": "execute_result"
    }
   ],
   "source": [
    "bill"
   ]
  },
  {
   "cell_type": "code",
   "execution_count": null,
   "metadata": {},
   "outputs": [],
   "source": []
  }
 ],
 "metadata": {
  "kernelspec": {
   "display_name": "Python 3 (ipykernel)",
   "language": "python",
   "name": "python3"
  },
  "language_info": {
   "codemirror_mode": {
    "name": "ipython",
    "version": 3
   },
   "file_extension": ".py",
   "mimetype": "text/x-python",
   "name": "python",
   "nbconvert_exporter": "python",
   "pygments_lexer": "ipython3",
   "version": "3.11.9"
  }
 },
 "nbformat": 4,
 "nbformat_minor": 4
}
