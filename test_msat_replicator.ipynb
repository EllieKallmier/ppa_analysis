{
 "cells": [
  {
   "cell_type": "code",
   "execution_count": null,
   "metadata": {},
   "outputs": [],
   "source": [
    "import pandas as pd\n",
    "import numpy as np\n",
    "import scenario_runner\n",
    "\n",
    "load_profiles = pd.read_csv('tests/data/sample_one_day_data.csv')\n",
    "price_profiles = pd.read_csv('tests/data/sample_price_set.csv')\n",
    "charge_set = pd.read_csv('tests/data/sample_charge_set.csv')\n",
    "scenarios = pd.read_csv('tests/data/sample_scenarios.csv').fillna(np.nan).replace([np.nan], [None])\n",
    "scenarios['retail'], scenarios['ppa'] = \\\n",
    "    zip(*scenarios.apply(scenario_runner.run_scenario_from_row, axis=1, price_profiles=price_profiles,\n",
    "                         load_profiles=load_profiles, charge_set=charge_set))\n",
    "scenarios.to_csv('tests/data/costs_year.csv')"
   ]
  }
 ],
 "metadata": {
  "kernelspec": {
   "display_name": "base",
   "language": "python",
   "name": "python3"
  },
  "language_info": {
   "codemirror_mode": {
    "name": "ipython",
    "version": 3
   },
   "file_extension": ".py",
   "mimetype": "text/x-python",
   "name": "python",
   "nbconvert_exporter": "python",
   "pygments_lexer": "ipython3",
   "version": "3.9.13"
  },
  "orig_nbformat": 4
 },
 "nbformat": 4,
 "nbformat_minor": 2
}
