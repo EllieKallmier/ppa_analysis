{
 "cells": [
  {
   "cell_type": "code",
   "execution_count": null,
   "metadata": {},
   "outputs": [],
   "source": [
    "import pandas as pd\n",
    "import numpy as np\n",
    "import scenario_runner\n",
    "import datetime\n",
    "from emissions import get_avg_emissions_intensity, get_marginal_emissions_intensity\n",
    "\n",
    "load_profiles = pd.read_csv('tests/data/sample_one_day_data.csv')\n",
    "load_profiles['DateTime'] = pd.to_datetime(load_profiles['DateTime'].astype(str))\n",
    "\n",
    "price_profiles = pd.read_csv('tests/data/sample_price_set.csv')\n",
    "charge_set = pd.read_csv('tests/data/sample_charge_set.csv')\n",
    "scenarios = pd.read_csv('tests/data/sample_scenarios.csv').fillna(np.nan).replace(np.nan, None)\n",
    "\n",
    "emissions = get_marginal_emissions_intensity(\n",
    "    start=load_profiles['DateTime'].min().strftime(\"%Y/%m/%d %H:%M\"), \n",
    "    end=load_profiles['DateTime'].max().strftime(\"%Y/%m/%d %H:%M\"),\n",
    "    cache='cache_nemed/',\n",
    "    regions=['NSW1'],\n",
    "    period='30min'\n",
    "    )"
   ]
  },
  {
   "cell_type": "code",
   "execution_count": 2,
   "metadata": {},
   "outputs": [],
   "source": [
    "scenarios['retail'], scenarios['ppa'], scenarios['firming emissions'], scenarios['matched percent']= \\\n",
    "    zip(*scenarios.apply(scenario_runner.run_scenario_from_row, axis=1, price_profiles=price_profiles,\n",
    "                         load_profiles=load_profiles, charge_set=charge_set, emissions_profiles=emissions))\n",
    "scenarios.to_csv('tests/data/costs_year.csv')"
   ]
  },
  {
   "cell_type": "code",
   "execution_count": null,
   "metadata": {},
   "outputs": [],
   "source": []
  }
 ],
 "metadata": {
  "kernelspec": {
   "display_name": "Python 3 (ipykernel)",
   "language": "python",
   "name": "python3"
  },
  "language_info": {
   "codemirror_mode": {
    "name": "ipython",
    "version": 3
   },
   "file_extension": ".py",
   "mimetype": "text/x-python",
   "name": "python",
   "nbconvert_exporter": "python",
   "pygments_lexer": "ipython3",
   "version": "3.11.0"
  }
 },
 "nbformat": 4,
 "nbformat_minor": 4
}
