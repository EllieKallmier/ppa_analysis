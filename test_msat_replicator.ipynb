{
 "cells": [
  {
   "cell_type": "code",
   "execution_count": 1,
   "metadata": {},
   "outputs": [
    {
     "name": "stdout",
     "output_type": "stream",
     "text": [
      "INFO: Processing total emissions from 2021-12-31 to 2022-01-01\n",
      "INFO: Compiling data for table DISPATCH_UNIT_SCADA\n",
      "INFO: Returning DISPATCH_UNIT_SCADA.\n",
      "INFO: Compiling Energy from Dispatch\n",
      "INFO: Processing total emissions from 2022-01-01 to 2022-01-02\n",
      "INFO: Compiling data for table DISPATCH_UNIT_SCADA\n",
      "INFO: Returning DISPATCH_UNIT_SCADA.\n",
      "INFO: Compiling Energy from Dispatch\n",
      "INFO: Loading results file processed_co2_total_2021-12-31_2022-01-01.parquet\n",
      "INFO: Loading results file processed_co2_total_2022-01-01_2022-01-02.parquet\n",
      "INFO: Completed get_total_emissions_by_DI_DUID\n"
     ]
    }
   ],
   "source": [
    "import pandas as pd\n",
    "import numpy as np\n",
    "import scenario_runner\n",
    "from emissions import get_emissions_intensity\n",
    "\n",
    "load_profiles = pd.read_csv('tests/data/sample_one_day_data.csv')\n",
    "price_profiles = pd.read_csv('tests/data/sample_price_set.csv')\n",
    "charge_set = pd.read_csv('tests/data/sample_charge_set.csv')\n",
    "scenarios = pd.read_csv('tests/data/sample_scenarios.csv').fillna(np.nan).replace([np.nan], [None])\n",
    "emissions = get_emissions_intensity(\n",
    "    start=load_profiles['DateTime'].iloc[0], \n",
    "    end=load_profiles['DateTime'].iloc[-1],\n",
    "    cache='cache_nemed/',\n",
    "    regions=['QLD1', 'NSW1', 'SA1'],\n",
    "    period='30min'\n",
    "    )\n",
    "\n",
    "scenarios['retail'], scenarios['ppa'], scenarios['firming emissions']= \\\n",
    "    zip(*scenarios.apply(scenario_runner.run_scenario_from_row, axis=1, price_profiles=price_profiles,\n",
    "                         load_profiles=load_profiles, charge_set=charge_set, emissions_profiles=emissions))\n",
    "scenarios.to_csv('tests/data/costs_year.csv')"
   ]
  },
  {
   "cell_type": "code",
   "execution_count": null,
   "metadata": {},
   "outputs": [],
   "source": []
  }
 ],
 "metadata": {
  "kernelspec": {
   "display_name": "base",
   "language": "python",
   "name": "python3"
  },
  "language_info": {
   "codemirror_mode": {
    "name": "ipython",
    "version": 3
   },
   "file_extension": ".py",
   "mimetype": "text/x-python",
   "name": "python",
   "nbconvert_exporter": "python",
   "pygments_lexer": "ipython3",
   "version": "3.9.13"
  },
  "orig_nbformat": 4
 },
 "nbformat": 4,
 "nbformat_minor": 2
}
