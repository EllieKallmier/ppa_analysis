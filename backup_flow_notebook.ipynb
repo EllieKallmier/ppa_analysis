{
 "cells": [
  {
   "cell_type": "markdown",
   "metadata": {},
   "source": [
    "Copied over from test_modelling.ipynb after having issues with greying out background and outputs being covered. Copied to new notebook per this issue resolution: https://github.com/microsoft/vscode/issues/146153\n",
    "\n",
    "<br>\n",
    "Note: I have now also removed the attrs dependency issue by uninstalling nemseer.\n",
    "\n",
    "<br>\n",
    "The speed issue with VSCode and Jupyter Notebooks (+occasional crashing): disabled Pylance, reverted to a late-2023 version of Jupyter to see what difference it makes (per this thread: https://github.com/microsoft/vscode-jupyter/issues/15351)"
   ]
  },
  {
   "cell_type": "code",
   "execution_count": 1,
   "metadata": {},
   "outputs": [
    {
     "name": "stdout",
     "output_type": "stream",
     "text": [
      "INFO: Using Python-MIP package version 1.15.0\n"
     ]
    }
   ],
   "source": [
    "# ------------------------------ Packages & Files ------------------------------\n",
    "import pandas as pd\n",
    "import numpy as np\n",
    "import os\n",
    "\n",
    "import seaborn as sns\n",
    "import seaborn.objects as so\n",
    "import matplotlib.pyplot as plt\n",
    "\n",
    "import plotly.express as px\n",
    "import plotly.graph_objects as go\n",
    "from plotly.subplots import make_subplots\n",
    "\n",
    "import nemed\n",
    "import ppa, residuals, tariffs, hybrid, firming_contracts, load_flex, battery\n",
    "import calendar\n",
    "import holidays\n",
    "import pprint\n",
    "import logging\n",
    "from pathlib import Path\n",
    "from scipy.stats import norm\n",
    "from random import random\n",
    "from datetime import timedelta, datetime\n",
    "\n",
    "from nemosis import dynamic_data_compiler, static_table\n",
    "from getting_data import import_gen_data, import_load_data, import_pricing_data, import_emissions_data\n",
    "from helper_functions import _check_interval_consistency, _check_missing_data, get_interval_length\n",
    "\n",
    "from mip import Model, xsum, minimize, CONTINUOUS, BINARY, OptimizationStatus\n",
    "\n",
    "logging.getLogger(\"nemosis\").setLevel(logging.WARNING)\n",
    "logging.getLogger(\"nemed\").setLevel(logging.WARNING)\n",
    "pd.set_option('display.max_rows', None)\n",
    "plt.style.use('ggplot')"
   ]
  },
  {
   "cell_type": "code",
   "execution_count": 2,
   "metadata": {},
   "outputs": [],
   "source": [
    "# -------------------------------- USER INPUTS ---------------------------------\n",
    "# - - - - - - - - - - - - - - - - - - DATA - - - - - - - - - - - - - - - - - - -\n",
    "\n",
    "# load data file name\n",
    "load_fn = ''\n",
    "LOAD_COL_NAME = 'Load'\n",
    "LOAD_TIMEZONE = ''\n",
    "\n",
    "# generation data file name, or, generator DUID(s)\n",
    "# TODO: add function to take input TYPE of generator and select appropriate trace\n",
    "GEN_FN = ''\n",
    "GEN_COL_NAME_S = ''\n",
    "\n",
    "# get name of datetime column for both load and generation files\n",
    "LOAD_DATETIME_COL_NAME = 'TS'\n",
    "GEN_DATETIME_COL_NAME = ''\n",
    "DAY_FIRST = True\n",
    "GEN_TECH_TYPE_S = ['WIND - ONSHORE', 'PHOTOVOLTAIC FLAT PANEL']\n",
    "\n",
    "# Region to fetch generation/pricing/emissions data for, and the region in which \n",
    "# the load is located:\n",
    "GENERATOR_REGION = 'QLD1'\n",
    "LOAD_REGION = 'QLD1'\n",
    "\n",
    "# NEMOSIS inputs:\n",
    "RAW_DATA_CACHE = 'data_caches/gen_data_cache'\n",
    "EMISSIONS_CACHE = 'data_caches/nemed_cache'\n",
    "PRICING_CACHE = 'data_caches/pricing_cache'\n",
    "\n",
    "\n",
    "# - - - - - - - - - - - - - - - - - CONTRACT - - - - - - - - - - - - - - - - - -\n",
    "# TODO: fill out\n",
    "DELIVERY_STRUCTURE = ''\n",
    "FIRMING_CONTRACT_TYPE = 'Partially wholesale exposed'\n",
    "\n",
    "EXPOSURE_BOUND_UPPER = 300\n",
    "EXPOSURE_BOUND_LOWER = 20\n",
    "RETAIL_TARIFF_DETAILS = {'a':'b'}\n",
    "\n",
    "FLOOR_PRICE = 0.0"
   ]
  },
  {
   "cell_type": "code",
   "execution_count": 3,
   "metadata": {},
   "outputs": [
    {
     "name": "stdout",
     "output_type": "stream",
     "text": [
      "Some missing data found. Filled with zeros.\n",
      "\n"
     ]
    }
   ],
   "source": [
    "# Provide artificial start and end dates so we can loop over load later:\n",
    "start_date = datetime.strptime('2020-01-01 00:00:00', '%Y-%m-%d %H:%M:%S')\n",
    "end_date = datetime.strptime('2023-12-31 23:00:00', '%Y-%m-%d %H:%M:%S')\n",
    "\n",
    "# ----------------------------- Get Generation Data ----------------------------\n",
    "gen_data = import_gen_data.get_generation_data(RAW_DATA_CACHE, GENERATOR_REGION, GEN_TECH_TYPE_S, start_date=start_date, end_date=end_date)\n",
    "\n",
    "# ------------------------ Get Pricing & Emissions Data ------------------------\n",
    "emissions_intensity = import_emissions_data.get_avg_emissions_intensity(\n",
    "    start_date, end_date, EMISSIONS_CACHE, [LOAD_REGION, GENERATOR_REGION]\n",
    ")\n",
    "\n",
    "price_data = import_pricing_data.get_wholesale_price_data(\n",
    "    start_date, end_date, PRICING_CACHE, [LOAD_REGION, GENERATOR_REGION]\n",
    ")"
   ]
  },
  {
   "cell_type": "code",
   "execution_count": 17,
   "metadata": {},
   "outputs": [
    {
     "name": "stdout",
     "output_type": "stream",
     "text": [
      "[[71.70087027]] [[67.54714805]]\n"
     ]
    }
   ],
   "source": [
    "earlier_price_data = import_pricing_data.get_wholesale_price_data(\n",
    "    datetime.strptime('2019-01-01 00:00:00', '%Y-%m-%d %H:%M:%S'), datetime.strptime('2019-12-31 00:00:00', '%Y-%m-%d %H:%M:%S'), PRICING_CACHE, [LOAD_REGION, GENERATOR_REGION]\n",
    ")\n",
    "\n",
    "earlier_price_data_annual_average = earlier_price_data.copy().resample('Y').mean(numeric_only=True)\n",
    "earlier_price_data_solar_hours = earlier_price_data.copy().between_time('7:00', '17:00', inclusive='both')\n",
    "earlier_price_data_solar_avg = earlier_price_data_solar_hours.resample('Y').mean(numeric_only=True)\n",
    "\n",
    "print(earlier_price_data_annual_average.values, earlier_price_data_solar_avg.values)"
   ]
  },
  {
   "cell_type": "code",
   "execution_count": 5,
   "metadata": {},
   "outputs": [],
   "source": [
    "solar_1 = 'DDSF1: PHOTOVOLTAIC FLAT PANEL'\n",
    "solar_2 = 'SMCSF1: PHOTOVOLTAIC FLAT PANEL'\n",
    "wind_1 = 'MEWF1: WIND - ONSHORE'\n",
    "wind_2 = 'COOPGWF1: WIND - ONSHORE'\n",
    "\n",
    "\n",
    "gen_data = gen_data.rename(columns = {col : col.upper() for col in gen_data.columns})\n",
    "gen_data = gen_data[[solar_1, solar_2, wind_1, wind_2]]"
   ]
  },
  {
   "cell_type": "code",
   "execution_count": 39,
   "metadata": {},
   "outputs": [
    {
     "name": "stdout",
     "output_type": "stream",
     "text": [
      "53.27222586370623\n",
      "53.27222586370621\n",
      "52.458823241166186\n",
      "52.458823241166165\n"
     ]
    }
   ],
   "source": [
    "# -------- SIMPLE LCOE CALCULATIONS ----------\n",
    "\n",
    "# Low assumption from GenCost 2018\n",
    "lcoe_info_dict = {\n",
    "    solar_1 : {\n",
    "        'Nameplate Capacity (kW)' : 110000,\n",
    "        'Fixed O&M ($/kW)': 14.4,\n",
    "        'Variable O&M ($/kWh)' : 0.0,\n",
    "        'Capital ($/kW)' : 1280,\n",
    "        'Capacity Factor' : 0.22\n",
    "    },\n",
    "    solar_2 : {\n",
    "        'Nameplate Capacity (kW)' : 125000,\n",
    "        'Fixed O&M ($/kW)': 14.4,\n",
    "        'Variable O&M ($/kWh)' : 0.0,\n",
    "        'Capital ($/kW)' : 1280,\n",
    "        'Capacity Factor' : 0.22\n",
    "    },\n",
    "    wind_1 : {\n",
    "        'Nameplate Capacity (kW)' : 180000,\n",
    "        'Fixed O&M ($/kW)': 36.0,\n",
    "        'Variable O&M ($/kWh)' : 2.7/1000,\n",
    "        'Capital ($/kW)' : 2005,\n",
    "        'Capacity Factor' : 0.35\n",
    "    },\n",
    "    wind_2 : {\n",
    "        'Nameplate Capacity (kW)' : 453000,\n",
    "        'Fixed O&M ($/kW)': 36.0,\n",
    "        'Variable O&M ($/kWh)' : 2.7/1000,\n",
    "        'Capital ($/kW)' : 2005,\n",
    "        'Capacity Factor' : 0.35\n",
    "    }\n",
    "}\n",
    "\n",
    "for generator, info in lcoe_info_dict.items():\n",
    "    capital_cost_year_one = info['Capital ($/kW)'] * (info['Nameplate Capacity (kW)'] * 1000)\n",
    "    lifetime_years = 25\n",
    "    discount_rate = 0.07        # AEMC uses 6-8.5% for all technologies\n",
    "\n",
    "    numerator = 0.0\n",
    "    denominator = 0.0\n",
    "    capital_year_n = capital_cost_year_one\n",
    "    for year in range(0, lifetime_years):\n",
    "        capital_year_n = (capital_cost_year_one) * (year == 0)\n",
    "        kwh_in_year_n = (info['Capacity Factor'] * info['Nameplate Capacity (kW)'] * (365*24))\n",
    "        numerator += (capital_year_n + info['Fixed O&M ($/kW)']*info['Nameplate Capacity (kW)'] + info['Variable O&M ($/kWh)']*kwh_in_year_n) / ((1 + discount_rate)**year)\n",
    "        denominator += (kwh_in_year_n) / ((1 + discount_rate)**year)\n",
    "\n",
    "    final = numerator / denominator\n",
    "\n",
    "    print(final)"
   ]
  },
  {
   "cell_type": "code",
   "execution_count": 5,
   "metadata": {},
   "outputs": [
    {
     "name": "stdout",
     "output_type": "stream",
     "text": [
      "Some missing data found. Filled with zeros.\n",
      "\n",
      "Set parameter Username\n",
      "Academic license - for non-commercial use only - expires 2024-06-06\n",
      "Warning for adding constraints: zero or small (< 1e-13) coefficients, ignored\n",
      "Set parameter Username\n",
      "Academic license - for non-commercial use only - expires 2024-06-06\n",
      "Some missing data found. Filled with zeros.\n",
      "\n",
      "Set parameter Username\n",
      "Academic license - for non-commercial use only - expires 2024-06-06\n",
      "Warning for adding constraints: zero or small (< 1e-13) coefficients, ignored\n",
      "Set parameter Username\n",
      "Academic license - for non-commercial use only - expires 2024-06-06\n",
      "Some missing data found. Filled with zeros.\n",
      "\n",
      "Set parameter Username\n",
      "Academic license - for non-commercial use only - expires 2024-06-06\n",
      "Warning for adding constraints: zero or small (< 1e-13) coefficients, ignored\n",
      "Set parameter Username\n",
      "Academic license - for non-commercial use only - expires 2024-06-06\n",
      "Some missing data found. Filled with zeros.\n",
      "\n",
      "Set parameter Username\n",
      "Academic license - for non-commercial use only - expires 2024-06-06\n",
      "Warning for adding constraints: zero or small (< 1e-13) coefficients, ignored\n",
      "Set parameter Username\n",
      "Academic license - for non-commercial use only - expires 2024-06-06\n",
      "Some missing data found. Filled with zeros.\n",
      "\n",
      "Set parameter Username\n",
      "Academic license - for non-commercial use only - expires 2024-06-06\n",
      "Warning for adding constraints: zero or small (< 1e-13) coefficients, ignored\n",
      "Set parameter Username\n",
      "Academic license - for non-commercial use only - expires 2024-06-06\n",
      "Some missing data found. Filled with zeros.\n",
      "\n",
      "Set parameter Username\n",
      "Academic license - for non-commercial use only - expires 2024-06-06\n",
      "Warning for adding constraints: zero or small (< 1e-13) coefficients, ignored\n",
      "Set parameter Username\n",
      "Academic license - for non-commercial use only - expires 2024-06-06\n",
      "Some missing data found. Filled with zeros.\n",
      "\n",
      "Set parameter Username\n",
      "Academic license - for non-commercial use only - expires 2024-06-06\n",
      "Warning for adding constraints: zero or small (< 1e-13) coefficients, ignored\n",
      "Set parameter Username\n",
      "Academic license - for non-commercial use only - expires 2024-06-06\n",
      "Some missing data found. Filled with zeros.\n",
      "\n",
      "Set parameter Username\n",
      "Academic license - for non-commercial use only - expires 2024-06-06\n",
      "Warning for adding constraints: zero or small (< 1e-13) coefficients, ignored\n",
      "Set parameter Username\n",
      "Academic license - for non-commercial use only - expires 2024-06-06\n",
      "Some missing data found. Filled with zeros.\n",
      "\n",
      "Set parameter Username\n",
      "Academic license - for non-commercial use only - expires 2024-06-06\n",
      "Warning for adding constraints: zero or small (< 1e-13) coefficients, ignored\n",
      "Set parameter Username\n",
      "Academic license - for non-commercial use only - expires 2024-06-06\n",
      "Some missing data found. Filled with zeros.\n",
      "\n",
      "Set parameter Username\n",
      "Academic license - for non-commercial use only - expires 2024-06-06\n",
      "Warning for adding constraints: zero or small (< 1e-13) coefficients, ignored\n",
      "Set parameter Username\n",
      "Academic license - for non-commercial use only - expires 2024-06-06\n",
      "Some missing data found. Filled with zeros.\n",
      "\n",
      "Set parameter Username\n",
      "Academic license - for non-commercial use only - expires 2024-06-06\n",
      "Warning for adding constraints: zero or small (< 1e-13) coefficients, ignored\n",
      "Set parameter Username\n",
      "Academic license - for non-commercial use only - expires 2024-06-06\n",
      "Some missing data found. Filled with zeros.\n",
      "\n",
      "Set parameter Username\n",
      "Academic license - for non-commercial use only - expires 2024-06-06\n",
      "Warning for adding constraints: zero or small (< 1e-13) coefficients, ignored\n",
      "Set parameter Username\n",
      "Academic license - for non-commercial use only - expires 2024-06-06\n",
      "Some missing data found. Filled with zeros.\n",
      "\n",
      "Set parameter Username\n",
      "Academic license - for non-commercial use only - expires 2024-06-06\n",
      "Warning for adding constraints: zero or small (< 1e-13) coefficients, ignored\n",
      "Set parameter Username\n",
      "Academic license - for non-commercial use only - expires 2024-06-06\n",
      "Some missing data found. Filled with zeros.\n",
      "\n",
      "Set parameter Username\n",
      "Academic license - for non-commercial use only - expires 2024-06-06\n",
      "Warning for adding constraints: zero or small (< 1e-13) coefficients, ignored\n",
      "Set parameter Username\n",
      "Academic license - for non-commercial use only - expires 2024-06-06\n",
      "Some missing data found. Filled with zeros.\n",
      "\n",
      "Set parameter Username\n",
      "Academic license - for non-commercial use only - expires 2024-06-06\n",
      "Warning for adding constraints: zero or small (< 1e-13) coefficients, ignored\n",
      "Set parameter Username\n",
      "Academic license - for non-commercial use only - expires 2024-06-06\n",
      "Some missing data found. Filled with zeros.\n",
      "\n",
      "Set parameter Username\n",
      "Academic license - for non-commercial use only - expires 2024-06-06\n",
      "Warning for adding constraints: zero or small (< 1e-13) coefficients, ignored\n",
      "Set parameter Username\n",
      "Academic license - for non-commercial use only - expires 2024-06-06\n",
      "Some missing data found. Filled with zeros.\n",
      "\n",
      "Set parameter Username\n",
      "Academic license - for non-commercial use only - expires 2024-06-06\n",
      "Warning for adding constraints: zero or small (< 1e-13) coefficients, ignored\n",
      "Set parameter Username\n",
      "Academic license - for non-commercial use only - expires 2024-06-06\n",
      "Some missing data found. Filled with zeros.\n",
      "\n",
      "Set parameter Username\n",
      "Academic license - for non-commercial use only - expires 2024-06-06\n",
      "Warning for adding constraints: zero or small (< 1e-13) coefficients, ignored\n",
      "Set parameter Username\n",
      "Academic license - for non-commercial use only - expires 2024-06-06\n",
      "Some missing data found. Filled with zeros.\n",
      "\n",
      "Set parameter Username\n",
      "Academic license - for non-commercial use only - expires 2024-06-06\n",
      "Warning for adding constraints: zero or small (< 1e-13) coefficients, ignored\n",
      "Set parameter Username\n",
      "Academic license - for non-commercial use only - expires 2024-06-06\n",
      "Some missing data found. Filled with zeros.\n",
      "\n",
      "Set parameter Username\n",
      "Academic license - for non-commercial use only - expires 2024-06-06\n",
      "Warning for adding constraints: zero or small (< 1e-13) coefficients, ignored\n",
      "Set parameter Username\n",
      "Academic license - for non-commercial use only - expires 2024-06-06\n",
      "Some missing data found. Filled with zeros.\n",
      "\n",
      "Set parameter Username\n",
      "Academic license - for non-commercial use only - expires 2024-06-06\n",
      "Warning for adding constraints: zero or small (< 1e-13) coefficients, ignored\n",
      "Set parameter Username\n",
      "Academic license - for non-commercial use only - expires 2024-06-06\n",
      "Some missing data found. Filled with zeros.\n",
      "\n",
      "Set parameter Username\n",
      "Academic license - for non-commercial use only - expires 2024-06-06\n",
      "Warning for adding constraints: zero or small (< 1e-13) coefficients, ignored\n",
      "Set parameter Username\n",
      "Academic license - for non-commercial use only - expires 2024-06-06\n",
      "Some missing data found. Filled with zeros.\n",
      "\n",
      "Set parameter Username\n",
      "Academic license - for non-commercial use only - expires 2024-06-06\n",
      "Warning for adding constraints: zero or small (< 1e-13) coefficients, ignored\n",
      "Set parameter Username\n",
      "Academic license - for non-commercial use only - expires 2024-06-06\n",
      "Some missing data found. Filled with zeros.\n",
      "\n",
      "Set parameter Username\n",
      "Academic license - for non-commercial use only - expires 2024-06-06\n",
      "Warning for adding constraints: zero or small (< 1e-13) coefficients, ignored\n",
      "Set parameter Username\n",
      "Academic license - for non-commercial use only - expires 2024-06-06\n",
      "Some missing data found. Filled with zeros.\n",
      "\n",
      "Set parameter Username\n",
      "Academic license - for non-commercial use only - expires 2024-06-06\n",
      "Warning for adding constraints: zero or small (< 1e-13) coefficients, ignored\n",
      "Set parameter Username\n",
      "Academic license - for non-commercial use only - expires 2024-06-06\n",
      "Some missing data found. Filled with zeros.\n",
      "\n",
      "Set parameter Username\n",
      "Academic license - for non-commercial use only - expires 2024-06-06\n",
      "Warning for adding constraints: zero or small (< 1e-13) coefficients, ignored\n",
      "Set parameter Username\n",
      "Academic license - for non-commercial use only - expires 2024-06-06\n",
      "Some missing data found. Filled with zeros.\n",
      "\n",
      "Set parameter Username\n",
      "Academic license - for non-commercial use only - expires 2024-06-06\n",
      "Warning for adding constraints: zero or small (< 1e-13) coefficients, ignored\n",
      "Set parameter Username\n",
      "Academic license - for non-commercial use only - expires 2024-06-06\n",
      "Some missing data found. Filled with zeros.\n",
      "\n",
      "Set parameter Username\n",
      "Academic license - for non-commercial use only - expires 2024-06-06\n",
      "Warning for adding constraints: zero or small (< 1e-13) coefficients, ignored\n",
      "Set parameter Username\n",
      "Academic license - for non-commercial use only - expires 2024-06-06\n",
      "Some missing data found. Filled with zeros.\n",
      "\n",
      "Set parameter Username\n",
      "Academic license - for non-commercial use only - expires 2024-06-06\n",
      "Warning for adding constraints: zero or small (< 1e-13) coefficients, ignored\n",
      "Set parameter Username\n",
      "Academic license - for non-commercial use only - expires 2024-06-06\n",
      "Some missing data found. Filled with zeros.\n",
      "\n",
      "Set parameter Username\n",
      "Academic license - for non-commercial use only - expires 2024-06-06\n",
      "Warning for adding constraints: zero or small (< 1e-13) coefficients, ignored\n",
      "Set parameter Username\n",
      "Academic license - for non-commercial use only - expires 2024-06-06\n",
      "Some missing data found. Filled with zeros.\n",
      "\n",
      "Set parameter Username\n",
      "Academic license - for non-commercial use only - expires 2024-06-06\n",
      "Warning for adding constraints: zero or small (< 1e-13) coefficients, ignored\n",
      "Set parameter Username\n",
      "Academic license - for non-commercial use only - expires 2024-06-06\n",
      "Some missing data found. Filled with zeros.\n",
      "\n",
      "Set parameter Username\n",
      "Academic license - for non-commercial use only - expires 2024-06-06\n",
      "Warning for adding constraints: zero or small (< 1e-13) coefficients, ignored\n",
      "Set parameter Username\n",
      "Academic license - for non-commercial use only - expires 2024-06-06\n",
      "Some missing data found. Filled with zeros.\n",
      "\n",
      "Set parameter Username\n",
      "Academic license - for non-commercial use only - expires 2024-06-06\n",
      "Warning for adding constraints: zero or small (< 1e-13) coefficients, ignored\n",
      "Set parameter Username\n",
      "Academic license - for non-commercial use only - expires 2024-06-06\n",
      "Some missing data found. Filled with zeros.\n",
      "\n",
      "Set parameter Username\n",
      "Academic license - for non-commercial use only - expires 2024-06-06\n",
      "Warning for adding constraints: zero or small (< 1e-13) coefficients, ignored\n",
      "Set parameter Username\n",
      "Academic license - for non-commercial use only - expires 2024-06-06\n",
      "Some missing data found. Filled with zeros.\n",
      "\n",
      "Set parameter Username\n",
      "Academic license - for non-commercial use only - expires 2024-06-06\n",
      "Warning for adding constraints: zero or small (< 1e-13) coefficients, ignored\n",
      "Set parameter Username\n",
      "Academic license - for non-commercial use only - expires 2024-06-06\n",
      "Some missing data found. Filled with zeros.\n",
      "\n",
      "Set parameter Username\n",
      "Academic license - for non-commercial use only - expires 2024-06-06\n",
      "Warning for adding constraints: zero or small (< 1e-13) coefficients, ignored\n",
      "Set parameter Username\n",
      "Academic license - for non-commercial use only - expires 2024-06-06\n",
      "Some missing data found. Filled with zeros.\n",
      "\n",
      "Set parameter Username\n",
      "Academic license - for non-commercial use only - expires 2024-06-06\n",
      "Warning for adding constraints: zero or small (< 1e-13) coefficients, ignored\n",
      "Set parameter Username\n",
      "Academic license - for non-commercial use only - expires 2024-06-06\n",
      "Some missing data found. Filled with zeros.\n",
      "\n",
      "Set parameter Username\n",
      "Academic license - for non-commercial use only - expires 2024-06-06\n",
      "Warning for adding constraints: zero or small (< 1e-13) coefficients, ignored\n",
      "Set parameter Username\n",
      "Academic license - for non-commercial use only - expires 2024-06-06\n",
      "Some missing data found. Filled with zeros.\n",
      "\n",
      "Set parameter Username\n",
      "Academic license - for non-commercial use only - expires 2024-06-06\n",
      "Warning for adding constraints: zero or small (< 1e-13) coefficients, ignored\n",
      "Set parameter Username\n",
      "Academic license - for non-commercial use only - expires 2024-06-06\n",
      "Some missing data found. Filled with zeros.\n",
      "\n",
      "Set parameter Username\n",
      "Academic license - for non-commercial use only - expires 2024-06-06\n",
      "Warning for adding constraints: zero or small (< 1e-13) coefficients, ignored\n",
      "Set parameter Username\n",
      "Academic license - for non-commercial use only - expires 2024-06-06\n",
      "Some missing data found. Filled with zeros.\n",
      "\n",
      "Set parameter Username\n",
      "Academic license - for non-commercial use only - expires 2024-06-06\n",
      "Warning for adding constraints: zero or small (< 1e-13) coefficients, ignored\n",
      "Set parameter Username\n",
      "Academic license - for non-commercial use only - expires 2024-06-06\n",
      "Some missing data found. Filled with zeros.\n",
      "\n",
      "Set parameter Username\n",
      "Academic license - for non-commercial use only - expires 2024-06-06\n",
      "Warning for adding constraints: zero or small (< 1e-13) coefficients, ignored\n",
      "Set parameter Username\n",
      "Academic license - for non-commercial use only - expires 2024-06-06\n",
      "Some missing data found. Filled with zeros.\n",
      "\n",
      "Set parameter Username\n",
      "Academic license - for non-commercial use only - expires 2024-06-06\n",
      "Warning for adding constraints: zero or small (< 1e-13) coefficients, ignored\n",
      "Set parameter Username\n",
      "Academic license - for non-commercial use only - expires 2024-06-06\n",
      "Some missing data found. Filled with zeros.\n",
      "\n",
      "Set parameter Username\n",
      "Academic license - for non-commercial use only - expires 2024-06-06\n",
      "Warning for adding constraints: zero or small (< 1e-13) coefficients, ignored\n",
      "Set parameter Username\n",
      "Academic license - for non-commercial use only - expires 2024-06-06\n",
      "Some missing data found. Filled with zeros.\n",
      "\n",
      "Set parameter Username\n",
      "Academic license - for non-commercial use only - expires 2024-06-06\n",
      "Warning for adding constraints: zero or small (< 1e-13) coefficients, ignored\n",
      "Set parameter Username\n",
      "Academic license - for non-commercial use only - expires 2024-06-06\n",
      "Some missing data found. Filled with zeros.\n",
      "\n",
      "Set parameter Username\n",
      "Academic license - for non-commercial use only - expires 2024-06-06\n",
      "Warning for adding constraints: zero or small (< 1e-13) coefficients, ignored\n",
      "Set parameter Username\n",
      "Academic license - for non-commercial use only - expires 2024-06-06\n",
      "Some missing data found. Filled with zeros.\n",
      "\n",
      "Set parameter Username\n",
      "Academic license - for non-commercial use only - expires 2024-06-06\n",
      "Warning for adding constraints: zero or small (< 1e-13) coefficients, ignored\n",
      "Set parameter Username\n",
      "Academic license - for non-commercial use only - expires 2024-06-06\n",
      "Some missing data found. Filled with zeros.\n",
      "\n",
      "Set parameter Username\n",
      "Academic license - for non-commercial use only - expires 2024-06-06\n",
      "Warning for adding constraints: zero or small (< 1e-13) coefficients, ignored\n",
      "Set parameter Username\n",
      "Academic license - for non-commercial use only - expires 2024-06-06\n",
      "Some missing data found. Filled with zeros.\n",
      "\n",
      "Set parameter Username\n",
      "Academic license - for non-commercial use only - expires 2024-06-06\n",
      "Warning for adding constraints: zero or small (< 1e-13) coefficients, ignored\n",
      "Set parameter Username\n",
      "Academic license - for non-commercial use only - expires 2024-06-06\n",
      "Some missing data found. Filled with zeros.\n",
      "\n",
      "Set parameter Username\n",
      "Academic license - for non-commercial use only - expires 2024-06-06\n",
      "Warning for adding constraints: zero or small (< 1e-13) coefficients, ignored\n",
      "Set parameter Username\n",
      "Academic license - for non-commercial use only - expires 2024-06-06\n",
      "Some missing data found. Filled with zeros.\n",
      "\n",
      "Set parameter Username\n",
      "Academic license - for non-commercial use only - expires 2024-06-06\n",
      "Warning for adding constraints: zero or small (< 1e-13) coefficients, ignored\n",
      "Set parameter Username\n",
      "Academic license - for non-commercial use only - expires 2024-06-06\n",
      "Some missing data found. Filled with zeros.\n",
      "\n",
      "Set parameter Username\n",
      "Academic license - for non-commercial use only - expires 2024-06-06\n",
      "Warning for adding constraints: zero or small (< 1e-13) coefficients, ignored\n",
      "Set parameter Username\n",
      "Academic license - for non-commercial use only - expires 2024-06-06\n"
     ]
    }
   ],
   "source": [
    "# At this point: loop through the loads, create a big df with results for each\n",
    "# Key results at this point: percentage mix of each generator, matching percent.\n",
    "from os.path import isfile\n",
    "\n",
    "dir = '/Users/elliekallmier/Desktop/RA_Work/247/247_ppa/five_year_data'\n",
    "\n",
    "results = pd.DataFrame()\n",
    "for file in os.listdir(dir):\n",
    "    if file[-1] == 'v':\n",
    "        filepath = dir + '/' + file\n",
    "        load_data, start_date, end_date = import_load_data.get_load_data(filepath, LOAD_DATETIME_COL_NAME, LOAD_COL_NAME, DAY_FIRST)\n",
    "        load_data = load_data / 1000    # convert to MWh\n",
    "        load_data = load_data[load_data.index >= '2020-01-01 00:00:00']\n",
    "\n",
    "        one_yr_gen = gen_data.iloc[:24*365].copy().sum()\n",
    "        one_yr_load = load_data.iloc[:24*365].copy().sum()\n",
    "        gen_data_test = gen_data.copy()\n",
    "\n",
    "        for gen in gen_data_test.columns:\n",
    "            gen_data_test[gen] = gen_data_test[gen] * (one_yr_load['Load'] / one_yr_gen[gen])\n",
    "\n",
    "        gen_info = {\n",
    "            wind_1 : 75,\n",
    "            solar_1 : 65\n",
    "        }\n",
    "\n",
    "        combined_data = pd.concat([load_data, gen_data_test, price_data, emissions_intensity], axis='columns')\n",
    "        combined_data = combined_data.dropna(how='any', axis='rows')\n",
    "\n",
    "        combined_data_firming = firming_contracts.choose_firming_type(\n",
    "            FIRMING_CONTRACT_TYPE, combined_data, [LOAD_REGION], EXPOSURE_BOUND_UPPER, EXPOSURE_BOUND_LOWER, RETAIL_TARIFF_DETAILS\n",
    "        )\n",
    "\n",
    "        try:\n",
    "            opt_hybrid, percentages = hybrid.create_hybrid_generation('Pay as Produced', 'M',  100, combined_data_firming, LOAD_REGION, gen_info, '60', 0.75)\n",
    "\n",
    "            results.loc[file, wind_1] = percentages[wind_1]['Percent of hybrid trace']\n",
    "            results.loc[file, solar_1] = percentages[solar_1]['Percent of hybrid trace']\n",
    "            \n",
    "        except:\n",
    "            print('Optimisation didnt work')    "
   ]
  },
  {
   "cell_type": "code",
   "execution_count": 6,
   "metadata": {},
   "outputs": [],
   "source": [
    "# Renaming files once loaded in for prettiness:\n",
    "\n",
    "renaming_dict = {}\n",
    "i = 0\n",
    "while i < len(results.index):\n",
    "    new_name = input(f'{results.index[i]}: ')\n",
    "    renaming_dict[results.index[i]] = new_name\n",
    "\n",
    "    i += 1"
   ]
  },
  {
   "cell_type": "code",
   "execution_count": 9,
   "metadata": {},
   "outputs": [
    {
     "name": "stdout",
     "output_type": "stream",
     "text": [
      "{'Sewerage treatment_57_FN_same_year.csv': 'Sewerage Treatment (FN) 57', 'Engineering office_65_FN.csv': 'Engineering Office (FN) 65', 'Food processing_87_WB_same_year.csv': 'Food Processing (WB) 87', 'Refrigeration warehouse_28_SW_same_year.csv': 'Refrigeration Warehouse (SW) 28', 'Engineering-Metal and non-metal fabrications_86_SW_same_year.csv': 'Engineering Metal and Non-metal Fabrications (SW) 86', 'Manufacturer_50_CA_same_year.csv': 'Manufacturer (CA) 50', 'Port facility_70_FN_same_year.csv': 'Port Facility (FN) 70', 'sa_manufacturing_data.csv': 'SA Manufacturing (AGL) manufacturing', 'Offices_48_NQ_same_year.csv': 'Offices (NQ) 48', 'Foundry_27_FN_same_year.csv': 'Foundry (FN) 27', 'Resort_25_FN.csv': 'Resort (FN) 25', 'Office building_54_FN.csv': 'Office Building (FN) 54', 'Recycling centre_58_FN_same_year.csv': 'Recycling Centre (FN) 58', 'Office building_83_SW_same_year.csv': 'Office Building (SW) 83', 'Sugar Mill (load)_85_NQ_same_year.csv': 'Sugar Mill (NQ) 85', 'Offices_24_FN.csv': 'Offices (FN) 24', 'Hospital_22_SW_same_year.csv': 'Hospital (SW) 22', 'Supermarket_55_FN.csv': 'Supermarket (FN) 55', 'Cement and lime manufacturing_78_NQ_same_year.csv': 'Cement and Lime Manufacturing (NQ) 78', 'Shopping Centre_36_NQ.csv': 'Shopping Centre (NQ) 36', 'Office building_62_CA_same_year.csv': 'Office Building (CA) 62', 'Airport_41_NQ.csv': 'Airport (NQ) 41', 'Water pumping_82_CA_same_year.csv': 'Water Pumping (CA) 82', 'Office Buildings_81_CA_same_year.csv': 'Office Buildings (CA) 81', 'Clothing and footwear manufacturing_75_WB_same_year.csv': 'Clothing and Footwear Manufacturer (WB) 75', 'Food processing_74_WB_same_year.csv': 'Food Processing (WB) 74', 'University_38_NQ_same_year.csv': 'University (NQ) 38', 'Water pumping_89_CA_same_year.csv': 'Water Pumping (CA) 89', 'Bulk commodity port facility_88_MK_same_year.csv': 'Bulk Commodity Port Facility (MK) 88', 'Hospital_64_FN.csv': 'Hospital (FN) 64', 'University_39_FN_same_year.csv': 'University (FN) 39', 'Pipe manufacturer_23_SW_same_year.csv': 'Pipe Manufacturer (SW) 23', 'Pump repairers_80_MK_same_year.csv': 'Pump Repairers (MK) 80', 'Police Station_76_FN_same_year.csv': 'Police Station (FN) 76', 'Water Treatment plant_43_NQ_same_year.csv': 'Water Treatment Plant (NQ) 43', 'Shopping Centre_42_FN.csv': 'Shopping Centre (FN) 42', 'Hospital_45_FN.csv': 'Hospital (FN) 45', 'Abbatoir_72_SW_same_year.csv': 'Abbatoir (SW) 72', 'Packaging plant_90_NQ_same_year.csv': 'Packaging Plant (NQ) 90', 'Supermarket_33_NQ_same_year.csv': 'Supermarket (NQ) 33', 'Small shopping complex_59_FN_same_year.csv': 'Small Shopping Complex (FN) 59', 'Shops and resort_56_FN.csv': 'Shops and Resort (FN) 56', 'Hospital_18_NQ.csv': 'Hospital (NQ) 18', 'Supermarket_52_NQ.csv': 'Supermarket (NQ) 52', 'Hotel_63_FN.csv': 'Hotel (FN) 63', 'Sawmill_20_WB_same_year.csv': 'Sawmill (WB) 20', 'Water pumps_79_CA_same_year.csv': 'Water Pump (CA) 79', 'Water Treatment plant_31_FN_same_year.csv': 'Water Treatment Plant (FN) 31', 'Shopping Centre_37_FN.csv': 'Shopping Centre (FN) 37', 'Food processing_84_FN_same_year.csv': 'Food Processing (FN) 84', 'Shopping Centre Body Corporate_71_FN.csv': 'Shopping Centre Body Corporate (FN) 71', 'Port Facility_66_FN.csv': 'Port Facility (FN) 66'}\n"
     ]
    }
   ],
   "source": [
    "renames = {}\n",
    "for name, new_name in renaming_dict.items():\n",
    "    number = name.split('_')[1]\n",
    "\n",
    "    new_new_name = new_name + ' ' + number\n",
    "    renames[name] = new_new_name\n",
    "\n",
    "print(renames)\n"
   ]
  },
  {
   "cell_type": "code",
   "execution_count": 12,
   "metadata": {},
   "outputs": [
    {
     "data": {
      "image/png": "[encoded data removed]",
      "text/plain": [
       "<Figure size 2000x800 with 1 Axes>"
      ]
     },
     "metadata": {},
     "output_type": "display_data"
    }
   ],
   "source": [
    "results = results.rename(columns={'MEWF1: WIND - ONSHORE': 'Wind', 'DDSF1: PHOTOVOLTAIC FLAT PANEL' : 'Solar'}, index=renames)\n",
    "# results['Name'] = results.index.str.split('.').str[0]\n",
    "# results.index = results['Name']\n",
    "\n",
    "results = results.sort_values(by='Wind')\n",
    "\n",
    "# fig = plt.figure(figsize=(16, 8))\n",
    "results.plot(kind='bar', stacked=True, figsize=(20,8), color=['dodgerblue', 'gold'])\n",
    "plt.title('Hybrid mix for C&I loads - 2 technologies, PaP')\n",
    "plt.ylabel('%')\n",
    "plt.show()"
   ]
  },
  {
   "cell_type": "code",
   "execution_count": 13,
   "metadata": {},
   "outputs": [
    {
     "name": "stdout",
     "output_type": "stream",
     "text": [
      "Some missing data found. Filled with zeros.\n",
      "\n",
      "Set parameter Username\n",
      "Academic license - for non-commercial use only - expires 2024-06-06\n",
      "Warning for adding constraints: zero or small (< 1e-13) coefficients, ignored\n",
      "Set parameter Username\n",
      "Academic license - for non-commercial use only - expires 2024-06-06\n",
      "Some missing data found. Filled with zeros.\n",
      "\n",
      "Set parameter Username\n",
      "Academic license - for non-commercial use only - expires 2024-06-06\n",
      "Warning for adding constraints: zero or small (< 1e-13) coefficients, ignored\n",
      "Set parameter Username\n",
      "Academic license - for non-commercial use only - expires 2024-06-06\n",
      "Some missing data found. Filled with zeros.\n",
      "\n",
      "Set parameter Username\n",
      "Academic license - for non-commercial use only - expires 2024-06-06\n",
      "Warning for adding constraints: zero or small (< 1e-13) coefficients, ignored\n",
      "Set parameter Username\n",
      "Academic license - for non-commercial use only - expires 2024-06-06\n",
      "Some missing data found. Filled with zeros.\n",
      "\n",
      "Set parameter Username\n",
      "Academic license - for non-commercial use only - expires 2024-06-06\n",
      "Warning for adding constraints: zero or small (< 1e-13) coefficients, ignored\n",
      "Set parameter Username\n",
      "Academic license - for non-commercial use only - expires 2024-06-06\n",
      "Some missing data found. Filled with zeros.\n",
      "\n",
      "Set parameter Username\n",
      "Academic license - for non-commercial use only - expires 2024-06-06\n",
      "Warning for adding constraints: zero or small (< 1e-13) coefficients, ignored\n",
      "Set parameter Username\n",
      "Academic license - for non-commercial use only - expires 2024-06-06\n",
      "Some missing data found. Filled with zeros.\n",
      "\n",
      "Set parameter Username\n",
      "Academic license - for non-commercial use only - expires 2024-06-06\n",
      "Warning for adding constraints: zero or small (< 1e-13) coefficients, ignored\n",
      "Set parameter Username\n",
      "Academic license - for non-commercial use only - expires 2024-06-06\n",
      "Some missing data found. Filled with zeros.\n",
      "\n",
      "Set parameter Username\n",
      "Academic license - for non-commercial use only - expires 2024-06-06\n",
      "Warning for adding constraints: zero or small (< 1e-13) coefficients, ignored\n",
      "Set parameter Username\n",
      "Academic license - for non-commercial use only - expires 2024-06-06\n",
      "Some missing data found. Filled with zeros.\n",
      "\n",
      "Set parameter Username\n",
      "Academic license - for non-commercial use only - expires 2024-06-06\n",
      "Warning for adding constraints: zero or small (< 1e-13) coefficients, ignored\n",
      "Set parameter Username\n",
      "Academic license - for non-commercial use only - expires 2024-06-06\n",
      "Some missing data found. Filled with zeros.\n",
      "\n",
      "Set parameter Username\n",
      "Academic license - for non-commercial use only - expires 2024-06-06\n",
      "Warning for adding constraints: zero or small (< 1e-13) coefficients, ignored\n",
      "Set parameter Username\n",
      "Academic license - for non-commercial use only - expires 2024-06-06\n",
      "Some missing data found. Filled with zeros.\n",
      "\n",
      "Set parameter Username\n",
      "Academic license - for non-commercial use only - expires 2024-06-06\n",
      "Warning for adding constraints: zero or small (< 1e-13) coefficients, ignored\n",
      "Set parameter Username\n",
      "Academic license - for non-commercial use only - expires 2024-06-06\n",
      "Some missing data found. Filled with zeros.\n",
      "\n",
      "Set parameter Username\n",
      "Academic license - for non-commercial use only - expires 2024-06-06\n",
      "Warning for adding constraints: zero or small (< 1e-13) coefficients, ignored\n",
      "Set parameter Username\n",
      "Academic license - for non-commercial use only - expires 2024-06-06\n",
      "Some missing data found. Filled with zeros.\n",
      "\n",
      "Set parameter Username\n",
      "Academic license - for non-commercial use only - expires 2024-06-06\n",
      "Warning for adding constraints: zero or small (< 1e-13) coefficients, ignored\n",
      "Set parameter Username\n",
      "Academic license - for non-commercial use only - expires 2024-06-06\n",
      "Some missing data found. Filled with zeros.\n",
      "\n",
      "Set parameter Username\n",
      "Academic license - for non-commercial use only - expires 2024-06-06\n",
      "Warning for adding constraints: zero or small (< 1e-13) coefficients, ignored\n",
      "Set parameter Username\n",
      "Academic license - for non-commercial use only - expires 2024-06-06\n",
      "Some missing data found. Filled with zeros.\n",
      "\n",
      "Set parameter Username\n",
      "Academic license - for non-commercial use only - expires 2024-06-06\n",
      "Warning for adding constraints: zero or small (< 1e-13) coefficients, ignored\n",
      "Set parameter Username\n",
      "Academic license - for non-commercial use only - expires 2024-06-06\n",
      "Some missing data found. Filled with zeros.\n",
      "\n",
      "Set parameter Username\n",
      "Academic license - for non-commercial use only - expires 2024-06-06\n",
      "Warning for adding constraints: zero or small (< 1e-13) coefficients, ignored\n",
      "Set parameter Username\n",
      "Academic license - for non-commercial use only - expires 2024-06-06\n",
      "Some missing data found. Filled with zeros.\n",
      "\n",
      "Set parameter Username\n",
      "Academic license - for non-commercial use only - expires 2024-06-06\n",
      "Warning for adding constraints: zero or small (< 1e-13) coefficients, ignored\n",
      "Set parameter Username\n",
      "Academic license - for non-commercial use only - expires 2024-06-06\n",
      "Some missing data found. Filled with zeros.\n",
      "\n",
      "Set parameter Username\n",
      "Academic license - for non-commercial use only - expires 2024-06-06\n",
      "Warning for adding constraints: zero or small (< 1e-13) coefficients, ignored\n",
      "Set parameter Username\n",
      "Academic license - for non-commercial use only - expires 2024-06-06\n",
      "Some missing data found. Filled with zeros.\n",
      "\n",
      "Set parameter Username\n",
      "Academic license - for non-commercial use only - expires 2024-06-06\n",
      "Warning for adding constraints: zero or small (< 1e-13) coefficients, ignored\n",
      "Set parameter Username\n",
      "Academic license - for non-commercial use only - expires 2024-06-06\n",
      "Some missing data found. Filled with zeros.\n",
      "\n",
      "Set parameter Username\n",
      "Academic license - for non-commercial use only - expires 2024-06-06\n",
      "Warning for adding constraints: zero or small (< 1e-13) coefficients, ignored\n",
      "Set parameter Username\n",
      "Academic license - for non-commercial use only - expires 2024-06-06\n",
      "Some missing data found. Filled with zeros.\n",
      "\n",
      "Set parameter Username\n",
      "Academic license - for non-commercial use only - expires 2024-06-06\n",
      "Warning for adding constraints: zero or small (< 1e-13) coefficients, ignored\n",
      "Set parameter Username\n",
      "Academic license - for non-commercial use only - expires 2024-06-06\n",
      "Some missing data found. Filled with zeros.\n",
      "\n",
      "Set parameter Username\n",
      "Academic license - for non-commercial use only - expires 2024-06-06\n",
      "Warning for adding constraints: zero or small (< 1e-13) coefficients, ignored\n",
      "Set parameter Username\n",
      "Academic license - for non-commercial use only - expires 2024-06-06\n",
      "Some missing data found. Filled with zeros.\n",
      "\n",
      "Set parameter Username\n",
      "Academic license - for non-commercial use only - expires 2024-06-06\n",
      "Warning for adding constraints: zero or small (< 1e-13) coefficients, ignored\n",
      "Set parameter Username\n",
      "Academic license - for non-commercial use only - expires 2024-06-06\n",
      "Some missing data found. Filled with zeros.\n",
      "\n",
      "Set parameter Username\n",
      "Academic license - for non-commercial use only - expires 2024-06-06\n",
      "Warning for adding constraints: zero or small (< 1e-13) coefficients, ignored\n",
      "Set parameter Username\n",
      "Academic license - for non-commercial use only - expires 2024-06-06\n",
      "Some missing data found. Filled with zeros.\n",
      "\n",
      "Set parameter Username\n",
      "Academic license - for non-commercial use only - expires 2024-06-06\n",
      "Warning for adding constraints: zero or small (< 1e-13) coefficients, ignored\n",
      "Set parameter Username\n",
      "Academic license - for non-commercial use only - expires 2024-06-06\n",
      "Some missing data found. Filled with zeros.\n",
      "\n",
      "Set parameter Username\n",
      "Academic license - for non-commercial use only - expires 2024-06-06\n",
      "Warning for adding constraints: zero or small (< 1e-13) coefficients, ignored\n",
      "Set parameter Username\n",
      "Academic license - for non-commercial use only - expires 2024-06-06\n",
      "Some missing data found. Filled with zeros.\n",
      "\n",
      "Set parameter Username\n",
      "Academic license - for non-commercial use only - expires 2024-06-06\n",
      "Warning for adding constraints: zero or small (< 1e-13) coefficients, ignored\n",
      "Set parameter Username\n",
      "Academic license - for non-commercial use only - expires 2024-06-06\n",
      "Some missing data found. Filled with zeros.\n",
      "\n",
      "Set parameter Username\n",
      "Academic license - for non-commercial use only - expires 2024-06-06\n",
      "Warning for adding constraints: zero or small (< 1e-13) coefficients, ignored\n",
      "Set parameter Username\n",
      "Academic license - for non-commercial use only - expires 2024-06-06\n",
      "Some missing data found. Filled with zeros.\n",
      "\n",
      "Set parameter Username\n",
      "Academic license - for non-commercial use only - expires 2024-06-06\n",
      "Warning for adding constraints: zero or small (< 1e-13) coefficients, ignored\n",
      "Set parameter Username\n",
      "Academic license - for non-commercial use only - expires 2024-06-06\n",
      "Some missing data found. Filled with zeros.\n",
      "\n",
      "Set parameter Username\n",
      "Academic license - for non-commercial use only - expires 2024-06-06\n",
      "Warning for adding constraints: zero or small (< 1e-13) coefficients, ignored\n",
      "Set parameter Username\n",
      "Academic license - for non-commercial use only - expires 2024-06-06\n",
      "Some missing data found. Filled with zeros.\n",
      "\n",
      "Set parameter Username\n",
      "Academic license - for non-commercial use only - expires 2024-06-06\n",
      "Warning for adding constraints: zero or small (< 1e-13) coefficients, ignored\n",
      "Set parameter Username\n",
      "Academic license - for non-commercial use only - expires 2024-06-06\n",
      "Some missing data found. Filled with zeros.\n",
      "\n",
      "Set parameter Username\n",
      "Academic license - for non-commercial use only - expires 2024-06-06\n",
      "Warning for adding constraints: zero or small (< 1e-13) coefficients, ignored\n",
      "Set parameter Username\n",
      "Academic license - for non-commercial use only - expires 2024-06-06\n",
      "Some missing data found. Filled with zeros.\n",
      "\n",
      "Set parameter Username\n",
      "Academic license - for non-commercial use only - expires 2024-06-06\n",
      "Warning for adding constraints: zero or small (< 1e-13) coefficients, ignored\n",
      "Set parameter Username\n",
      "Academic license - for non-commercial use only - expires 2024-06-06\n",
      "Some missing data found. Filled with zeros.\n",
      "\n",
      "Set parameter Username\n",
      "Academic license - for non-commercial use only - expires 2024-06-06\n",
      "Warning for adding constraints: zero or small (< 1e-13) coefficients, ignored\n",
      "Set parameter Username\n",
      "Academic license - for non-commercial use only - expires 2024-06-06\n",
      "Some missing data found. Filled with zeros.\n",
      "\n",
      "Set parameter Username\n",
      "Academic license - for non-commercial use only - expires 2024-06-06\n",
      "Warning for adding constraints: zero or small (< 1e-13) coefficients, ignored\n",
      "Set parameter Username\n",
      "Academic license - for non-commercial use only - expires 2024-06-06\n",
      "Some missing data found. Filled with zeros.\n",
      "\n",
      "Set parameter Username\n",
      "Academic license - for non-commercial use only - expires 2024-06-06\n",
      "Warning for adding constraints: zero or small (< 1e-13) coefficients, ignored\n",
      "Set parameter Username\n",
      "Academic license - for non-commercial use only - expires 2024-06-06\n",
      "Some missing data found. Filled with zeros.\n",
      "\n",
      "Set parameter Username\n",
      "Academic license - for non-commercial use only - expires 2024-06-06\n",
      "Warning for adding constraints: zero or small (< 1e-13) coefficients, ignored\n",
      "Set parameter Username\n",
      "Academic license - for non-commercial use only - expires 2024-06-06\n",
      "Some missing data found. Filled with zeros.\n",
      "\n",
      "Set parameter Username\n",
      "Academic license - for non-commercial use only - expires 2024-06-06\n",
      "Warning for adding constraints: zero or small (< 1e-13) coefficients, ignored\n",
      "Set parameter Username\n",
      "Academic license - for non-commercial use only - expires 2024-06-06\n",
      "Some missing data found. Filled with zeros.\n",
      "\n",
      "Set parameter Username\n",
      "Academic license - for non-commercial use only - expires 2024-06-06\n",
      "Warning for adding constraints: zero or small (< 1e-13) coefficients, ignored\n",
      "Set parameter Username\n",
      "Academic license - for non-commercial use only - expires 2024-06-06\n",
      "Some missing data found. Filled with zeros.\n",
      "\n",
      "Set parameter Username\n",
      "Academic license - for non-commercial use only - expires 2024-06-06\n",
      "Warning for adding constraints: zero or small (< 1e-13) coefficients, ignored\n",
      "Set parameter Username\n",
      "Academic license - for non-commercial use only - expires 2024-06-06\n",
      "Some missing data found. Filled with zeros.\n",
      "\n",
      "Set parameter Username\n",
      "Academic license - for non-commercial use only - expires 2024-06-06\n",
      "Warning for adding constraints: zero or small (< 1e-13) coefficients, ignored\n",
      "Set parameter Username\n",
      "Academic license - for non-commercial use only - expires 2024-06-06\n",
      "Some missing data found. Filled with zeros.\n",
      "\n",
      "Set parameter Username\n",
      "Academic license - for non-commercial use only - expires 2024-06-06\n",
      "Warning for adding constraints: zero or small (< 1e-13) coefficients, ignored\n",
      "Set parameter Username\n",
      "Academic license - for non-commercial use only - expires 2024-06-06\n",
      "Some missing data found. Filled with zeros.\n",
      "\n",
      "Set parameter Username\n",
      "Academic license - for non-commercial use only - expires 2024-06-06\n",
      "Warning for adding constraints: zero or small (< 1e-13) coefficients, ignored\n",
      "Set parameter Username\n",
      "Academic license - for non-commercial use only - expires 2024-06-06\n",
      "Some missing data found. Filled with zeros.\n",
      "\n",
      "Set parameter Username\n",
      "Academic license - for non-commercial use only - expires 2024-06-06\n",
      "Warning for adding constraints: zero or small (< 1e-13) coefficients, ignored\n",
      "Set parameter Username\n",
      "Academic license - for non-commercial use only - expires 2024-06-06\n",
      "Some missing data found. Filled with zeros.\n",
      "\n",
      "Set parameter Username\n",
      "Academic license - for non-commercial use only - expires 2024-06-06\n",
      "Warning for adding constraints: zero or small (< 1e-13) coefficients, ignored\n",
      "Set parameter Username\n",
      "Academic license - for non-commercial use only - expires 2024-06-06\n",
      "Some missing data found. Filled with zeros.\n",
      "\n",
      "Set parameter Username\n",
      "Academic license - for non-commercial use only - expires 2024-06-06\n",
      "Warning for adding constraints: zero or small (< 1e-13) coefficients, ignored\n",
      "Set parameter Username\n",
      "Academic license - for non-commercial use only - expires 2024-06-06\n",
      "Some missing data found. Filled with zeros.\n",
      "\n",
      "Set parameter Username\n",
      "Academic license - for non-commercial use only - expires 2024-06-06\n",
      "Warning for adding constraints: zero or small (< 1e-13) coefficients, ignored\n",
      "Set parameter Username\n",
      "Academic license - for non-commercial use only - expires 2024-06-06\n",
      "Some missing data found. Filled with zeros.\n",
      "\n",
      "Set parameter Username\n",
      "Academic license - for non-commercial use only - expires 2024-06-06\n",
      "Warning for adding constraints: zero or small (< 1e-13) coefficients, ignored\n",
      "Set parameter Username\n",
      "Academic license - for non-commercial use only - expires 2024-06-06\n",
      "Some missing data found. Filled with zeros.\n",
      "\n",
      "Set parameter Username\n",
      "Academic license - for non-commercial use only - expires 2024-06-06\n",
      "Warning for adding constraints: zero or small (< 1e-13) coefficients, ignored\n",
      "Set parameter Username\n",
      "Academic license - for non-commercial use only - expires 2024-06-06\n",
      "Some missing data found. Filled with zeros.\n",
      "\n",
      "Set parameter Username\n",
      "Academic license - for non-commercial use only - expires 2024-06-06\n",
      "Warning for adding constraints: zero or small (< 1e-13) coefficients, ignored\n",
      "Set parameter Username\n",
      "Academic license - for non-commercial use only - expires 2024-06-06\n",
      "Some missing data found. Filled with zeros.\n",
      "\n",
      "Set parameter Username\n",
      "Academic license - for non-commercial use only - expires 2024-06-06\n",
      "Warning for adding constraints: zero or small (< 1e-13) coefficients, ignored\n",
      "Set parameter Username\n",
      "Academic license - for non-commercial use only - expires 2024-06-06\n",
      "Some missing data found. Filled with zeros.\n",
      "\n",
      "Set parameter Username\n",
      "Academic license - for non-commercial use only - expires 2024-06-06\n",
      "Warning for adding constraints: zero or small (< 1e-13) coefficients, ignored\n",
      "Set parameter Username\n",
      "Academic license - for non-commercial use only - expires 2024-06-06\n",
      "Some missing data found. Filled with zeros.\n",
      "\n",
      "Set parameter Username\n",
      "Academic license - for non-commercial use only - expires 2024-06-06\n",
      "Warning for adding constraints: zero or small (< 1e-13) coefficients, ignored\n",
      "Set parameter Username\n",
      "Academic license - for non-commercial use only - expires 2024-06-06\n"
     ]
    }
   ],
   "source": [
    "results_2 = pd.DataFrame()\n",
    "for file in os.listdir(dir):\n",
    "    if file[-1] == 'v':\n",
    "        filepath = dir + '/' + file\n",
    "        load_data, start_date, end_date = import_load_data.get_load_data(filepath, LOAD_DATETIME_COL_NAME, LOAD_COL_NAME, DAY_FIRST)\n",
    "        load_data = load_data / 1000    # convert to MWh\n",
    "\n",
    "        one_yr_gen = gen_data.iloc[:24*365].copy().sum()\n",
    "        one_yr_load = load_data.iloc[:24*365].copy().sum()\n",
    "        gen_data_test = gen_data.copy()\n",
    "\n",
    "        for gen in gen_data_test.columns:\n",
    "            gen_data_test[gen] = gen_data_test[gen] * (one_yr_load['Load'] / one_yr_gen[gen])\n",
    "\n",
    "        combined_data = pd.concat([load_data, gen_data_test, price_data, emissions_intensity], axis='columns')\n",
    "        combined_data = combined_data.dropna(how='any', axis='rows')\n",
    "\n",
    "        combined_data_firming = firming_contracts.choose_firming_type(\n",
    "            FIRMING_CONTRACT_TYPE, combined_data, [LOAD_REGION], EXPOSURE_BOUND_UPPER, EXPOSURE_BOUND_LOWER, RETAIL_TARIFF_DETAILS\n",
    "        )\n",
    "\n",
    "        gen_info = {\n",
    "            wind_1 : 75,\n",
    "            solar_1 : 65,\n",
    "            wind_2 : 72\n",
    "        }\n",
    "\n",
    "        try:\n",
    "            opt_hybrid, percentages = hybrid.create_hybrid_generation('Pay as Produced', 'M',  100, combined_data_firming, LOAD_REGION, gen_info, '60', 0.75)\n",
    "\n",
    "            name = renames[file]\n",
    "\n",
    "            results_2.loc[name, wind_1] = percentages[wind_1]['Percent of hybrid trace']\n",
    "            results_2.loc[name, solar_1] = percentages[solar_1]['Percent of hybrid trace']\n",
    "            results_2.loc[name, wind_2] = percentages[wind_2]['Percent of hybrid trace']\n",
    "            \n",
    "        except:\n",
    "            print('Optimisation didnt work')"
   ]
  },
  {
   "cell_type": "code",
   "execution_count": 14,
   "metadata": {},
   "outputs": [
    {
     "data": {
      "image/png": "[encoded data removed]",
      "text/plain": [
       "<Figure size 2000x800 with 1 Axes>"
      ]
     },
     "metadata": {},
     "output_type": "display_data"
    }
   ],
   "source": [
    "results_2 = results_2.rename(columns={'MEWF1: WIND - ONSHORE': 'Wind 1', 'DDSF1: PHOTOVOLTAIC FLAT PANEL' : 'Solar 1', 'COOPGWF1: WIND - ONSHORE' : 'Wind 2'})\n",
    "# results_2['Name'] = results_2.index.str.split('.').str[0]\n",
    "# results_2.index = results_2['Name']\n",
    "\n",
    "results_2 = results_2.sort_values(by=['Wind 1', 'Wind 2'])\n",
    "results_2 = results_2[['Wind 1', 'Wind 2', 'Solar 1']]\n",
    "\n",
    "# fig = plt.figure(figsize=(16, 8))\n",
    "results_2.plot(kind='bar', stacked=True, figsize=(20,8), color=['dodgerblue', 'lightskyblue', 'gold'])\n",
    "plt.title('Hybrid mix for C&I loads - 2 technologies, 3 sources')\n",
    "plt.ylabel('%')\n",
    "plt.show()"
   ]
  },
  {
   "cell_type": "code",
   "execution_count": 15,
   "metadata": {},
   "outputs": [],
   "source": [
    "# Helper function to calculate yearly indexation:\n",
    "def yearly_indexation(\n",
    "        df:pd.DataFrame,\n",
    "        strike_price:float,\n",
    "        indexation:float|list[float]\n",
    ") -> pd.DataFrame:\n",
    "    \n",
    "    years = df.index.year.unique()\n",
    "    \n",
    "    # If the value given for indexation is just a float, or the list isn't as long\n",
    "    # as the number of periods, keep adding the last element of the list until\n",
    "    # the length is correct.\n",
    "    if type(indexation) != list:\n",
    "        indexation = [indexation] * len(years)\n",
    "\n",
    "    while len(indexation) < len(years):\n",
    "        indexation.append(indexation[-1])\n",
    "\n",
    "    spi_map = {}\n",
    "    for i, year in enumerate(years):\n",
    "        spi_map[year] = strike_price\n",
    "        strike_price += strike_price * indexation[i]/100\n",
    "\n",
    "    spi_map[year] = strike_price\n",
    "\n",
    "    df_with_strike_price = df.copy()\n",
    "\n",
    "    df_with_strike_price['Strike Price (Indexed)'] = df_with_strike_price.index.year\n",
    "    df_with_strike_price['Strike Price (Indexed)'] = df_with_strike_price['Strike Price (Indexed)'].map(spi_map)\n",
    "\n",
    "    return df_with_strike_price['Strike Price (Indexed)']\n",
    "\n",
    "\n",
    "def quarterly_indexation(\n",
    "        df:pd.DataFrame,\n",
    "        strike_price:float,\n",
    "        indexation:float|list[float]\n",
    ") -> pd.DataFrame:\n",
    "    \n",
    "    years = df.index.year.unique()\n",
    "\n",
    "    quarters = [(year, quarter) for year in years for quarter in range(1, 5)]\n",
    "\n",
    "    # If the value given for indexation is just a float, or the list isn't as long\n",
    "    # as the number of periods, keep adding the last element of the list until\n",
    "    # the length is correct.\n",
    "    if type(indexation) != list:\n",
    "        indexation = [indexation] * len(quarters)\n",
    "\n",
    "    while len(indexation) < len(quarters):\n",
    "        indexation.append(indexation[-1])\n",
    "\n",
    "    spi_map = {}\n",
    "    for i, quarter in enumerate(quarters):\n",
    "        spi_map[quarter] = strike_price\n",
    "        strike_price += strike_price * indexation[i]/100\n",
    "\n",
    "    spi_map[quarter] = strike_price\n",
    "\n",
    "    df_with_strike_price = df.copy()\n",
    "\n",
    "    tuples = list(zip(df_with_strike_price.index.year.values, df_with_strike_price.index.quarter.values))\n",
    "\n",
    "    df_with_strike_price['Strike Price (Indexed)'] = tuples\n",
    "    df_with_strike_price['Strike Price (Indexed)'] = df_with_strike_price['Strike Price (Indexed)'].map(spi_map)\n",
    "\n",
    "    return df_with_strike_price['Strike Price (Indexed)']\n",
    "\n",
    "\n",
    "# Functions to calculate the PPA cost outcomes under each contract type:\n",
    "def calculate_ppa(\n",
    "        df:pd.DataFrame,\n",
    "        load_region:str,\n",
    "        strike_price:float,\n",
    "        settlement_period:str,\n",
    "        indexation:float|list[float]=0, # set a default for no indexation, for simplicity\n",
    "        index_period:str='Y',   # and default period is yearly for slightly faster calcs just in case\n",
    "        floor_price:float=-1000.0,  # default value is market floor\n",
    ") -> pd.DataFrame:\n",
    "\n",
    "    # add indexed strike_price column to df:\n",
    "    indexation_calc = {'Y':yearly_indexation, 'Q':quarterly_indexation}\n",
    "    strike_prices_indexed = indexation_calc[index_period](df, strike_price, indexation)\n",
    "    \n",
    "    df['Strike Price (Indexed)'] = strike_prices_indexed.copy()\n",
    "\n",
    "    # settle around the contracted energy: strike_price - max(RRP, floor_price)\n",
    "    df['Price'] = (df['Strike Price (Indexed)'] - np.maximum(df[f'RRP: {load_region}'], floor_price))\n",
    "    df['PPA Settlement'] = df['Contracted Energy'] * (df['Strike Price (Indexed)'] - np.maximum(df[f'RRP: {load_region}'], floor_price))\n",
    "    df['PPA Value'] = df['Strike Price (Indexed)'] * df['Contracted Energy']\n",
    "\n",
    "    df_resamp = df.resample(settlement_period).sum(numeric_only=True).copy()\n",
    "\n",
    "    return df_resamp\n",
    "\n",
    "\n",
    "# Returns a TIMESERIES df\n",
    "def calculate_excess_electricity(\n",
    "        df:pd.DataFrame,\n",
    "        load_region:str,\n",
    "        settlement_period:str,\n",
    "        excess_price:float|str='Wholesale'  # need to validate this input\n",
    ") -> pd.DataFrame:\n",
    "        # then selling any excess energy (contracted, but not used by the buyer) - keeping LGCs associated if bundled!!!\n",
    "    # excess price is determined as either wholesale prices or a fixed price.\n",
    "    if type(excess_price) == str and excess_price != 'Wholesale':\n",
    "        raise ValueError('excess_price should be one of \"Wholesale\" or a float representing the fixed on-sell price.')\n",
    "\n",
    "    if excess_price == 'Wholesale':\n",
    "        df['Excess Price'] = df[f'RRP: {load_region}'].copy()\n",
    "    else:\n",
    "        df['Excess Price'] = excess_price\n",
    "\n",
    "    df['Excess Energy'] = (df['Contracted Energy'] - df['Load']).clip(lower=0.0)\n",
    "    df['Excess Energy Revenue'] = df['Excess Energy'] * df['Excess Price']\n",
    "\n",
    "    df_resamp = df.resample(settlement_period).sum(numeric_only=True).copy()\n",
    "\n",
    "    return df_resamp\n",
    "\n",
    "\n",
    "# Returns a RESAMPLED DF to the settlement period: not interval timeseries data\n",
    "def calculate_shortfall(\n",
    "        df:pd.DataFrame,\n",
    "        settlement_period:str,\n",
    "        contract_type:str,\n",
    "        shortfall_penalty:float,       # Penalty to be paid for shortfall energy - \"shortfall damages\"\n",
    "        guaranteed_percent:float,     # A percentage of load in each settlement period to contract.\n",
    ") -> pd.DataFrame:\n",
    "    \n",
    "    allowed_periods = {'Y', 'Q', 'M'}\n",
    "    if settlement_period not in allowed_periods:\n",
    "        raise ValueError(f'settlement_period should be one of {allowed_periods}.')\n",
    "\n",
    "    # resample to each period\n",
    "    # find the difference between contracted amount and delivered amount in each period\n",
    "    df_resamp = df.resample(settlement_period).sum(numeric_only=True).copy()\n",
    "\n",
    "    if contract_type in ['Pay as Produced', 'Pay as Consumed']:\n",
    "        df_resamp['Guaranteed Energy'] = df_resamp['Load'] * guaranteed_percent/100\n",
    "        df_resamp['Shortfall'] = (df_resamp['Guaranteed Energy'] - df_resamp['Contracted Energy']).clip(lower=0.0)\n",
    "        df_resamp['Shortfall'] *= shortfall_penalty\n",
    "\n",
    "    elif contract_type in ['Baseload', 'Shaped']:\n",
    "        df['Shortfall'] = (df['Contracted Energy'] - df['Hybrid']).clip(lower=0.0)\n",
    "        df['Shortfall'] *= shortfall_penalty         # IF the seller contracts other \"Replacement Energy\" - set shortfall penalty to zero.\n",
    "        df_resamp = df.resample(settlement_period).sum(numeric_only=True).copy()\n",
    "        \n",
    "    else:\n",
    "        # 24/7 PPA shortfall is based on the match % (CFE score) - if actual match < contracted % on average in each period, penalty applies to the missing %\n",
    "        df_resamp_247 = df.copy()\n",
    "        df_resamp_247['Match %'] = 0\n",
    "        df_resamp_247['Match %'] = np.where(df_resamp_247['Load'] == 0, 100, np.minimum(df_resamp_247['Contracted Energy'] / df_resamp_247['Load'] * 100, 100))\n",
    "        df_resamp_247 = df_resamp_247.resample(settlement_period).mean(numeric_only=True)\n",
    "        df_resamp_247['Shortfall %'] = (guaranteed_percent - df_resamp_247['Match %']).clip(lower=0.0)\n",
    "\n",
    "        df_resamp = pd.concat([df_resamp, df_resamp_247['Shortfall %']], axis='columns')\n",
    "        df_resamp['Shortfall'] = df_resamp['Load'] * df_resamp['Shortfall %']/100 * shortfall_penalty\n",
    "\n",
    "    return df_resamp\n",
    "\n",
    "\n",
    "# Returns RESAMPLED df to settlement period.\n",
    "def calculate_lgcs(\n",
    "    df:pd.DataFrame,\n",
    "    settlement_period:str,\n",
    "    lgc_buy_price:float,\n",
    "    lgc_sell_price:float,\n",
    "    guaranteed_percent:float\n",
    ") -> pd.DataFrame:\n",
    "\n",
    "    allowed_periods = {'Y', 'Q', 'M'}\n",
    "    if settlement_period not in allowed_periods:\n",
    "        raise ValueError(f'settlement_period should be one of {allowed_periods}.')\n",
    "\n",
    "    df_to_check = df[['Load', 'Contracted Energy']].copy()\n",
    "\n",
    "    # Find the short and long positions for each settlement period - this informs\n",
    "    # the need for penalties, purchases or sales.\n",
    "    # Note: checking against the contract\n",
    "    df_to_check = df_to_check.resample(settlement_period).sum(numeric_only=True)\n",
    "    df_to_check['Volume Difference'] = df_to_check['Load']*(guaranteed_percent/100) - df_to_check['Contracted Energy']\n",
    "    \n",
    "    # Volume difference tells how much under/over the amount of contracted load the generation in this period is\n",
    "    # The handling of these values depends on the PPA type!\n",
    "    df_to_check['LGC Undersupply'] = np.where(df_to_check['Volume Difference'] > 0, df_to_check['Volume Difference'], 0.0)\n",
    "    df_to_check['LGC Oversupply'] = np.where(df_to_check['Volume Difference'] < 0, df_to_check['Volume Difference'], 0.0)\n",
    "\n",
    "    df_to_check['LGC Undersupply'] *= lgc_buy_price\n",
    "    df_to_check['LGC Oversupply'] *= lgc_sell_price\n",
    "\n",
    "    return df_to_check\n",
    "\n",
    "\n",
    "def calculate_bill(\n",
    "        df:pd.DataFrame,\n",
    "        settlement_period:str,\n",
    "        contract_type:str,\n",
    "        load_region:str,\n",
    "        strike_price:float,\n",
    "        lgc_buy_price:float=0.0,                # Default values for all shortfall and LGC sale/purchase is $0 (so default is no penalties, no balancing).\n",
    "        lgc_sell_price:float=0.0,\n",
    "        shortfall_penalty:float=0.0,\n",
    "        guaranteed_percent:float=100.0,\n",
    "        excess_price:float|str='Wholesale',\n",
    "        indexation:float|list[float]=0,         # set a default for no indexation, for simplicity\n",
    "        index_period:str='Y',                   # and default period is yearly for slightly faster calcs just in case\n",
    "        floor_price:float=-1000.0,              # default value is market floor\n",
    ") -> pd.DataFrame:\n",
    "    # put everything together here:\n",
    "    # 1. PPA settlement costs\n",
    "    # 2. Firming costs \n",
    "    # 3. Revenue from on-sold excess RE\n",
    "    # 4. Purchase of extra LGCs\n",
    "    # 5. Sale of excess LGCs\n",
    "    # 6. Any shortfall penalty payments for LGCs or generation\n",
    "\n",
    "    results = pd.DataFrame()\n",
    "\n",
    "    # 1. PPA settlement costs: \n",
    "    ppa_costs = calculate_ppa(df, load_region, strike_price, settlement_period, indexation, index_period, floor_price)\n",
    "    results['PPA Value'] = ppa_costs['PPA Value'].copy()\n",
    "    results['PPA Settlement'] = ppa_costs['PPA Settlement'].copy()\n",
    "\n",
    "    # 2. Firming costs: TODO: call FIRMING_FUNCTION here!!!\n",
    "    firming_costs = df.copy()\n",
    "    firming_costs['Unmatched Energy'] = (firming_costs['Load'] - firming_costs['Contracted Energy']).clip(lower=0.0)\n",
    "    firming_costs['Firming Costs'] = firming_costs['Unmatched Energy'] * firming_costs[f'Firming price: {load_region}']\n",
    "    firming_costs = firming_costs.resample(settlement_period).sum(numeric_only=True)\n",
    "\n",
    "    results['Firming Costs'] = firming_costs['Firming Costs'].copy()\n",
    "\n",
    "    # 3. Revenue from on-sold excess RE:\n",
    "    excess_val = calculate_excess_electricity(df, load_region, settlement_period, excess_price)\n",
    "    results['Revenue from on-sold RE'] = -1 * excess_val['Excess Energy Revenue'].copy()\n",
    "\n",
    "    # 4. and 5. Revenue/Cost of LGCs\n",
    "    lgc_balance = calculate_lgcs(df, settlement_period, lgc_buy_price, lgc_sell_price, guaranteed_percent)\n",
    "    results['Revenue from excess LGCs'] = lgc_balance['LGC Oversupply'].copy()\n",
    "    results['Cost of shortfall LGCs'] = lgc_balance['LGC Undersupply'].copy()\n",
    "\n",
    "    # 6. Shortfall payments for energy - applied based on contract type.\n",
    "    shortfall_payment_received = calculate_shortfall(df, settlement_period, contract_type, shortfall_penalty, guaranteed_percent)\n",
    "    results['Shortfall Payments Received'] = -1 * shortfall_payment_received['Shortfall']\n",
    "\n",
    "    results['Total'] = results.sum(axis='columns')\n",
    "\n",
    "    return results\n",
    "\n",
    "\n",
    "# calculate_bill(combined_data_firming, 'Y', '24/7', LOAD_REGION, strike_price=124, lgc_buy_price=35, lgc_sell_price=20, shortfall_penalty=25, guaranteed_percent=85, excess_price=65, indexation=1, index_period='Y', floor_price=0)"
   ]
  },
  {
   "cell_type": "code",
   "execution_count": 16,
   "metadata": {},
   "outputs": [],
   "source": [
    "# Functions to calculate the other metrics: matching % hourly, annually, against hybrid and contracted traces, emissions outcomes\n",
    "\n",
    "def calc_hourly_match(\n",
    "        df:pd.DataFrame,\n",
    "        col_to_match_to:str,\n",
    "        resample_period:str,\n",
    "        load_region:str\n",
    ") -> pd.DataFrame:\n",
    "\n",
    "    matching = df.copy()\n",
    "    matching['Hourly Match %'] = 0\n",
    "    matching['Hourly Match %'] = np.where(matching['Load']==0, 100, np.minimum(matching[col_to_match_to] / matching['Load'] * 100, 100))\n",
    "\n",
    "    matching = matching.resample(resample_period).mean(numeric_only=True)\n",
    "\n",
    "    return matching['Hourly Match %']\n",
    "\n",
    "def calc_bulk_match(\n",
    "        df:pd.DataFrame,\n",
    "        col_to_match_to:str,\n",
    "        resample_period:str,\n",
    "        load_region:str\n",
    ") -> pd.DataFrame:\n",
    "\n",
    "    resampled = df.resample(resample_period).sum(numeric_only=True).copy()\n",
    "    resampled['Bulk Match %'] = resampled[col_to_match_to] / resampled['Load'] * 100\n",
    "\n",
    "    return resampled['Bulk Match %']\n",
    "\n",
    "\n",
    "def calc_unmatched_emissions(\n",
    "        df:pd.DataFrame,\n",
    "        col_to_match_to:str,\n",
    "        resample_period:str,\n",
    "        load_region:str\n",
    ") -> pd.DataFrame:\n",
    "    \n",
    "    emissions_df = df.copy()\n",
    "    emissions_df['Emissions'] = (emissions_df['Load'] - emissions_df[col_to_match_to]).clip(lower=0.0) * emissions_df[f'AEI: {load_region}']\n",
    "    emissions_df = emissions_df.resample(resample_period).sum(numeric_only=True)\n",
    "\n",
    "    return emissions_df['Emissions']\n",
    "\n",
    "\n",
    "# calc_unmatched_emissions(combined_data_firming, 'Contracted Energy', 'Y', LOAD_REGION)"
   ]
  },
  {
   "cell_type": "code",
   "execution_count": 17,
   "metadata": {},
   "outputs": [
    {
     "name": "stdout",
     "output_type": "stream",
     "text": [
      "Some missing data found. Filled with zeros.\n",
      "\n",
      "Set parameter Username\n",
      "Academic license - for non-commercial use only - expires 2024-06-06\n",
      "Warning for adding constraints: zero or small (< 1e-13) coefficients, ignored\n",
      "Set parameter Username\n",
      "Academic license - for non-commercial use only - expires 2024-06-06\n",
      "Some missing data found. Filled with zeros.\n",
      "\n",
      "Set parameter Username\n",
      "Academic license - for non-commercial use only - expires 2024-06-06\n",
      "Warning for adding constraints: zero or small (< 1e-13) coefficients, ignored\n",
      "Set parameter Username\n",
      "Academic license - for non-commercial use only - expires 2024-06-06\n",
      "Some missing data found. Filled with zeros.\n",
      "\n",
      "Set parameter Username\n",
      "Academic license - for non-commercial use only - expires 2024-06-06\n",
      "Warning for adding constraints: zero or small (< 1e-13) coefficients, ignored\n",
      "Set parameter Username\n",
      "Academic license - for non-commercial use only - expires 2024-06-06\n",
      "Some missing data found. Filled with zeros.\n",
      "\n",
      "Set parameter Username\n",
      "Academic license - for non-commercial use only - expires 2024-06-06\n",
      "Warning for adding constraints: zero or small (< 1e-13) coefficients, ignored\n",
      "Set parameter Username\n",
      "Academic license - for non-commercial use only - expires 2024-06-06\n",
      "Some missing data found. Filled with zeros.\n",
      "\n",
      "Set parameter Username\n",
      "Academic license - for non-commercial use only - expires 2024-06-06\n",
      "Warning for adding constraints: zero or small (< 1e-13) coefficients, ignored\n",
      "Set parameter Username\n",
      "Academic license - for non-commercial use only - expires 2024-06-06\n"
     ]
    }
   ],
   "source": [
    "from os.path import isfile\n",
    "\n",
    "# dir = '/Users/elliekallmier/Desktop/RA_Work/247_TRUZERO/247_ppa/five_year_data'\n",
    "\n",
    "# Find annual outcomes for the 3 technology scenario - first, with no extra management!\n",
    "results_dict = {}\n",
    "\n",
    "premiums = {\n",
    "    'Pay as Produced' : 0.05,\n",
    "    'Pay as Consumed' : 0.20,\n",
    "    '24/7' : 0.30,\n",
    "    'Baseload' : 0.25,\n",
    "    'Shaped' : 0.25\n",
    "}\n",
    "\n",
    "for file in os.listdir(dir):\n",
    "    results_dict[file] = {}\n",
    "    for ppa_type in ['Pay as Produced', 'Pay as Consumed', '24/7', 'Baseload', 'Shaped']:\n",
    "        if file[-1] == 'v':\n",
    "            results_dict[file][ppa_type] = {}\n",
    "            results_3 = pd.DataFrame()\n",
    "            filepath = dir + '/' + file\n",
    "            load_data, start_date_2, end_date_2 = import_load_data.get_load_data(filepath, LOAD_DATETIME_COL_NAME, LOAD_COL_NAME, DAY_FIRST)\n",
    "            load_data = load_data / 1000    # convert to MWh\n",
    "\n",
    "            one_yr_gen = gen_data.iloc[:24*365].copy().sum()\n",
    "            one_yr_load = load_data.iloc[:24*365].copy().sum()\n",
    "            gen_data_test = gen_data.copy()\n",
    "\n",
    "\n",
    "            if ppa_type == 'Pay as Produced':\n",
    "                for gen in gen_data_test.columns:\n",
    "                    gen_data_test[gen] = gen_data_test[gen] * (one_yr_load['Load'] / one_yr_gen[gen])\n",
    "\n",
    "            combined_data = pd.concat([load_data, gen_data_test, price_data, emissions_intensity], axis='columns')\n",
    "            combined_data = combined_data.dropna(how='any', axis='rows')\n",
    "\n",
    "            combined_data_firming = firming_contracts.choose_firming_type(\n",
    "                FIRMING_CONTRACT_TYPE, combined_data, [LOAD_REGION], EXPOSURE_BOUND_UPPER, EXPOSURE_BOUND_LOWER, RETAIL_TARIFF_DETAILS\n",
    "            )\n",
    "\n",
    "            gen_info = {\n",
    "                wind_1 : 61,\n",
    "                wind_2 : 56,\n",
    "                solar_1 : 47,\n",
    "                solar_2 : 55\n",
    "            }\n",
    "\n",
    "            opt_hybrid, percentages = hybrid.create_hybrid_generation(ppa_type, 'Y',  100, combined_data_firming, LOAD_REGION, gen_info, '60', 0.7)\n",
    "\n",
    "            results_3.loc[file, wind_1] = percentages[wind_1]['Percent of hybrid trace']\n",
    "            results_3.loc[file, wind_2] = percentages[wind_2]['Percent of hybrid trace']\n",
    "            results_3.loc[file, solar_1] = percentages[solar_1]['Percent of hybrid trace']\n",
    "            results_3.loc[file, solar_2] = percentages[solar_2]['Percent of hybrid trace']\n",
    "\n",
    "            results_dict[file][ppa_type]['Percentage mix'] = results_3.copy()\n",
    "\n",
    "            strike_price = np.sum([results_3.loc[file, generator] / 100 * gen_info[generator] for generator in [wind_1, wind_2, solar_1, solar_2]]) * (1 + premiums[ppa_type])\n",
    "                \n",
    "            combined_data_firming['Hybrid'] = opt_hybrid['Hybrid'].copy()\n",
    "\n",
    "            if 'Contracted Energy' in opt_hybrid.columns:\n",
    "                combined_data_firming['Contracted Energy'] = opt_hybrid['Contracted Energy'].copy()\n",
    "\n",
    "            else:\n",
    "                combined_data_firming['Contracted Energy'] = opt_hybrid['Hybrid'].copy()\n",
    "\n",
    "            bill_results = calculate_bill(combined_data_firming, settlement_period='Y', contract_type=ppa_type, load_region=LOAD_REGION, strike_price=strike_price, floor_price=0.0)\n",
    "\n",
    "            emissions_results = calc_unmatched_emissions(combined_data_firming, col_to_match_to='Contracted Energy', resample_period='Y', load_region=LOAD_REGION).rename('Firming Emissions (contr.)')\n",
    "            matching_bulk = calc_bulk_match(combined_data_firming, col_to_match_to='Contracted Energy', resample_period='Y', load_region=LOAD_REGION).rename('Total Match (contr.)')\n",
    "            matching_hourly = calc_hourly_match(combined_data_firming, col_to_match_to='Contracted Energy', resample_period='Y', load_region=LOAD_REGION).rename('Hourly Match (contr.)')\n",
    "\n",
    "\n",
    "            emissions_results_hyb = calc_unmatched_emissions(combined_data_firming, col_to_match_to='Hybrid', resample_period='Y', load_region=LOAD_REGION).rename('Firming Emissions (hybrid)')\n",
    "            matching_bulk_hyb = calc_bulk_match(combined_data_firming, col_to_match_to='Hybrid', resample_period='Y', load_region=LOAD_REGION).rename('Total Match (hybrid)')\n",
    "            matching_hourly_hyb = calc_hourly_match(combined_data_firming, col_to_match_to='Hybrid', resample_period='Y', load_region=LOAD_REGION).rename('Hourly Match (hybrid)')\n",
    "\n",
    "            all_results = pd.concat([bill_results, emissions_results, emissions_results_hyb, matching_bulk, matching_bulk_hyb, matching_hourly, matching_hourly_hyb], axis='columns')\n",
    "\n",
    "            results_dict[file][ppa_type]['All Results'] = all_results.copy()\n",
    "\n",
    "    break\n",
    "\n",
    "\n"
   ]
  },
  {
   "cell_type": "code",
   "execution_count": 44,
   "metadata": {},
   "outputs": [
    {
     "data": {
      "application/vnd.plotly.v1+json": {
       "config": {
        "plotlyServerURL": "https://plot.ly"
       },
       "data": [
        {
         "connector": {
          "line": {
           "color": "rgb(63, 63, 63)"
          }
         },
         "decreasing": {
          "marker": {
           "color": "navy"
          }
         },
         "increasing": {
          "marker": {
           "color": "blue"
          }
         },
         "measure": [
          "relative",
          "relative",
          "relative",
          "relative",
          "total",
          "relative",
          "relative",
          "relative",
          "relative",
          "total",
          "relative",
          "relative",
          "relative",
          "relative",
          "total",
          "relative",
          "relative",
          "relative",
          "relative",
          "total"
         ],
         "name": "Pay as Produced",
         "orientation": "v",
         "totals": {
          "marker": {
           "color": "white",
           "line": {
            "color": "dodgerblue",
            "width": 3
           }
          }
         },
         "type": "waterfall",
         "x": [
          [
           "2020",
           "2020",
           "2020",
           "2020",
           "2020",
           "2021",
           "2021",
           "2021",
           "2021",
           "2021",
           "2022",
           "2022",
           "2022",
           "2022",
           "2022",
           "2023",
           "2023",
           "2023",
           "2023",
           "2023"
          ],
          [
           "PPA Value",
           "PPA Settlement",
           "Firming Costs",
           "Revenue from on-sold RE",
           "Total",
           "PPA Value",
           "PPA Settlement",
           "Firming Costs",
           "Revenue from on-sold RE",
           "Total",
           "PPA Value",
           "PPA Settlement",
           "Firming Costs",
           "Revenue from on-sold RE",
           "Total",
           "PPA Value",
           "PPA Settlement",
           "Firming Costs",
           "Revenue from on-sold RE",
           "Total"
          ]
         ],
         "y": [
          555334.3278798937,
          196734.77266116062,
          119329.51788639478,
          -59187.08569189075,
          null,
          611131.3789666215,
          -114532.37169565137,
          161621.69053573845,
          -134464.99716672316,
          null,
          639395.060695042,
          -1291200.8004087526,
          362591.2381534691,
          -515154.5585266388,
          null,
          661752.8518993687,
          -191743.56479056075,
          205195.53293375767,
          -181442.73834015732,
          null
         ]
        },
        {
         "connector": {
          "line": {
           "color": "rgb(63, 63, 63)"
          }
         },
         "decreasing": {
          "marker": {
           "color": "gold"
          }
         },
         "increasing": {
          "marker": {
           "color": "goldenrod"
          }
         },
         "measure": [
          "relative",
          "relative",
          "relative",
          "relative",
          "total",
          "relative",
          "relative",
          "relative",
          "relative",
          "total",
          "relative",
          "relative",
          "relative",
          "relative",
          "total",
          "relative",
          "relative",
          "relative",
          "relative",
          "total"
         ],
         "name": "Pay as Consumed",
         "orientation": "v",
         "totals": {
          "marker": {
           "color": "white",
           "line": {
            "color": "orange",
            "width": 3
           }
          }
         },
         "type": "waterfall",
         "x": [
          [
           "2020",
           "2020",
           "2020",
           "2020",
           "2020",
           "2021",
           "2021",
           "2021",
           "2021",
           "2021",
           "2022",
           "2022",
           "2022",
           "2022",
           "2022",
           "2023",
           "2023",
           "2023",
           "2023",
           "2023"
          ],
          [
           "PPA Value",
           "PPA Settlement",
           "Firming Costs",
           "Revenue from on-sold RE",
           "Total",
           "PPA Value",
           "PPA Settlement",
           "Firming Costs",
           "Revenue from on-sold RE",
           "Total",
           "PPA Value",
           "PPA Settlement",
           "Firming Costs",
           "Revenue from on-sold RE",
           "Total",
           "PPA Value",
           "PPA Settlement",
           "Firming Costs",
           "Revenue from on-sold RE",
           "Total"
          ]
         ],
         "y": [
          498134.30003569846,
          196979.98292501413,
          111786.14786973843,
          0,
          null,
          525658.9352289586,
          -75603.94601110004,
          150089.8376102299,
          0,
          null,
          525882.1511008419,
          -913179.7889092732,
          337296.41276933614,
          0,
          null,
          536071.5349164966,
          -126516.87272131108,
          189841.06574012697,
          0,
          null
         ]
        },
        {
         "connector": {
          "line": {
           "color": "rgb(63, 63, 63)"
          }
         },
         "decreasing": {
          "marker": {
           "color": "darkviolet"
          }
         },
         "increasing": {
          "marker": {
           "color": "indigo"
          }
         },
         "measure": [
          "relative",
          "relative",
          "relative",
          "relative",
          "total",
          "relative",
          "relative",
          "relative",
          "relative",
          "total",
          "relative",
          "relative",
          "relative",
          "relative",
          "total",
          "relative",
          "relative",
          "relative",
          "relative",
          "total"
         ],
         "name": "24/7",
         "orientation": "v",
         "totals": {
          "marker": {
           "color": "white",
           "line": {
            "color": "purple",
            "width": 3
           }
          }
         },
         "type": "waterfall",
         "x": [
          [
           "2020",
           "2020",
           "2020",
           "2020",
           "2020",
           "2021",
           "2021",
           "2021",
           "2021",
           "2021",
           "2022",
           "2022",
           "2022",
           "2022",
           "2022",
           "2023",
           "2023",
           "2023",
           "2023",
           "2023"
          ],
          [
           "PPA Value",
           "PPA Settlement",
           "Firming Costs",
           "Revenue from on-sold RE",
           "Total",
           "PPA Value",
           "PPA Settlement",
           "Firming Costs",
           "Revenue from on-sold RE",
           "Total",
           "PPA Value",
           "PPA Settlement",
           "Firming Costs",
           "Revenue from on-sold RE",
           "Total",
           "PPA Value",
           "PPA Settlement",
           "Firming Costs",
           "Revenue from on-sold RE",
           "Total"
          ]
         ],
         "y": [
          1402931.2826149191,
          674850.7706596219,
          43061.394215099834,
          -343354.2739318599,
          null,
          1651122.43841464,
          7827.227112080842,
          48013.206886249674,
          -865410.1671650182,
          null,
          1817213.4293723153,
          -2684928.4655565433,
          109009.32711690741,
          -2729664.104815532,
          null,
          1882635.1938882845,
          -170374.94563851584,
          50559.220878742104,
          -1143995.599217844,
          null
         ]
        },
        {
         "connector": {
          "line": {
           "color": "rgb(63, 63, 63)"
          }
         },
         "decreasing": {
          "marker": {
           "color": "green"
          }
         },
         "increasing": {
          "marker": {
           "color": "limegreen"
          }
         },
         "measure": [
          "relative",
          "relative",
          "relative",
          "relative",
          "total",
          "relative",
          "relative",
          "relative",
          "relative",
          "total",
          "relative",
          "relative",
          "relative",
          "relative",
          "total",
          "relative",
          "relative",
          "relative",
          "relative",
          "total"
         ],
         "name": "Baseload",
         "orientation": "v",
         "totals": {
          "marker": {
           "color": "white",
           "line": {
            "color": "yellowgreen",
            "width": 3
           }
          }
         },
         "type": "waterfall",
         "x": [
          [
           "2020",
           "2020",
           "2020",
           "2020",
           "2020",
           "2021",
           "2021",
           "2021",
           "2021",
           "2021",
           "2022",
           "2022",
           "2022",
           "2022",
           "2022",
           "2023",
           "2023",
           "2023",
           "2023",
           "2023"
          ],
          [
           "PPA Value",
           "PPA Settlement",
           "Firming Costs",
           "Revenue from on-sold RE",
           "Total",
           "PPA Value",
           "PPA Settlement",
           "Firming Costs",
           "Revenue from on-sold RE",
           "Total",
           "PPA Value",
           "PPA Settlement",
           "Firming Costs",
           "Revenue from on-sold RE",
           "Total",
           "PPA Value",
           "PPA Settlement",
           "Firming Costs",
           "Revenue from on-sold RE",
           "Total"
          ]
         ],
         "y": [
          583081.9199999999,
          213647.90051996207,
          61553.29550617114,
          -12578.868769715726,
          null,
          581488.7999999999,
          -199782.38678333338,
          99500.46079585764,
          -46316.76295565916,
          null,
          581488.7999999999,
          -1217077.54782375,
          226906.31605561747,
          -114008.76935296298,
          null,
          581488.7999999999,
          -246974.50599833336,
          112089.34044430782,
          -40281.389908406614,
          null
         ]
        },
        {
         "connector": {
          "line": {
           "color": "rgb(63, 63, 63)"
          }
         },
         "decreasing": {
          "marker": {
           "color": "orangered"
          }
         },
         "increasing": {
          "marker": {
           "color": "red"
          }
         },
         "measure": [
          "relative",
          "relative",
          "relative",
          "relative",
          "total",
          "relative",
          "relative",
          "relative",
          "relative",
          "total",
          "relative",
          "relative",
          "relative",
          "relative",
          "total",
          "relative",
          "relative",
          "relative",
          "relative",
          "total"
         ],
         "name": "Shaped",
         "orientation": "v",
         "totals": {
          "marker": {
           "color": "white",
           "line": {
            "color": "firebrick",
            "width": 3
           }
          }
         },
         "type": "waterfall",
         "x": [
          [
           "2020",
           "2020",
           "2020",
           "2020",
           "2020",
           "2021",
           "2021",
           "2021",
           "2021",
           "2021",
           "2022",
           "2022",
           "2022",
           "2022",
           "2022",
           "2023",
           "2023",
           "2023",
           "2023",
           "2023"
          ],
          [
           "PPA Value",
           "PPA Settlement",
           "Firming Costs",
           "Revenue from on-sold RE",
           "Total",
           "PPA Value",
           "PPA Settlement",
           "Firming Costs",
           "Revenue from on-sold RE",
           "Total",
           "PPA Value",
           "PPA Settlement",
           "Firming Costs",
           "Revenue from on-sold RE",
           "Total",
           "PPA Value",
           "PPA Settlement",
           "Firming Costs",
           "Revenue from on-sold RE",
           "Total"
          ]
         ],
         "y": [
          732929.9365966996,
          282237.6483390693,
          27178.33142573251,
          -58606.4358240664,
          null,
          730927.3957863261,
          -210909.9476272189,
          46064.12198807171,
          -133398.22367613963,
          null,
          730927.3957863261,
          -1438463.268922541,
          108796.47073890727,
          -329055.0734979522,
          null,
          730927.3957863261,
          -257049.44353773285,
          55672.62888852026,
          -138563.74365409004,
          null
         ]
        }
       ],
       "layout": {
        "height": 1000,
        "showlegend": true,
        "template": {
         "data": {
          "bar": [
           {
            "error_x": {
             "color": "#2a3f5f"
            },
            "error_y": {
             "color": "#2a3f5f"
            },
            "marker": {
             "line": {
              "color": "#E5ECF6",
              "width": 0.5
             },
             "pattern": {
              "fillmode": "overlay",
              "size": 10,
              "solidity": 0.2
             }
            },
            "type": "bar"
           }
          ],
          "barpolar": [
           {
            "marker": {
             "line": {
              "color": "#E5ECF6",
              "width": 0.5
             },
             "pattern": {
              "fillmode": "overlay",
              "size": 10,
              "solidity": 0.2
             }
            },
            "type": "barpolar"
           }
          ],
          "carpet": [
           {
            "aaxis": {
             "endlinecolor": "#2a3f5f",
             "gridcolor": "white",
             "linecolor": "white",
             "minorgridcolor": "white",
             "startlinecolor": "#2a3f5f"
            },
            "baxis": {
             "endlinecolor": "#2a3f5f",
             "gridcolor": "white",
             "linecolor": "white",
             "minorgridcolor": "white",
             "startlinecolor": "#2a3f5f"
            },
            "type": "carpet"
           }
          ],
          "choropleth": [
           {
            "colorbar": {
             "outlinewidth": 0,
             "ticks": ""
            },
            "type": "choropleth"
           }
          ],
          "contour": [
           {
            "colorbar": {
             "outlinewidth": 0,
             "ticks": ""
            },
            "colorscale": [
             [
              0,
              "#0d0887"
             ],
             [
              0.1111111111111111,
              "#46039f"
             ],
             [
              0.2222222222222222,
              "#7201a8"
             ],
             [
              0.3333333333333333,
              "#9c179e"
             ],
             [
              0.4444444444444444,
              "#bd3786"
             ],
             [
              0.5555555555555556,
              "#d8576b"
             ],
             [
              0.6666666666666666,
              "#ed7953"
             ],
             [
              0.7777777777777778,
              "#fb9f3a"
             ],
             [
              0.8888888888888888,
              "#fdca26"
             ],
             [
              1,
              "#f0f921"
             ]
            ],
            "type": "contour"
           }
          ],
          "contourcarpet": [
           {
            "colorbar": {
             "outlinewidth": 0,
             "ticks": ""
            },
            "type": "contourcarpet"
           }
          ],
          "heatmap": [
           {
            "colorbar": {
             "outlinewidth": 0,
             "ticks": ""
            },
            "colorscale": [
             [
              0,
              "#0d0887"
             ],
             [
              0.1111111111111111,
              "#46039f"
             ],
             [
              0.2222222222222222,
              "#7201a8"
             ],
             [
              0.3333333333333333,
              "#9c179e"
             ],
             [
              0.4444444444444444,
              "#bd3786"
             ],
             [
              0.5555555555555556,
              "#d8576b"
             ],
             [
              0.6666666666666666,
              "#ed7953"
             ],
             [
              0.7777777777777778,
              "#fb9f3a"
             ],
             [
              0.8888888888888888,
              "#fdca26"
             ],
             [
              1,
              "#f0f921"
             ]
            ],
            "type": "heatmap"
           }
          ],
          "heatmapgl": [
           {
            "colorbar": {
             "outlinewidth": 0,
             "ticks": ""
            },
            "colorscale": [
             [
              0,
              "#0d0887"
             ],
             [
              0.1111111111111111,
              "#46039f"
             ],
             [
              0.2222222222222222,
              "#7201a8"
             ],
             [
              0.3333333333333333,
              "#9c179e"
             ],
             [
              0.4444444444444444,
              "#bd3786"
             ],
             [
              0.5555555555555556,
              "#d8576b"
             ],
             [
              0.6666666666666666,
              "#ed7953"
             ],
             [
              0.7777777777777778,
              "#fb9f3a"
             ],
             [
              0.8888888888888888,
              "#fdca26"
             ],
             [
              1,
              "#f0f921"
             ]
            ],
            "type": "heatmapgl"
           }
          ],
          "histogram": [
           {
            "marker": {
             "pattern": {
              "fillmode": "overlay",
              "size": 10,
              "solidity": 0.2
             }
            },
            "type": "histogram"
           }
          ],
          "histogram2d": [
           {
            "colorbar": {
             "outlinewidth": 0,
             "ticks": ""
            },
            "colorscale": [
             [
              0,
              "#0d0887"
             ],
             [
              0.1111111111111111,
              "#46039f"
             ],
             [
              0.2222222222222222,
              "#7201a8"
             ],
             [
              0.3333333333333333,
              "#9c179e"
             ],
             [
              0.4444444444444444,
              "#bd3786"
             ],
             [
              0.5555555555555556,
              "#d8576b"
             ],
             [
              0.6666666666666666,
              "#ed7953"
             ],
             [
              0.7777777777777778,
              "#fb9f3a"
             ],
             [
              0.8888888888888888,
              "#fdca26"
             ],
             [
              1,
              "#f0f921"
             ]
            ],
            "type": "histogram2d"
           }
          ],
          "histogram2dcontour": [
           {
            "colorbar": {
             "outlinewidth": 0,
             "ticks": ""
            },
            "colorscale": [
             [
              0,
              "#0d0887"
             ],
             [
              0.1111111111111111,
              "#46039f"
             ],
             [
              0.2222222222222222,
              "#7201a8"
             ],
             [
              0.3333333333333333,
              "#9c179e"
             ],
             [
              0.4444444444444444,
              "#bd3786"
             ],
             [
              0.5555555555555556,
              "#d8576b"
             ],
             [
              0.6666666666666666,
              "#ed7953"
             ],
             [
              0.7777777777777778,
              "#fb9f3a"
             ],
             [
              0.8888888888888888,
              "#fdca26"
             ],
             [
              1,
              "#f0f921"
             ]
            ],
            "type": "histogram2dcontour"
           }
          ],
          "mesh3d": [
           {
            "colorbar": {
             "outlinewidth": 0,
             "ticks": ""
            },
            "type": "mesh3d"
           }
          ],
          "parcoords": [
           {
            "line": {
             "colorbar": {
              "outlinewidth": 0,
              "ticks": ""
             }
            },
            "type": "parcoords"
           }
          ],
          "pie": [
           {
            "automargin": true,
            "type": "pie"
           }
          ],
          "scatter": [
           {
            "fillpattern": {
             "fillmode": "overlay",
             "size": 10,
             "solidity": 0.2
            },
            "type": "scatter"
           }
          ],
          "scatter3d": [
           {
            "line": {
             "colorbar": {
              "outlinewidth": 0,
              "ticks": ""
             }
            },
            "marker": {
             "colorbar": {
              "outlinewidth": 0,
              "ticks": ""
             }
            },
            "type": "scatter3d"
           }
          ],
          "scattercarpet": [
           {
            "marker": {
             "colorbar": {
              "outlinewidth": 0,
              "ticks": ""
             }
            },
            "type": "scattercarpet"
           }
          ],
          "scattergeo": [
           {
            "marker": {
             "colorbar": {
              "outlinewidth": 0,
              "ticks": ""
             }
            },
            "type": "scattergeo"
           }
          ],
          "scattergl": [
           {
            "marker": {
             "colorbar": {
              "outlinewidth": 0,
              "ticks": ""
             }
            },
            "type": "scattergl"
           }
          ],
          "scattermapbox": [
           {
            "marker": {
             "colorbar": {
              "outlinewidth": 0,
              "ticks": ""
             }
            },
            "type": "scattermapbox"
           }
          ],
          "scatterpolar": [
           {
            "marker": {
             "colorbar": {
              "outlinewidth": 0,
              "ticks": ""
             }
            },
            "type": "scatterpolar"
           }
          ],
          "scatterpolargl": [
           {
            "marker": {
             "colorbar": {
              "outlinewidth": 0,
              "ticks": ""
             }
            },
            "type": "scatterpolargl"
           }
          ],
          "scatterternary": [
           {
            "marker": {
             "colorbar": {
              "outlinewidth": 0,
              "ticks": ""
             }
            },
            "type": "scatterternary"
           }
          ],
          "surface": [
           {
            "colorbar": {
             "outlinewidth": 0,
             "ticks": ""
            },
            "colorscale": [
             [
              0,
              "#0d0887"
             ],
             [
              0.1111111111111111,
              "#46039f"
             ],
             [
              0.2222222222222222,
              "#7201a8"
             ],
             [
              0.3333333333333333,
              "#9c179e"
             ],
             [
              0.4444444444444444,
              "#bd3786"
             ],
             [
              0.5555555555555556,
              "#d8576b"
             ],
             [
              0.6666666666666666,
              "#ed7953"
             ],
             [
              0.7777777777777778,
              "#fb9f3a"
             ],
             [
              0.8888888888888888,
              "#fdca26"
             ],
             [
              1,
              "#f0f921"
             ]
            ],
            "type": "surface"
           }
          ],
          "table": [
           {
            "cells": {
             "fill": {
              "color": "#EBF0F8"
             },
             "line": {
              "color": "white"
             }
            },
            "header": {
             "fill": {
              "color": "#C8D4E3"
             },
             "line": {
              "color": "white"
             }
            },
            "type": "table"
           }
          ]
         },
         "layout": {
          "annotationdefaults": {
           "arrowcolor": "#2a3f5f",
           "arrowhead": 0,
           "arrowwidth": 1
          },
          "autotypenumbers": "strict",
          "coloraxis": {
           "colorbar": {
            "outlinewidth": 0,
            "ticks": ""
           }
          },
          "colorscale": {
           "diverging": [
            [
             0,
             "#8e0152"
            ],
            [
             0.1,
             "#c51b7d"
            ],
            [
             0.2,
             "#de77ae"
            ],
            [
             0.3,
             "#f1b6da"
            ],
            [
             0.4,
             "#fde0ef"
            ],
            [
             0.5,
             "#f7f7f7"
            ],
            [
             0.6,
             "#e6f5d0"
            ],
            [
             0.7,
             "#b8e186"
            ],
            [
             0.8,
             "#7fbc41"
            ],
            [
             0.9,
             "#4d9221"
            ],
            [
             1,
             "#276419"
            ]
           ],
           "sequential": [
            [
             0,
             "#0d0887"
            ],
            [
             0.1111111111111111,
             "#46039f"
            ],
            [
             0.2222222222222222,
             "#7201a8"
            ],
            [
             0.3333333333333333,
             "#9c179e"
            ],
            [
             0.4444444444444444,
             "#bd3786"
            ],
            [
             0.5555555555555556,
             "#d8576b"
            ],
            [
             0.6666666666666666,
             "#ed7953"
            ],
            [
             0.7777777777777778,
             "#fb9f3a"
            ],
            [
             0.8888888888888888,
             "#fdca26"
            ],
            [
             1,
             "#f0f921"
            ]
           ],
           "sequentialminus": [
            [
             0,
             "#0d0887"
            ],
            [
             0.1111111111111111,
             "#46039f"
            ],
            [
             0.2222222222222222,
             "#7201a8"
            ],
            [
             0.3333333333333333,
             "#9c179e"
            ],
            [
             0.4444444444444444,
             "#bd3786"
            ],
            [
             0.5555555555555556,
             "#d8576b"
            ],
            [
             0.6666666666666666,
             "#ed7953"
            ],
            [
             0.7777777777777778,
             "#fb9f3a"
            ],
            [
             0.8888888888888888,
             "#fdca26"
            ],
            [
             1,
             "#f0f921"
            ]
           ]
          },
          "colorway": [
           "#636efa",
           "#EF553B",
           "#00cc96",
           "#ab63fa",
           "#FFA15A",
           "#19d3f3",
           "#FF6692",
           "#B6E880",
           "#FF97FF",
           "#FECB52"
          ],
          "font": {
           "color": "#2a3f5f"
          },
          "geo": {
           "bgcolor": "white",
           "lakecolor": "white",
           "landcolor": "#E5ECF6",
           "showlakes": true,
           "showland": true,
           "subunitcolor": "white"
          },
          "hoverlabel": {
           "align": "left"
          },
          "hovermode": "closest",
          "mapbox": {
           "style": "light"
          },
          "paper_bgcolor": "white",
          "plot_bgcolor": "#E5ECF6",
          "polar": {
           "angularaxis": {
            "gridcolor": "white",
            "linecolor": "white",
            "ticks": ""
           },
           "bgcolor": "#E5ECF6",
           "radialaxis": {
            "gridcolor": "white",
            "linecolor": "white",
            "ticks": ""
           }
          },
          "scene": {
           "xaxis": {
            "backgroundcolor": "#E5ECF6",
            "gridcolor": "white",
            "gridwidth": 2,
            "linecolor": "white",
            "showbackground": true,
            "ticks": "",
            "zerolinecolor": "white"
           },
           "yaxis": {
            "backgroundcolor": "#E5ECF6",
            "gridcolor": "white",
            "gridwidth": 2,
            "linecolor": "white",
            "showbackground": true,
            "ticks": "",
            "zerolinecolor": "white"
           },
           "zaxis": {
            "backgroundcolor": "#E5ECF6",
            "gridcolor": "white",
            "gridwidth": 2,
            "linecolor": "white",
            "showbackground": true,
            "ticks": "",
            "zerolinecolor": "white"
           }
          },
          "shapedefaults": {
           "line": {
            "color": "#2a3f5f"
           }
          },
          "ternary": {
           "aaxis": {
            "gridcolor": "white",
            "linecolor": "white",
            "ticks": ""
           },
           "baxis": {
            "gridcolor": "white",
            "linecolor": "white",
            "ticks": ""
           },
           "bgcolor": "#E5ECF6",
           "caxis": {
            "gridcolor": "white",
            "linecolor": "white",
            "ticks": ""
           }
          },
          "title": {
           "x": 0.05
          },
          "xaxis": {
           "automargin": true,
           "gridcolor": "white",
           "linecolor": "white",
           "ticks": "",
           "title": {
            "standoff": 15
           },
           "zerolinecolor": "white",
           "zerolinewidth": 2
          },
          "yaxis": {
           "automargin": true,
           "gridcolor": "white",
           "linecolor": "white",
           "ticks": "",
           "title": {
            "standoff": 15
           },
           "zerolinecolor": "white",
           "zerolinewidth": 2
          }
         }
        },
        "title": {
         "text": "Cashflow"
        },
        "waterfallgroupgap": 0.5,
        "width": 1800
       }
      }
     },
     "metadata": {},
     "output_type": "display_data"
    }
   ],
   "source": [
    "colours = {\n",
    "    'Pay as Produced' : ['navy', 'blue', 'dodgerblue'], \n",
    "    'Pay as Consumed' : ['gold', 'goldenrod', 'orange'], \n",
    "    '24/7' : ['darkviolet', 'indigo', 'purple'], \n",
    "    'Baseload' : ['green', 'limegreen', 'yellowgreen'], \n",
    "    'Shaped' : ['orangered', 'red', 'firebrick']\n",
    "}\n",
    "\n",
    "for name, info in results_dict.items():\n",
    "    name_ = name[:-4]\n",
    "    combo_ppa_results = pd.DataFrame()\n",
    "\n",
    "    fig = go.Figure()\n",
    "    for ppa_type in ['Pay as Produced', 'Pay as Consumed', '24/7', 'Baseload', 'Shaped']:\n",
    "        result = info[ppa_type]['All Results'].copy()\n",
    "        # year_one = result[result.index.year == 2019].copy()\n",
    "\n",
    "        # fig = plt.figure(figsize=(16,6))\n",
    "        # fig = sns.lineplot(year_one[['Load', 'Contracted Energy']])\n",
    "        # plt.title(ppa_type)\n",
    "        # plt.show()\n",
    "\n",
    "        if ppa_type == '24/7':\n",
    "            ppa_name = '247'\n",
    "        else:\n",
    "            ppa_name = ppa_type\n",
    "\n",
    "\n",
    "        costs_waterfall = result[['PPA Value', 'PPA Settlement', 'Firming Costs', 'Revenue from on-sold RE']].copy()\n",
    "        costs_waterfall['Total'] = None\n",
    "\n",
    "        costs_waterfall['Year'] = costs_waterfall.index.year.astype(str)\n",
    "        costs_waterfall = costs_waterfall.set_index('Year', drop=True)\n",
    "\n",
    "        costs_waterfall = costs_waterfall.T\n",
    "        costs_waterfall['Measure'] = np.where(costs_waterfall.index == 'Total', 'total', 'relative')\n",
    "        costs_waterfall['Category'] = costs_waterfall.index\n",
    "        costs_waterfall = costs_waterfall.reset_index(drop=True)\n",
    "\n",
    "        costs_waterfall = costs_waterfall.melt(id_vars=['Category', 'Measure'])\n",
    "        colour = colours[ppa_type]\n",
    "\n",
    "        fig.add_trace(\n",
    "            go.Waterfall(\n",
    "                name = ppa_type, \n",
    "                orientation = \"v\",\n",
    "                measure = costs_waterfall['Measure'],\n",
    "                x = [costs_waterfall['Year'], costs_waterfall['Category']],\n",
    "                y = costs_waterfall['value'],\n",
    "                connector = {\"line\":{\"color\":\"rgb(63, 63, 63)\"}},\n",
    "                 # set colors for different types of bars\n",
    "                 # see https://plotly.com/python/waterfall-charts/#setting-marker-size-and-color\n",
    "                 decreasing = {\"marker\":{\"color\":colour[0]}},\n",
    "                 increasing = {\"marker\":{\"color\":colour[1]}},\n",
    "                 totals = {\"marker\":{\"color\":'white', \"line\":{\"color\":colour[2], \"width\":3}}}\n",
    "            )\n",
    "        )\n",
    "\n",
    "\n",
    "    fig.update_layout(\n",
    "            title = \"Cashflow\",\n",
    "            showlegend = True,\n",
    "            waterfallgroupgap = 0.5,\n",
    "            height=1000,\n",
    "            width=1800\n",
    "    )\n",
    "\n",
    "    fig.show()\n",
    "\n",
    "        matching = result[['Total Match (contr.)', 'Total Match (hybrid)', 'Hourly Match (contr.)','Hourly Match (hybrid)']].copy().reset_index()\n",
    "        matching = matching.melt(id_vars='DateTime')\n",
    "\n",
    "        fig = plt.figure(figsize=(12, 6))\n",
    "        fig = sns.barplot(matching, x='DateTime', y='value', hue='variable')\n",
    "        plt.title(f'Annual vs. hourly matching (%)\\n{ppa_name} - {name_}')\n",
    "        for container in fig.containers:\n",
    "            fig.bar_label(container, fmt='%.1f')\n",
    "        # path = f'charts/{name_}_{ppa_name}_matching.svg'\n",
    "        # plt.savefig(path, format='svg', bbox_inches = 'tight')\n",
    "        # # plt.show()\n",
    "        # plt.close()\n",
    "\n",
    "        plt.show()\n",
    "        plt.close()\n",
    "\n",
    "\n",
    "        costs = result[['PPA Value', 'PPA Settlement', 'Firming Costs', 'Revenue from on-sold RE',\n",
    "       'Revenue from excess LGCs', 'Cost of shortfall LGCs',\n",
    "       'Shortfall Payments Received', 'Total']].copy().reset_index()\n",
    "        costs = costs.melt(id_vars='DateTime')\n",
    "        fig = plt.figure(figsize=(12, 6))\n",
    "        fig = sns.barplot(costs, x='DateTime', y='value', hue='variable')\n",
    "        plt.title(f'All costs and revenues ($)\\n{ppa_name} - {name_}')\n",
    "        for container in fig.containers:\n",
    "            fig.bar_label(container, fmt='%.1f')\n",
    "        # path = f'charts/{name_}_{ppa_name}_costs.svg'\n",
    "        # plt.savefig(path, format='svg', bbox_inches = 'tight')\n",
    "        # # plt.show()\n",
    "        # plt.close()\n",
    "\n",
    "        plt.show()\n",
    "        plt.close()\n",
    "\n",
    "\n",
    "\n",
    "        emissions = result[['Firming Emissions (contr.)','Firming Emissions (hybrid)']].copy().reset_index()\n",
    "        emissions = emissions.melt(id_vars='DateTime')\n",
    "        fig = plt.figure(figsize=(12, 6))\n",
    "        fig = sns.barplot(emissions, x='DateTime', y='value', hue='variable')\n",
    "        plt.title(f'Firming Emissions (tCO2-e)\\n{ppa_name} - {name_}')\n",
    "        for container in fig.containers:\n",
    "            fig.bar_label(container, fmt='%.1f')\n",
    "        # path = f'charts/{name_}_{ppa_name}_emissions.svg'\n",
    "        # plt.savefig(path, format='svg', bbox_inches = 'tight')\n",
    "        ## plt.show()\n",
    "        # plt.close()\n",
    "\n",
    "        plt.show()\n",
    "        plt.close()\n",
    "\n",
    "    break\n",
    "\n"
   ]
  },
  {
   "cell_type": "code",
   "execution_count": null,
   "metadata": {},
   "outputs": [],
   "source": [
    "\n",
    "\n",
    "\n"
   ]
  }
 ],
 "metadata": {
  "kernelspec": {
   "display_name": "env",
   "language": "python",
   "name": "python3"
  },
  "language_info": {
   "codemirror_mode": {
    "name": "ipython",
    "version": 3
   },
   "file_extension": ".py",
   "mimetype": "text/x-python",
   "name": "python",
   "nbconvert_exporter": "python",
   "pygments_lexer": "ipython3",
   "version": "3.11.3"
  }
 },
 "nbformat": 4,
 "nbformat_minor": 2
}
